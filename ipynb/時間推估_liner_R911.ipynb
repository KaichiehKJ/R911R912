{
  "nbformat": 4,
  "nbformat_minor": 0,
  "metadata": {
    "colab": {
      "name": "時間推估_liner_R911.ipynb",
      "provenance": [],
      "collapsed_sections": []
    },
    "kernelspec": {
      "name": "python3",
      "display_name": "Python 3"
    },
    "language_info": {
      "name": "python"
    }
  },
  "cells": [
    {
      "cell_type": "code",
      "execution_count": 1,
      "metadata": {
        "colab": {
          "base_uri": "https://localhost:8080/"
        },
        "id": "_IkO2xAmMSPR",
        "outputId": "9ecea105-4d8a-4959-b80b-7c553279ffd1"
      },
      "outputs": [
        {
          "output_type": "stream",
          "name": "stdout",
          "text": [
            "/content/drive/MyDrive/MCUT/R911R912\n",
            "20220413\t\tcode\t     test.csv\n",
            "ARO1_pearsonr_corr.csv\tdata\t     Untitled0.ipynb\n",
            "ARO1特徵因子分析.ipynb\tdataset.pkl  Untitled1.ipynb\n",
            "ARO2_pearsonr_corr.csv\tmodel\n",
            "ARO2特徵因子分析.ipynb\tPPT\n"
          ]
        }
      ],
      "source": [
        "%cd /content/drive/MyDrive/MCUT/R911R912\n",
        "!ls"
      ]
    },
    {
      "cell_type": "code",
      "source": [
        "import pandas as pd\n",
        "import numpy as np\n",
        "from sklearn.decomposition import PCA\n",
        "import matplotlib.pyplot as plt\n",
        "import seaborn as sns\n",
        "from mpl_toolkits.mplot3d import Axes3D\n",
        "from matplotlib.colors import ListedColormap"
      ],
      "metadata": {
        "id": "BKrRqsuQMk4e"
      },
      "execution_count": 2,
      "outputs": []
    },
    {
      "cell_type": "code",
      "source": [
        "df_x = pd.read_excel(\"data/ADS47/R911R912 _明志蔡教授_R4-ARO2.xlsx\", sheet_name = \"R911R912_TAG相關錶點資料(X)\")"
      ],
      "metadata": {
        "id": "PEX_pMyIMoGY"
      },
      "execution_count": 24,
      "outputs": []
    },
    {
      "cell_type": "code",
      "source": [
        "df_x[\"Unnamed: 0\"] = range(60679)\n",
        "df_x[\"ARO2-DCS-FI91601\"] = pd.to_numeric(df_x[\"ARO2-DCS-FI91601\"], errors='coerce')\n",
        "df_x = df_x.loc[df_x[\"ARO2-DCS-FI91601\"] > 520, :]\n",
        "df_x.reset_index(inplace = True, drop = True)"
      ],
      "metadata": {
        "id": "UUKy-vrWBEfc"
      },
      "execution_count": 25,
      "outputs": []
    },
    {
      "cell_type": "code",
      "source": [
        "df = df_x[[\"Unnamed: 0\", \"ARO2-DCS-PDI91101\", \"ARO2-DCS-PDI91201\", \"ARO2-DCS-FI91601\", \"ARO2-DCS-FI91701\", \"ARO2-LIMS-S905@Water\", \"ARO2-LIMS-S907@Water\", \"ARO2-DCS-R911_2_A_FA\", \"ARO2-DCS-R911_2_L2_A\"]]\n",
        "# df[\"Unnamed: 0\"] = range(60679)\n",
        "df.loc[df[\"ARO2-LIMS-S905@Water\"] == \"Over Range\", \"ARO2-LIMS-S905@Water\"] = np.nan\n",
        "df.loc[df[\"ARO2-LIMS-S907@Water\"] == \"Over Range\", \"ARO2-LIMS-S907@Water\"] = np.nan\n",
        "# df = df[df[\"ARO2-LIMS-S905@Water\"].notnull() & df[\"ARO2-LIMS-S907@Water\"].notnull()]\n",
        "# df.columns.values[0] = \"time(hr)\"\n",
        "from tqdm import tqdm\n",
        "for i in tqdm(df.columns):\n",
        "    df[i] = pd.to_numeric(df[i], errors='coerce')\n",
        "\n",
        "df"
      ],
      "metadata": {
        "id": "wvhcDf0oOrxR",
        "colab": {
          "base_uri": "https://localhost:8080/",
          "height": 731
        },
        "outputId": "7ccc7abf-ddc8-43c4-a16f-c22ff9c385ff"
      },
      "execution_count": 26,
      "outputs": [
        {
          "output_type": "stream",
          "name": "stderr",
          "text": [
            "/usr/local/lib/python3.7/dist-packages/pandas/core/indexing.py:1817: SettingWithCopyWarning: \n",
            "A value is trying to be set on a copy of a slice from a DataFrame.\n",
            "Try using .loc[row_indexer,col_indexer] = value instead\n",
            "\n",
            "See the caveats in the documentation: https://pandas.pydata.org/pandas-docs/stable/user_guide/indexing.html#returning-a-view-versus-a-copy\n",
            "  self._setitem_single_column(loc, value, pi)\n",
            "  0%|          | 0/9 [00:00<?, ?it/s]/usr/local/lib/python3.7/dist-packages/ipykernel_launcher.py:9: SettingWithCopyWarning: \n",
            "A value is trying to be set on a copy of a slice from a DataFrame.\n",
            "Try using .loc[row_indexer,col_indexer] = value instead\n",
            "\n",
            "See the caveats in the documentation: https://pandas.pydata.org/pandas-docs/stable/user_guide/indexing.html#returning-a-view-versus-a-copy\n",
            "  if __name__ == '__main__':\n",
            "100%|██████████| 9/9 [00:00<00:00, 106.05it/s]\n"
          ]
        },
        {
          "output_type": "execute_result",
          "data": {
            "text/plain": [
              "       Unnamed: 0  ARO2-DCS-PDI91101  ARO2-DCS-PDI91201  ARO2-DCS-FI91601  \\\n",
              "0            6075           2.720909           2.891332        520.227295   \n",
              "1            6080           2.722654           3.056192        520.065247   \n",
              "2            6084           2.756148           3.021479        520.485046   \n",
              "3            6101           2.764775           3.019719        520.381592   \n",
              "4            6119           2.658875           3.087122        522.027710   \n",
              "...           ...                ...                ...               ...   \n",
              "40248       60673           3.324451           3.611359        544.754517   \n",
              "40249       60674           3.376228           3.603930        545.488342   \n",
              "40250       60676           3.397708           3.592693        541.041016   \n",
              "40251       60677           3.344053           3.705959        547.967651   \n",
              "40252       60678           3.304692           3.720822        548.199829   \n",
              "\n",
              "       ARO2-DCS-FI91701  ARO2-LIMS-S905@Water  ARO2-LIMS-S907@Water  \\\n",
              "0            536.717346                   NaN                   NaN   \n",
              "1            529.935669                   NaN                   NaN   \n",
              "2            539.257446                   NaN                   NaN   \n",
              "3            530.617065                   NaN                   NaN   \n",
              "4            535.890747                   NaN                   NaN   \n",
              "...                 ...                   ...                   ...   \n",
              "40248        637.164734                   NaN                   NaN   \n",
              "40249        629.368591                   NaN                   NaN   \n",
              "40250        636.753174                   NaN                   NaN   \n",
              "40251        638.237244                   NaN                   NaN   \n",
              "40252        634.467468                   NaN                   NaN   \n",
              "\n",
              "       ARO2-DCS-R911_2_A_FA  ARO2-DCS-R911_2_L2_A  \n",
              "0                     0.476              0.354005  \n",
              "1                     0.476              0.354005  \n",
              "2                     0.476              0.354005  \n",
              "3                     0.476              0.356976  \n",
              "4                     0.476              0.358866  \n",
              "...                     ...                   ...  \n",
              "40248                 0.502              0.372907  \n",
              "40249                 0.502              0.372907  \n",
              "40250                 0.502              0.372907  \n",
              "40251                 0.502              0.372907  \n",
              "40252                 0.502              0.372907  \n",
              "\n",
              "[40253 rows x 9 columns]"
            ],
            "text/html": [
              "\n",
              "  <div id=\"df-c5147f09-c7d9-4fc7-bd68-db48531e0abd\">\n",
              "    <div class=\"colab-df-container\">\n",
              "      <div>\n",
              "<style scoped>\n",
              "    .dataframe tbody tr th:only-of-type {\n",
              "        vertical-align: middle;\n",
              "    }\n",
              "\n",
              "    .dataframe tbody tr th {\n",
              "        vertical-align: top;\n",
              "    }\n",
              "\n",
              "    .dataframe thead th {\n",
              "        text-align: right;\n",
              "    }\n",
              "</style>\n",
              "<table border=\"1\" class=\"dataframe\">\n",
              "  <thead>\n",
              "    <tr style=\"text-align: right;\">\n",
              "      <th></th>\n",
              "      <th>Unnamed: 0</th>\n",
              "      <th>ARO2-DCS-PDI91101</th>\n",
              "      <th>ARO2-DCS-PDI91201</th>\n",
              "      <th>ARO2-DCS-FI91601</th>\n",
              "      <th>ARO2-DCS-FI91701</th>\n",
              "      <th>ARO2-LIMS-S905@Water</th>\n",
              "      <th>ARO2-LIMS-S907@Water</th>\n",
              "      <th>ARO2-DCS-R911_2_A_FA</th>\n",
              "      <th>ARO2-DCS-R911_2_L2_A</th>\n",
              "    </tr>\n",
              "  </thead>\n",
              "  <tbody>\n",
              "    <tr>\n",
              "      <th>0</th>\n",
              "      <td>6075</td>\n",
              "      <td>2.720909</td>\n",
              "      <td>2.891332</td>\n",
              "      <td>520.227295</td>\n",
              "      <td>536.717346</td>\n",
              "      <td>NaN</td>\n",
              "      <td>NaN</td>\n",
              "      <td>0.476</td>\n",
              "      <td>0.354005</td>\n",
              "    </tr>\n",
              "    <tr>\n",
              "      <th>1</th>\n",
              "      <td>6080</td>\n",
              "      <td>2.722654</td>\n",
              "      <td>3.056192</td>\n",
              "      <td>520.065247</td>\n",
              "      <td>529.935669</td>\n",
              "      <td>NaN</td>\n",
              "      <td>NaN</td>\n",
              "      <td>0.476</td>\n",
              "      <td>0.354005</td>\n",
              "    </tr>\n",
              "    <tr>\n",
              "      <th>2</th>\n",
              "      <td>6084</td>\n",
              "      <td>2.756148</td>\n",
              "      <td>3.021479</td>\n",
              "      <td>520.485046</td>\n",
              "      <td>539.257446</td>\n",
              "      <td>NaN</td>\n",
              "      <td>NaN</td>\n",
              "      <td>0.476</td>\n",
              "      <td>0.354005</td>\n",
              "    </tr>\n",
              "    <tr>\n",
              "      <th>3</th>\n",
              "      <td>6101</td>\n",
              "      <td>2.764775</td>\n",
              "      <td>3.019719</td>\n",
              "      <td>520.381592</td>\n",
              "      <td>530.617065</td>\n",
              "      <td>NaN</td>\n",
              "      <td>NaN</td>\n",
              "      <td>0.476</td>\n",
              "      <td>0.356976</td>\n",
              "    </tr>\n",
              "    <tr>\n",
              "      <th>4</th>\n",
              "      <td>6119</td>\n",
              "      <td>2.658875</td>\n",
              "      <td>3.087122</td>\n",
              "      <td>522.027710</td>\n",
              "      <td>535.890747</td>\n",
              "      <td>NaN</td>\n",
              "      <td>NaN</td>\n",
              "      <td>0.476</td>\n",
              "      <td>0.358866</td>\n",
              "    </tr>\n",
              "    <tr>\n",
              "      <th>...</th>\n",
              "      <td>...</td>\n",
              "      <td>...</td>\n",
              "      <td>...</td>\n",
              "      <td>...</td>\n",
              "      <td>...</td>\n",
              "      <td>...</td>\n",
              "      <td>...</td>\n",
              "      <td>...</td>\n",
              "      <td>...</td>\n",
              "    </tr>\n",
              "    <tr>\n",
              "      <th>40248</th>\n",
              "      <td>60673</td>\n",
              "      <td>3.324451</td>\n",
              "      <td>3.611359</td>\n",
              "      <td>544.754517</td>\n",
              "      <td>637.164734</td>\n",
              "      <td>NaN</td>\n",
              "      <td>NaN</td>\n",
              "      <td>0.502</td>\n",
              "      <td>0.372907</td>\n",
              "    </tr>\n",
              "    <tr>\n",
              "      <th>40249</th>\n",
              "      <td>60674</td>\n",
              "      <td>3.376228</td>\n",
              "      <td>3.603930</td>\n",
              "      <td>545.488342</td>\n",
              "      <td>629.368591</td>\n",
              "      <td>NaN</td>\n",
              "      <td>NaN</td>\n",
              "      <td>0.502</td>\n",
              "      <td>0.372907</td>\n",
              "    </tr>\n",
              "    <tr>\n",
              "      <th>40250</th>\n",
              "      <td>60676</td>\n",
              "      <td>3.397708</td>\n",
              "      <td>3.592693</td>\n",
              "      <td>541.041016</td>\n",
              "      <td>636.753174</td>\n",
              "      <td>NaN</td>\n",
              "      <td>NaN</td>\n",
              "      <td>0.502</td>\n",
              "      <td>0.372907</td>\n",
              "    </tr>\n",
              "    <tr>\n",
              "      <th>40251</th>\n",
              "      <td>60677</td>\n",
              "      <td>3.344053</td>\n",
              "      <td>3.705959</td>\n",
              "      <td>547.967651</td>\n",
              "      <td>638.237244</td>\n",
              "      <td>NaN</td>\n",
              "      <td>NaN</td>\n",
              "      <td>0.502</td>\n",
              "      <td>0.372907</td>\n",
              "    </tr>\n",
              "    <tr>\n",
              "      <th>40252</th>\n",
              "      <td>60678</td>\n",
              "      <td>3.304692</td>\n",
              "      <td>3.720822</td>\n",
              "      <td>548.199829</td>\n",
              "      <td>634.467468</td>\n",
              "      <td>NaN</td>\n",
              "      <td>NaN</td>\n",
              "      <td>0.502</td>\n",
              "      <td>0.372907</td>\n",
              "    </tr>\n",
              "  </tbody>\n",
              "</table>\n",
              "<p>40253 rows × 9 columns</p>\n",
              "</div>\n",
              "      <button class=\"colab-df-convert\" onclick=\"convertToInteractive('df-c5147f09-c7d9-4fc7-bd68-db48531e0abd')\"\n",
              "              title=\"Convert this dataframe to an interactive table.\"\n",
              "              style=\"display:none;\">\n",
              "        \n",
              "  <svg xmlns=\"http://www.w3.org/2000/svg\" height=\"24px\"viewBox=\"0 0 24 24\"\n",
              "       width=\"24px\">\n",
              "    <path d=\"M0 0h24v24H0V0z\" fill=\"none\"/>\n",
              "    <path d=\"M18.56 5.44l.94 2.06.94-2.06 2.06-.94-2.06-.94-.94-2.06-.94 2.06-2.06.94zm-11 1L8.5 8.5l.94-2.06 2.06-.94-2.06-.94L8.5 2.5l-.94 2.06-2.06.94zm10 10l.94 2.06.94-2.06 2.06-.94-2.06-.94-.94-2.06-.94 2.06-2.06.94z\"/><path d=\"M17.41 7.96l-1.37-1.37c-.4-.4-.92-.59-1.43-.59-.52 0-1.04.2-1.43.59L10.3 9.45l-7.72 7.72c-.78.78-.78 2.05 0 2.83L4 21.41c.39.39.9.59 1.41.59.51 0 1.02-.2 1.41-.59l7.78-7.78 2.81-2.81c.8-.78.8-2.07 0-2.86zM5.41 20L4 18.59l7.72-7.72 1.47 1.35L5.41 20z\"/>\n",
              "  </svg>\n",
              "      </button>\n",
              "      \n",
              "  <style>\n",
              "    .colab-df-container {\n",
              "      display:flex;\n",
              "      flex-wrap:wrap;\n",
              "      gap: 12px;\n",
              "    }\n",
              "\n",
              "    .colab-df-convert {\n",
              "      background-color: #E8F0FE;\n",
              "      border: none;\n",
              "      border-radius: 50%;\n",
              "      cursor: pointer;\n",
              "      display: none;\n",
              "      fill: #1967D2;\n",
              "      height: 32px;\n",
              "      padding: 0 0 0 0;\n",
              "      width: 32px;\n",
              "    }\n",
              "\n",
              "    .colab-df-convert:hover {\n",
              "      background-color: #E2EBFA;\n",
              "      box-shadow: 0px 1px 2px rgba(60, 64, 67, 0.3), 0px 1px 3px 1px rgba(60, 64, 67, 0.15);\n",
              "      fill: #174EA6;\n",
              "    }\n",
              "\n",
              "    [theme=dark] .colab-df-convert {\n",
              "      background-color: #3B4455;\n",
              "      fill: #D2E3FC;\n",
              "    }\n",
              "\n",
              "    [theme=dark] .colab-df-convert:hover {\n",
              "      background-color: #434B5C;\n",
              "      box-shadow: 0px 1px 3px 1px rgba(0, 0, 0, 0.15);\n",
              "      filter: drop-shadow(0px 1px 2px rgba(0, 0, 0, 0.3));\n",
              "      fill: #FFFFFF;\n",
              "    }\n",
              "  </style>\n",
              "\n",
              "      <script>\n",
              "        const buttonEl =\n",
              "          document.querySelector('#df-c5147f09-c7d9-4fc7-bd68-db48531e0abd button.colab-df-convert');\n",
              "        buttonEl.style.display =\n",
              "          google.colab.kernel.accessAllowed ? 'block' : 'none';\n",
              "\n",
              "        async function convertToInteractive(key) {\n",
              "          const element = document.querySelector('#df-c5147f09-c7d9-4fc7-bd68-db48531e0abd');\n",
              "          const dataTable =\n",
              "            await google.colab.kernel.invokeFunction('convertToInteractive',\n",
              "                                                     [key], {});\n",
              "          if (!dataTable) return;\n",
              "\n",
              "          const docLinkHtml = 'Like what you see? Visit the ' +\n",
              "            '<a target=\"_blank\" href=https://colab.research.google.com/notebooks/data_table.ipynb>data table notebook</a>'\n",
              "            + ' to learn more about interactive tables.';\n",
              "          element.innerHTML = '';\n",
              "          dataTable['output_type'] = 'display_data';\n",
              "          await google.colab.output.renderOutput(dataTable, element);\n",
              "          const docLink = document.createElement('div');\n",
              "          docLink.innerHTML = docLinkHtml;\n",
              "          element.appendChild(docLink);\n",
              "        }\n",
              "      </script>\n",
              "    </div>\n",
              "  </div>\n",
              "  "
            ]
          },
          "metadata": {},
          "execution_count": 26
        }
      ]
    },
    {
      "cell_type": "code",
      "source": [
        "for i in range(len(df)-1):\n",
        "  df.loc[i+1, \"btw_t\"] = df[\"Unnamed: 0\"][i+1] - df[\"Unnamed: 0\"][i]\n",
        "  df.loc[i+1, \"btw_ARO2-DCS-PDI91101\"] = df[\"ARO2-DCS-PDI91101\"][i+1] - df[\"ARO2-DCS-PDI91101\"][i]\n",
        "  df.loc[i+1, \"btw_ARO2-DCS-PDI91201\"] = df[\"ARO2-DCS-PDI91201\"][i+1] - df[\"ARO2-DCS-PDI91201\"][i]\n",
        "\n",
        "df"
      ],
      "metadata": {
        "id": "hMCvCtb1P-k7",
        "colab": {
          "base_uri": "https://localhost:8080/",
          "height": 731
        },
        "outputId": "8ac76ddf-edda-4189-9019-44592e4db595"
      },
      "execution_count": 27,
      "outputs": [
        {
          "output_type": "stream",
          "name": "stderr",
          "text": [
            "/usr/local/lib/python3.7/dist-packages/pandas/core/indexing.py:1684: SettingWithCopyWarning: \n",
            "A value is trying to be set on a copy of a slice from a DataFrame.\n",
            "Try using .loc[row_indexer,col_indexer] = value instead\n",
            "\n",
            "See the caveats in the documentation: https://pandas.pydata.org/pandas-docs/stable/user_guide/indexing.html#returning-a-view-versus-a-copy\n",
            "  self.obj[key] = infer_fill_value(value)\n",
            "/usr/local/lib/python3.7/dist-packages/pandas/core/indexing.py:1817: SettingWithCopyWarning: \n",
            "A value is trying to be set on a copy of a slice from a DataFrame.\n",
            "Try using .loc[row_indexer,col_indexer] = value instead\n",
            "\n",
            "See the caveats in the documentation: https://pandas.pydata.org/pandas-docs/stable/user_guide/indexing.html#returning-a-view-versus-a-copy\n",
            "  self._setitem_single_column(loc, value, pi)\n"
          ]
        },
        {
          "output_type": "execute_result",
          "data": {
            "text/plain": [
              "       Unnamed: 0  ARO2-DCS-PDI91101  ARO2-DCS-PDI91201  ARO2-DCS-FI91601  \\\n",
              "0            6075           2.720909           2.891332        520.227295   \n",
              "1            6080           2.722654           3.056192        520.065247   \n",
              "2            6084           2.756148           3.021479        520.485046   \n",
              "3            6101           2.764775           3.019719        520.381592   \n",
              "4            6119           2.658875           3.087122        522.027710   \n",
              "...           ...                ...                ...               ...   \n",
              "40248       60673           3.324451           3.611359        544.754517   \n",
              "40249       60674           3.376228           3.603930        545.488342   \n",
              "40250       60676           3.397708           3.592693        541.041016   \n",
              "40251       60677           3.344053           3.705959        547.967651   \n",
              "40252       60678           3.304692           3.720822        548.199829   \n",
              "\n",
              "       ARO2-DCS-FI91701  ARO2-LIMS-S905@Water  ARO2-LIMS-S907@Water  \\\n",
              "0            536.717346                   NaN                   NaN   \n",
              "1            529.935669                   NaN                   NaN   \n",
              "2            539.257446                   NaN                   NaN   \n",
              "3            530.617065                   NaN                   NaN   \n",
              "4            535.890747                   NaN                   NaN   \n",
              "...                 ...                   ...                   ...   \n",
              "40248        637.164734                   NaN                   NaN   \n",
              "40249        629.368591                   NaN                   NaN   \n",
              "40250        636.753174                   NaN                   NaN   \n",
              "40251        638.237244                   NaN                   NaN   \n",
              "40252        634.467468                   NaN                   NaN   \n",
              "\n",
              "       ARO2-DCS-R911_2_A_FA  ARO2-DCS-R911_2_L2_A  btw_t  \\\n",
              "0                     0.476              0.354005    NaN   \n",
              "1                     0.476              0.354005    5.0   \n",
              "2                     0.476              0.354005    4.0   \n",
              "3                     0.476              0.356976   17.0   \n",
              "4                     0.476              0.358866   18.0   \n",
              "...                     ...                   ...    ...   \n",
              "40248                 0.502              0.372907    1.0   \n",
              "40249                 0.502              0.372907    1.0   \n",
              "40250                 0.502              0.372907    2.0   \n",
              "40251                 0.502              0.372907    1.0   \n",
              "40252                 0.502              0.372907    1.0   \n",
              "\n",
              "       btw_ARO2-DCS-PDI91101  btw_ARO2-DCS-PDI91201  \n",
              "0                        NaN                    NaN  \n",
              "1                   0.001745               0.164860  \n",
              "2                   0.033494              -0.034713  \n",
              "3                   0.008627              -0.001760  \n",
              "4                  -0.105900               0.067403  \n",
              "...                      ...                    ...  \n",
              "40248               0.012734               0.089395  \n",
              "40249               0.051777              -0.007429  \n",
              "40250               0.021481              -0.011237  \n",
              "40251              -0.053655               0.113266  \n",
              "40252              -0.039361               0.014863  \n",
              "\n",
              "[40253 rows x 12 columns]"
            ],
            "text/html": [
              "\n",
              "  <div id=\"df-ec98bc7c-fc94-4149-9f34-b5917f2fe388\">\n",
              "    <div class=\"colab-df-container\">\n",
              "      <div>\n",
              "<style scoped>\n",
              "    .dataframe tbody tr th:only-of-type {\n",
              "        vertical-align: middle;\n",
              "    }\n",
              "\n",
              "    .dataframe tbody tr th {\n",
              "        vertical-align: top;\n",
              "    }\n",
              "\n",
              "    .dataframe thead th {\n",
              "        text-align: right;\n",
              "    }\n",
              "</style>\n",
              "<table border=\"1\" class=\"dataframe\">\n",
              "  <thead>\n",
              "    <tr style=\"text-align: right;\">\n",
              "      <th></th>\n",
              "      <th>Unnamed: 0</th>\n",
              "      <th>ARO2-DCS-PDI91101</th>\n",
              "      <th>ARO2-DCS-PDI91201</th>\n",
              "      <th>ARO2-DCS-FI91601</th>\n",
              "      <th>ARO2-DCS-FI91701</th>\n",
              "      <th>ARO2-LIMS-S905@Water</th>\n",
              "      <th>ARO2-LIMS-S907@Water</th>\n",
              "      <th>ARO2-DCS-R911_2_A_FA</th>\n",
              "      <th>ARO2-DCS-R911_2_L2_A</th>\n",
              "      <th>btw_t</th>\n",
              "      <th>btw_ARO2-DCS-PDI91101</th>\n",
              "      <th>btw_ARO2-DCS-PDI91201</th>\n",
              "    </tr>\n",
              "  </thead>\n",
              "  <tbody>\n",
              "    <tr>\n",
              "      <th>0</th>\n",
              "      <td>6075</td>\n",
              "      <td>2.720909</td>\n",
              "      <td>2.891332</td>\n",
              "      <td>520.227295</td>\n",
              "      <td>536.717346</td>\n",
              "      <td>NaN</td>\n",
              "      <td>NaN</td>\n",
              "      <td>0.476</td>\n",
              "      <td>0.354005</td>\n",
              "      <td>NaN</td>\n",
              "      <td>NaN</td>\n",
              "      <td>NaN</td>\n",
              "    </tr>\n",
              "    <tr>\n",
              "      <th>1</th>\n",
              "      <td>6080</td>\n",
              "      <td>2.722654</td>\n",
              "      <td>3.056192</td>\n",
              "      <td>520.065247</td>\n",
              "      <td>529.935669</td>\n",
              "      <td>NaN</td>\n",
              "      <td>NaN</td>\n",
              "      <td>0.476</td>\n",
              "      <td>0.354005</td>\n",
              "      <td>5.0</td>\n",
              "      <td>0.001745</td>\n",
              "      <td>0.164860</td>\n",
              "    </tr>\n",
              "    <tr>\n",
              "      <th>2</th>\n",
              "      <td>6084</td>\n",
              "      <td>2.756148</td>\n",
              "      <td>3.021479</td>\n",
              "      <td>520.485046</td>\n",
              "      <td>539.257446</td>\n",
              "      <td>NaN</td>\n",
              "      <td>NaN</td>\n",
              "      <td>0.476</td>\n",
              "      <td>0.354005</td>\n",
              "      <td>4.0</td>\n",
              "      <td>0.033494</td>\n",
              "      <td>-0.034713</td>\n",
              "    </tr>\n",
              "    <tr>\n",
              "      <th>3</th>\n",
              "      <td>6101</td>\n",
              "      <td>2.764775</td>\n",
              "      <td>3.019719</td>\n",
              "      <td>520.381592</td>\n",
              "      <td>530.617065</td>\n",
              "      <td>NaN</td>\n",
              "      <td>NaN</td>\n",
              "      <td>0.476</td>\n",
              "      <td>0.356976</td>\n",
              "      <td>17.0</td>\n",
              "      <td>0.008627</td>\n",
              "      <td>-0.001760</td>\n",
              "    </tr>\n",
              "    <tr>\n",
              "      <th>4</th>\n",
              "      <td>6119</td>\n",
              "      <td>2.658875</td>\n",
              "      <td>3.087122</td>\n",
              "      <td>522.027710</td>\n",
              "      <td>535.890747</td>\n",
              "      <td>NaN</td>\n",
              "      <td>NaN</td>\n",
              "      <td>0.476</td>\n",
              "      <td>0.358866</td>\n",
              "      <td>18.0</td>\n",
              "      <td>-0.105900</td>\n",
              "      <td>0.067403</td>\n",
              "    </tr>\n",
              "    <tr>\n",
              "      <th>...</th>\n",
              "      <td>...</td>\n",
              "      <td>...</td>\n",
              "      <td>...</td>\n",
              "      <td>...</td>\n",
              "      <td>...</td>\n",
              "      <td>...</td>\n",
              "      <td>...</td>\n",
              "      <td>...</td>\n",
              "      <td>...</td>\n",
              "      <td>...</td>\n",
              "      <td>...</td>\n",
              "      <td>...</td>\n",
              "    </tr>\n",
              "    <tr>\n",
              "      <th>40248</th>\n",
              "      <td>60673</td>\n",
              "      <td>3.324451</td>\n",
              "      <td>3.611359</td>\n",
              "      <td>544.754517</td>\n",
              "      <td>637.164734</td>\n",
              "      <td>NaN</td>\n",
              "      <td>NaN</td>\n",
              "      <td>0.502</td>\n",
              "      <td>0.372907</td>\n",
              "      <td>1.0</td>\n",
              "      <td>0.012734</td>\n",
              "      <td>0.089395</td>\n",
              "    </tr>\n",
              "    <tr>\n",
              "      <th>40249</th>\n",
              "      <td>60674</td>\n",
              "      <td>3.376228</td>\n",
              "      <td>3.603930</td>\n",
              "      <td>545.488342</td>\n",
              "      <td>629.368591</td>\n",
              "      <td>NaN</td>\n",
              "      <td>NaN</td>\n",
              "      <td>0.502</td>\n",
              "      <td>0.372907</td>\n",
              "      <td>1.0</td>\n",
              "      <td>0.051777</td>\n",
              "      <td>-0.007429</td>\n",
              "    </tr>\n",
              "    <tr>\n",
              "      <th>40250</th>\n",
              "      <td>60676</td>\n",
              "      <td>3.397708</td>\n",
              "      <td>3.592693</td>\n",
              "      <td>541.041016</td>\n",
              "      <td>636.753174</td>\n",
              "      <td>NaN</td>\n",
              "      <td>NaN</td>\n",
              "      <td>0.502</td>\n",
              "      <td>0.372907</td>\n",
              "      <td>2.0</td>\n",
              "      <td>0.021481</td>\n",
              "      <td>-0.011237</td>\n",
              "    </tr>\n",
              "    <tr>\n",
              "      <th>40251</th>\n",
              "      <td>60677</td>\n",
              "      <td>3.344053</td>\n",
              "      <td>3.705959</td>\n",
              "      <td>547.967651</td>\n",
              "      <td>638.237244</td>\n",
              "      <td>NaN</td>\n",
              "      <td>NaN</td>\n",
              "      <td>0.502</td>\n",
              "      <td>0.372907</td>\n",
              "      <td>1.0</td>\n",
              "      <td>-0.053655</td>\n",
              "      <td>0.113266</td>\n",
              "    </tr>\n",
              "    <tr>\n",
              "      <th>40252</th>\n",
              "      <td>60678</td>\n",
              "      <td>3.304692</td>\n",
              "      <td>3.720822</td>\n",
              "      <td>548.199829</td>\n",
              "      <td>634.467468</td>\n",
              "      <td>NaN</td>\n",
              "      <td>NaN</td>\n",
              "      <td>0.502</td>\n",
              "      <td>0.372907</td>\n",
              "      <td>1.0</td>\n",
              "      <td>-0.039361</td>\n",
              "      <td>0.014863</td>\n",
              "    </tr>\n",
              "  </tbody>\n",
              "</table>\n",
              "<p>40253 rows × 12 columns</p>\n",
              "</div>\n",
              "      <button class=\"colab-df-convert\" onclick=\"convertToInteractive('df-ec98bc7c-fc94-4149-9f34-b5917f2fe388')\"\n",
              "              title=\"Convert this dataframe to an interactive table.\"\n",
              "              style=\"display:none;\">\n",
              "        \n",
              "  <svg xmlns=\"http://www.w3.org/2000/svg\" height=\"24px\"viewBox=\"0 0 24 24\"\n",
              "       width=\"24px\">\n",
              "    <path d=\"M0 0h24v24H0V0z\" fill=\"none\"/>\n",
              "    <path d=\"M18.56 5.44l.94 2.06.94-2.06 2.06-.94-2.06-.94-.94-2.06-.94 2.06-2.06.94zm-11 1L8.5 8.5l.94-2.06 2.06-.94-2.06-.94L8.5 2.5l-.94 2.06-2.06.94zm10 10l.94 2.06.94-2.06 2.06-.94-2.06-.94-.94-2.06-.94 2.06-2.06.94z\"/><path d=\"M17.41 7.96l-1.37-1.37c-.4-.4-.92-.59-1.43-.59-.52 0-1.04.2-1.43.59L10.3 9.45l-7.72 7.72c-.78.78-.78 2.05 0 2.83L4 21.41c.39.39.9.59 1.41.59.51 0 1.02-.2 1.41-.59l7.78-7.78 2.81-2.81c.8-.78.8-2.07 0-2.86zM5.41 20L4 18.59l7.72-7.72 1.47 1.35L5.41 20z\"/>\n",
              "  </svg>\n",
              "      </button>\n",
              "      \n",
              "  <style>\n",
              "    .colab-df-container {\n",
              "      display:flex;\n",
              "      flex-wrap:wrap;\n",
              "      gap: 12px;\n",
              "    }\n",
              "\n",
              "    .colab-df-convert {\n",
              "      background-color: #E8F0FE;\n",
              "      border: none;\n",
              "      border-radius: 50%;\n",
              "      cursor: pointer;\n",
              "      display: none;\n",
              "      fill: #1967D2;\n",
              "      height: 32px;\n",
              "      padding: 0 0 0 0;\n",
              "      width: 32px;\n",
              "    }\n",
              "\n",
              "    .colab-df-convert:hover {\n",
              "      background-color: #E2EBFA;\n",
              "      box-shadow: 0px 1px 2px rgba(60, 64, 67, 0.3), 0px 1px 3px 1px rgba(60, 64, 67, 0.15);\n",
              "      fill: #174EA6;\n",
              "    }\n",
              "\n",
              "    [theme=dark] .colab-df-convert {\n",
              "      background-color: #3B4455;\n",
              "      fill: #D2E3FC;\n",
              "    }\n",
              "\n",
              "    [theme=dark] .colab-df-convert:hover {\n",
              "      background-color: #434B5C;\n",
              "      box-shadow: 0px 1px 3px 1px rgba(0, 0, 0, 0.15);\n",
              "      filter: drop-shadow(0px 1px 2px rgba(0, 0, 0, 0.3));\n",
              "      fill: #FFFFFF;\n",
              "    }\n",
              "  </style>\n",
              "\n",
              "      <script>\n",
              "        const buttonEl =\n",
              "          document.querySelector('#df-ec98bc7c-fc94-4149-9f34-b5917f2fe388 button.colab-df-convert');\n",
              "        buttonEl.style.display =\n",
              "          google.colab.kernel.accessAllowed ? 'block' : 'none';\n",
              "\n",
              "        async function convertToInteractive(key) {\n",
              "          const element = document.querySelector('#df-ec98bc7c-fc94-4149-9f34-b5917f2fe388');\n",
              "          const dataTable =\n",
              "            await google.colab.kernel.invokeFunction('convertToInteractive',\n",
              "                                                     [key], {});\n",
              "          if (!dataTable) return;\n",
              "\n",
              "          const docLinkHtml = 'Like what you see? Visit the ' +\n",
              "            '<a target=\"_blank\" href=https://colab.research.google.com/notebooks/data_table.ipynb>data table notebook</a>'\n",
              "            + ' to learn more about interactive tables.';\n",
              "          element.innerHTML = '';\n",
              "          dataTable['output_type'] = 'display_data';\n",
              "          await google.colab.output.renderOutput(dataTable, element);\n",
              "          const docLink = document.createElement('div');\n",
              "          docLink.innerHTML = docLinkHtml;\n",
              "          element.appendChild(docLink);\n",
              "        }\n",
              "      </script>\n",
              "    </div>\n",
              "  </div>\n",
              "  "
            ]
          },
          "metadata": {},
          "execution_count": 27
        }
      ]
    },
    {
      "cell_type": "code",
      "source": [
        "test_df = df.loc[df[\"btw_ARO2-DCS-PDI91101\"] > 0, [\"btw_ARO2-DCS-PDI91101\", \"btw_t\", \"ARO2-DCS-FI91601\", \"ARO2-LIMS-S905@Water\", \"ARO2-LIMS-S907@Water\", \"ARO2-DCS-R911_2_A_FA\", \"ARO2-DCS-R911_2_L2_A\"]].reset_index()\n",
        "test_df['ARO2-LIMS-S905@Water'].fillna(method='ffill', inplace=True)\n",
        "test_df['ARO2-LIMS-S905@Water'].fillna(method='bfill', inplace=True)\n",
        "test_df['ARO2-LIMS-S907@Water'].fillna(method='ffill', inplace=True)\n",
        "test_df['ARO2-LIMS-S907@Water'].fillna(method='bfill', inplace=True)\n",
        "test_df['ARO2-DCS-R911_2_A_FA'].fillna(method='ffill', inplace=True)\n",
        "test_df['ARO2-DCS-R911_2_A_FA'].fillna(method='bfill', inplace=True)\n",
        "test_df['ARO2-DCS-R911_2_L2_A'].fillna(method='ffill', inplace=True)\n",
        "test_df['ARO2-DCS-R911_2_L2_A'].fillna(method='bfill', inplace=True)"
      ],
      "metadata": {
        "id": "7x2-Exlwo_xU"
      },
      "execution_count": 28,
      "outputs": []
    },
    {
      "cell_type": "code",
      "source": [
        "N = 0\n",
        "for i in range(len(test_df)):\n",
        "  if test_df[\"index\"][i+1] == test_df[\"index\"][i]+1:\n",
        "    N = N + 1\n",
        "  else:\n",
        "    N = N + 1\n",
        "    test_df.loc[i+1-N, \"time\"] = N\n",
        "    test_df.loc[i+1-N, \"mean_ARO2-DCS-PDI91101\"] = test_df.loc[i+1-N:i+1, \"btw_ARO2-DCS-PDI91101\"].mean()\n",
        "    N = 0"
      ],
      "metadata": {
        "id": "cbDm3aN0pkd8",
        "colab": {
          "base_uri": "https://localhost:8080/",
          "height": 437
        },
        "outputId": "1d48e082-f2d9-4d52-d56c-e0d63ab45db0"
      },
      "execution_count": 29,
      "outputs": [
        {
          "output_type": "error",
          "ename": "KeyError",
          "evalue": "ignored",
          "traceback": [
            "\u001b[0;31m---------------------------------------------------------------------------\u001b[0m",
            "\u001b[0;31mValueError\u001b[0m                                Traceback (most recent call last)",
            "\u001b[0;32m/usr/local/lib/python3.7/dist-packages/pandas/core/indexes/range.py\u001b[0m in \u001b[0;36mget_loc\u001b[0;34m(self, key, method, tolerance)\u001b[0m\n\u001b[1;32m    384\u001b[0m                 \u001b[0;32mtry\u001b[0m\u001b[0;34m:\u001b[0m\u001b[0;34m\u001b[0m\u001b[0;34m\u001b[0m\u001b[0m\n\u001b[0;32m--> 385\u001b[0;31m                     \u001b[0;32mreturn\u001b[0m \u001b[0mself\u001b[0m\u001b[0;34m.\u001b[0m\u001b[0m_range\u001b[0m\u001b[0;34m.\u001b[0m\u001b[0mindex\u001b[0m\u001b[0;34m(\u001b[0m\u001b[0mnew_key\u001b[0m\u001b[0;34m)\u001b[0m\u001b[0;34m\u001b[0m\u001b[0;34m\u001b[0m\u001b[0m\n\u001b[0m\u001b[1;32m    386\u001b[0m                 \u001b[0;32mexcept\u001b[0m \u001b[0mValueError\u001b[0m \u001b[0;32mas\u001b[0m \u001b[0merr\u001b[0m\u001b[0;34m:\u001b[0m\u001b[0;34m\u001b[0m\u001b[0;34m\u001b[0m\u001b[0m\n",
            "\u001b[0;31mValueError\u001b[0m: 19824 is not in range",
            "\nThe above exception was the direct cause of the following exception:\n",
            "\u001b[0;31mKeyError\u001b[0m                                  Traceback (most recent call last)",
            "\u001b[0;32m<ipython-input-29-e6710f6dc6a9>\u001b[0m in \u001b[0;36m<module>\u001b[0;34m()\u001b[0m\n\u001b[1;32m      1\u001b[0m \u001b[0mN\u001b[0m \u001b[0;34m=\u001b[0m \u001b[0;36m0\u001b[0m\u001b[0;34m\u001b[0m\u001b[0;34m\u001b[0m\u001b[0m\n\u001b[1;32m      2\u001b[0m \u001b[0;32mfor\u001b[0m \u001b[0mi\u001b[0m \u001b[0;32min\u001b[0m \u001b[0mrange\u001b[0m\u001b[0;34m(\u001b[0m\u001b[0mlen\u001b[0m\u001b[0;34m(\u001b[0m\u001b[0mtest_df\u001b[0m\u001b[0;34m)\u001b[0m\u001b[0;34m)\u001b[0m\u001b[0;34m:\u001b[0m\u001b[0;34m\u001b[0m\u001b[0;34m\u001b[0m\u001b[0m\n\u001b[0;32m----> 3\u001b[0;31m   \u001b[0;32mif\u001b[0m \u001b[0mtest_df\u001b[0m\u001b[0;34m[\u001b[0m\u001b[0;34m\"index\"\u001b[0m\u001b[0;34m]\u001b[0m\u001b[0;34m[\u001b[0m\u001b[0mi\u001b[0m\u001b[0;34m+\u001b[0m\u001b[0;36m1\u001b[0m\u001b[0;34m]\u001b[0m \u001b[0;34m==\u001b[0m \u001b[0mtest_df\u001b[0m\u001b[0;34m[\u001b[0m\u001b[0;34m\"index\"\u001b[0m\u001b[0;34m]\u001b[0m\u001b[0;34m[\u001b[0m\u001b[0mi\u001b[0m\u001b[0;34m]\u001b[0m\u001b[0;34m+\u001b[0m\u001b[0;36m1\u001b[0m\u001b[0;34m:\u001b[0m\u001b[0;34m\u001b[0m\u001b[0;34m\u001b[0m\u001b[0m\n\u001b[0m\u001b[1;32m      4\u001b[0m     \u001b[0mN\u001b[0m \u001b[0;34m=\u001b[0m \u001b[0mN\u001b[0m \u001b[0;34m+\u001b[0m \u001b[0;36m1\u001b[0m\u001b[0;34m\u001b[0m\u001b[0;34m\u001b[0m\u001b[0m\n\u001b[1;32m      5\u001b[0m   \u001b[0;32melse\u001b[0m\u001b[0;34m:\u001b[0m\u001b[0;34m\u001b[0m\u001b[0;34m\u001b[0m\u001b[0m\n",
            "\u001b[0;32m/usr/local/lib/python3.7/dist-packages/pandas/core/series.py\u001b[0m in \u001b[0;36m__getitem__\u001b[0;34m(self, key)\u001b[0m\n\u001b[1;32m    940\u001b[0m \u001b[0;34m\u001b[0m\u001b[0m\n\u001b[1;32m    941\u001b[0m         \u001b[0;32melif\u001b[0m \u001b[0mkey_is_scalar\u001b[0m\u001b[0;34m:\u001b[0m\u001b[0;34m\u001b[0m\u001b[0;34m\u001b[0m\u001b[0m\n\u001b[0;32m--> 942\u001b[0;31m             \u001b[0;32mreturn\u001b[0m \u001b[0mself\u001b[0m\u001b[0;34m.\u001b[0m\u001b[0m_get_value\u001b[0m\u001b[0;34m(\u001b[0m\u001b[0mkey\u001b[0m\u001b[0;34m)\u001b[0m\u001b[0;34m\u001b[0m\u001b[0;34m\u001b[0m\u001b[0m\n\u001b[0m\u001b[1;32m    943\u001b[0m \u001b[0;34m\u001b[0m\u001b[0m\n\u001b[1;32m    944\u001b[0m         \u001b[0;32mif\u001b[0m \u001b[0mis_hashable\u001b[0m\u001b[0;34m(\u001b[0m\u001b[0mkey\u001b[0m\u001b[0;34m)\u001b[0m\u001b[0;34m:\u001b[0m\u001b[0;34m\u001b[0m\u001b[0;34m\u001b[0m\u001b[0m\n",
            "\u001b[0;32m/usr/local/lib/python3.7/dist-packages/pandas/core/series.py\u001b[0m in \u001b[0;36m_get_value\u001b[0;34m(self, label, takeable)\u001b[0m\n\u001b[1;32m   1049\u001b[0m \u001b[0;34m\u001b[0m\u001b[0m\n\u001b[1;32m   1050\u001b[0m         \u001b[0;31m# Similar to Index.get_value, but we do not fall back to positional\u001b[0m\u001b[0;34m\u001b[0m\u001b[0;34m\u001b[0m\u001b[0;34m\u001b[0m\u001b[0m\n\u001b[0;32m-> 1051\u001b[0;31m         \u001b[0mloc\u001b[0m \u001b[0;34m=\u001b[0m \u001b[0mself\u001b[0m\u001b[0;34m.\u001b[0m\u001b[0mindex\u001b[0m\u001b[0;34m.\u001b[0m\u001b[0mget_loc\u001b[0m\u001b[0;34m(\u001b[0m\u001b[0mlabel\u001b[0m\u001b[0;34m)\u001b[0m\u001b[0;34m\u001b[0m\u001b[0;34m\u001b[0m\u001b[0m\n\u001b[0m\u001b[1;32m   1052\u001b[0m         \u001b[0;32mreturn\u001b[0m \u001b[0mself\u001b[0m\u001b[0;34m.\u001b[0m\u001b[0mindex\u001b[0m\u001b[0;34m.\u001b[0m\u001b[0m_get_values_for_loc\u001b[0m\u001b[0;34m(\u001b[0m\u001b[0mself\u001b[0m\u001b[0;34m,\u001b[0m \u001b[0mloc\u001b[0m\u001b[0;34m,\u001b[0m \u001b[0mlabel\u001b[0m\u001b[0;34m)\u001b[0m\u001b[0;34m\u001b[0m\u001b[0;34m\u001b[0m\u001b[0m\n\u001b[1;32m   1053\u001b[0m \u001b[0;34m\u001b[0m\u001b[0m\n",
            "\u001b[0;32m/usr/local/lib/python3.7/dist-packages/pandas/core/indexes/range.py\u001b[0m in \u001b[0;36mget_loc\u001b[0;34m(self, key, method, tolerance)\u001b[0m\n\u001b[1;32m    385\u001b[0m                     \u001b[0;32mreturn\u001b[0m \u001b[0mself\u001b[0m\u001b[0;34m.\u001b[0m\u001b[0m_range\u001b[0m\u001b[0;34m.\u001b[0m\u001b[0mindex\u001b[0m\u001b[0;34m(\u001b[0m\u001b[0mnew_key\u001b[0m\u001b[0;34m)\u001b[0m\u001b[0;34m\u001b[0m\u001b[0;34m\u001b[0m\u001b[0m\n\u001b[1;32m    386\u001b[0m                 \u001b[0;32mexcept\u001b[0m \u001b[0mValueError\u001b[0m \u001b[0;32mas\u001b[0m \u001b[0merr\u001b[0m\u001b[0;34m:\u001b[0m\u001b[0;34m\u001b[0m\u001b[0;34m\u001b[0m\u001b[0m\n\u001b[0;32m--> 387\u001b[0;31m                     \u001b[0;32mraise\u001b[0m \u001b[0mKeyError\u001b[0m\u001b[0;34m(\u001b[0m\u001b[0mkey\u001b[0m\u001b[0;34m)\u001b[0m \u001b[0;32mfrom\u001b[0m \u001b[0merr\u001b[0m\u001b[0;34m\u001b[0m\u001b[0;34m\u001b[0m\u001b[0m\n\u001b[0m\u001b[1;32m    388\u001b[0m             \u001b[0;32mraise\u001b[0m \u001b[0mKeyError\u001b[0m\u001b[0;34m(\u001b[0m\u001b[0mkey\u001b[0m\u001b[0;34m)\u001b[0m\u001b[0;34m\u001b[0m\u001b[0;34m\u001b[0m\u001b[0m\n\u001b[1;32m    389\u001b[0m         \u001b[0;32mreturn\u001b[0m \u001b[0msuper\u001b[0m\u001b[0;34m(\u001b[0m\u001b[0;34m)\u001b[0m\u001b[0;34m.\u001b[0m\u001b[0mget_loc\u001b[0m\u001b[0;34m(\u001b[0m\u001b[0mkey\u001b[0m\u001b[0;34m,\u001b[0m \u001b[0mmethod\u001b[0m\u001b[0;34m=\u001b[0m\u001b[0mmethod\u001b[0m\u001b[0;34m,\u001b[0m \u001b[0mtolerance\u001b[0m\u001b[0;34m=\u001b[0m\u001b[0mtolerance\u001b[0m\u001b[0;34m)\u001b[0m\u001b[0;34m\u001b[0m\u001b[0;34m\u001b[0m\u001b[0m\n",
            "\u001b[0;31mKeyError\u001b[0m: 19824"
          ]
        }
      ]
    },
    {
      "cell_type": "code",
      "source": [
        "row = test_df[test_df[\"time\"].notnull()].index.tolist()\n",
        "for i in range(len(row)):\n",
        "  test_df.loc[row[i], \"mean_ARO2-DCS-FI91601\"] = test_df.loc[row[i]:row[i+1], \"ARO2-DCS-FI91601\"].mean()\n",
        "  test_df.loc[row[i], \"mean_ARO2-LIMS-S905@Water\"] = test_df.loc[row[i]:row[i+1], \"ARO2-LIMS-S905@Water\"].mean()\n",
        "  test_df.loc[row[i], \"mean_ARO2-LIMS-S907@Water\"] = test_df.loc[row[i]:row[i+1], \"ARO2-LIMS-S907@Water\"].mean()\n",
        "  test_df.loc[row[i], \"mean_ARO2-DCS-R911_2_A_FA\"] = test_df.loc[row[i]:row[i+1], \"ARO2-DCS-R911_2_A_FA\"].mean()\n",
        "  test_df.loc[row[i], \"mean_ARO2-DCS-R911_2_L2_A\"] = test_df.loc[row[i]:row[i+1], \"ARO2-DCS-R911_2_L2_A\"].mean()"
      ],
      "metadata": {
        "id": "nspJnGIyJoy2",
        "colab": {
          "base_uri": "https://localhost:8080/",
          "height": 240
        },
        "outputId": "119ab51b-d7c6-4e45-8e1b-d997ed0e2908"
      },
      "execution_count": 30,
      "outputs": [
        {
          "output_type": "error",
          "ename": "IndexError",
          "evalue": "ignored",
          "traceback": [
            "\u001b[0;31m---------------------------------------------------------------------------\u001b[0m",
            "\u001b[0;31mIndexError\u001b[0m                                Traceback (most recent call last)",
            "\u001b[0;32m<ipython-input-30-26f8afca4132>\u001b[0m in \u001b[0;36m<module>\u001b[0;34m()\u001b[0m\n\u001b[1;32m      1\u001b[0m \u001b[0mrow\u001b[0m \u001b[0;34m=\u001b[0m \u001b[0mtest_df\u001b[0m\u001b[0;34m[\u001b[0m\u001b[0mtest_df\u001b[0m\u001b[0;34m[\u001b[0m\u001b[0;34m\"time\"\u001b[0m\u001b[0;34m]\u001b[0m\u001b[0;34m.\u001b[0m\u001b[0mnotnull\u001b[0m\u001b[0;34m(\u001b[0m\u001b[0;34m)\u001b[0m\u001b[0;34m]\u001b[0m\u001b[0;34m.\u001b[0m\u001b[0mindex\u001b[0m\u001b[0;34m.\u001b[0m\u001b[0mtolist\u001b[0m\u001b[0;34m(\u001b[0m\u001b[0;34m)\u001b[0m\u001b[0;34m\u001b[0m\u001b[0;34m\u001b[0m\u001b[0m\n\u001b[1;32m      2\u001b[0m \u001b[0;32mfor\u001b[0m \u001b[0mi\u001b[0m \u001b[0;32min\u001b[0m \u001b[0mrange\u001b[0m\u001b[0;34m(\u001b[0m\u001b[0mlen\u001b[0m\u001b[0;34m(\u001b[0m\u001b[0mrow\u001b[0m\u001b[0;34m)\u001b[0m\u001b[0;34m)\u001b[0m\u001b[0;34m:\u001b[0m\u001b[0;34m\u001b[0m\u001b[0;34m\u001b[0m\u001b[0m\n\u001b[0;32m----> 3\u001b[0;31m   \u001b[0mtest_df\u001b[0m\u001b[0;34m.\u001b[0m\u001b[0mloc\u001b[0m\u001b[0;34m[\u001b[0m\u001b[0mrow\u001b[0m\u001b[0;34m[\u001b[0m\u001b[0mi\u001b[0m\u001b[0;34m]\u001b[0m\u001b[0;34m,\u001b[0m \u001b[0;34m\"mean_ARO2-DCS-FI91601\"\u001b[0m\u001b[0;34m]\u001b[0m \u001b[0;34m=\u001b[0m \u001b[0mtest_df\u001b[0m\u001b[0;34m.\u001b[0m\u001b[0mloc\u001b[0m\u001b[0;34m[\u001b[0m\u001b[0mrow\u001b[0m\u001b[0;34m[\u001b[0m\u001b[0mi\u001b[0m\u001b[0;34m]\u001b[0m\u001b[0;34m:\u001b[0m\u001b[0mrow\u001b[0m\u001b[0;34m[\u001b[0m\u001b[0mi\u001b[0m\u001b[0;34m+\u001b[0m\u001b[0;36m1\u001b[0m\u001b[0;34m]\u001b[0m\u001b[0;34m,\u001b[0m \u001b[0;34m\"ARO2-DCS-FI91601\"\u001b[0m\u001b[0;34m]\u001b[0m\u001b[0;34m.\u001b[0m\u001b[0mmean\u001b[0m\u001b[0;34m(\u001b[0m\u001b[0;34m)\u001b[0m\u001b[0;34m\u001b[0m\u001b[0;34m\u001b[0m\u001b[0m\n\u001b[0m\u001b[1;32m      4\u001b[0m   \u001b[0mtest_df\u001b[0m\u001b[0;34m.\u001b[0m\u001b[0mloc\u001b[0m\u001b[0;34m[\u001b[0m\u001b[0mrow\u001b[0m\u001b[0;34m[\u001b[0m\u001b[0mi\u001b[0m\u001b[0;34m]\u001b[0m\u001b[0;34m,\u001b[0m \u001b[0;34m\"mean_ARO2-LIMS-S905@Water\"\u001b[0m\u001b[0;34m]\u001b[0m \u001b[0;34m=\u001b[0m \u001b[0mtest_df\u001b[0m\u001b[0;34m.\u001b[0m\u001b[0mloc\u001b[0m\u001b[0;34m[\u001b[0m\u001b[0mrow\u001b[0m\u001b[0;34m[\u001b[0m\u001b[0mi\u001b[0m\u001b[0;34m]\u001b[0m\u001b[0;34m:\u001b[0m\u001b[0mrow\u001b[0m\u001b[0;34m[\u001b[0m\u001b[0mi\u001b[0m\u001b[0;34m+\u001b[0m\u001b[0;36m1\u001b[0m\u001b[0;34m]\u001b[0m\u001b[0;34m,\u001b[0m \u001b[0;34m\"ARO2-LIMS-S905@Water\"\u001b[0m\u001b[0;34m]\u001b[0m\u001b[0;34m.\u001b[0m\u001b[0mmean\u001b[0m\u001b[0;34m(\u001b[0m\u001b[0;34m)\u001b[0m\u001b[0;34m\u001b[0m\u001b[0;34m\u001b[0m\u001b[0m\n\u001b[1;32m      5\u001b[0m   \u001b[0mtest_df\u001b[0m\u001b[0;34m.\u001b[0m\u001b[0mloc\u001b[0m\u001b[0;34m[\u001b[0m\u001b[0mrow\u001b[0m\u001b[0;34m[\u001b[0m\u001b[0mi\u001b[0m\u001b[0;34m]\u001b[0m\u001b[0;34m,\u001b[0m \u001b[0;34m\"mean_ARO2-LIMS-S907@Water\"\u001b[0m\u001b[0;34m]\u001b[0m \u001b[0;34m=\u001b[0m \u001b[0mtest_df\u001b[0m\u001b[0;34m.\u001b[0m\u001b[0mloc\u001b[0m\u001b[0;34m[\u001b[0m\u001b[0mrow\u001b[0m\u001b[0;34m[\u001b[0m\u001b[0mi\u001b[0m\u001b[0;34m]\u001b[0m\u001b[0;34m:\u001b[0m\u001b[0mrow\u001b[0m\u001b[0;34m[\u001b[0m\u001b[0mi\u001b[0m\u001b[0;34m+\u001b[0m\u001b[0;36m1\u001b[0m\u001b[0;34m]\u001b[0m\u001b[0;34m,\u001b[0m \u001b[0;34m\"ARO2-LIMS-S907@Water\"\u001b[0m\u001b[0;34m]\u001b[0m\u001b[0;34m.\u001b[0m\u001b[0mmean\u001b[0m\u001b[0;34m(\u001b[0m\u001b[0;34m)\u001b[0m\u001b[0;34m\u001b[0m\u001b[0;34m\u001b[0m\u001b[0m\n",
            "\u001b[0;31mIndexError\u001b[0m: list index out of range"
          ]
        }
      ]
    },
    {
      "cell_type": "code",
      "source": [
        "liner_df = test_df[test_df[\"time\"].notnull()]\n",
        "liner_df = liner_df.dropna()"
      ],
      "metadata": {
        "id": "hxMg7ik9QVj-"
      },
      "execution_count": 31,
      "outputs": []
    },
    {
      "cell_type": "markdown",
      "source": [
        "Linear"
      ],
      "metadata": {
        "id": "mJD6bJqtxooM"
      }
    },
    {
      "cell_type": "code",
      "source": [
        "# importing train_test_split from sklearn\n",
        "from sklearn.linear_model import LinearRegression\n",
        "from sklearn.model_selection import train_test_split\n",
        "from sklearn.metrics import r2_score\n",
        "from sklearn.metrics import mean_squared_error\n",
        "\n",
        "# splitting the data\n",
        "x_train, x_test, y_train, y_test = train_test_split(liner_df[[\"time\", \"mean_ARO2-DCS-FI91601\", \"mean_ARO2-LIMS-S905@Water\", \"mean_ARO2-LIMS-S907@Water\", \"mean_ARO2-DCS-R911_2_A_FA\", \"mean_ARO2-DCS-R911_2_L2_A\"]], liner_df[\"mean_ARO2-DCS-PDI91101\"], test_size = 0.2, random_state = 42)\n",
        "# x_train, x_test, y_train, y_test = train_test_split(liner_df[[\"time\", \"mean_ARO2-DCS-FI91601\"]], liner_df[\"mean_ARO2-DCS-PDI91101\"], test_size = 0.2, random_state = 42)\n",
        "\n",
        "\n",
        "LR = LinearRegression()\n",
        "LR.fit(x_train,y_train)\n",
        "y_prediction =  LR.predict(x_test)"
      ],
      "metadata": {
        "id": "7QQu0iWNQz-D"
      },
      "execution_count": 32,
      "outputs": []
    },
    {
      "cell_type": "code",
      "source": [
        "# predicting the accuracy score\n",
        "score=r2_score(y_test, y_prediction)\n",
        "print(\"r2 socre:\",score)\n",
        "print(\"mean_sqrd_error:\",mean_squared_error(y_test,y_prediction))\n",
        "print(\"root_mean_squared error:\",np.sqrt(mean_squared_error(y_test,y_prediction)))"
      ],
      "metadata": {
        "colab": {
          "base_uri": "https://localhost:8080/"
        },
        "id": "Ms9FDYK6R8cJ",
        "outputId": "b7d7f549-849a-4092-c8ef-be607091474d"
      },
      "execution_count": 33,
      "outputs": [
        {
          "output_type": "stream",
          "name": "stdout",
          "text": [
            "r2 socre: 0.6025987955188067\n",
            "mean_sqrd_error: 0.0022174724893566965\n",
            "root_mean_squared error: 0.04709004660601534\n"
          ]
        }
      ]
    },
    {
      "cell_type": "code",
      "source": [
        "print(\"Model slope:    \", LR.coef_)\n",
        "print(\"Model intercept:\", LR.intercept_)"
      ],
      "metadata": {
        "colab": {
          "base_uri": "https://localhost:8080/"
        },
        "id": "zB1CNVfSTl32",
        "outputId": "89fd61e3-ec25-4aee-e37f-4f2a7463e81c"
      },
      "execution_count": 34,
      "outputs": [
        {
          "output_type": "stream",
          "name": "stdout",
          "text": [
            "Model slope:     [ 1.03981567e-03 -3.51338788e-03  7.10597393e-05  4.26143858e-05\n",
            " -3.99965774e+00  2.31172129e-01]\n",
            "Model intercept: 3.8818439356960286\n"
          ]
        }
      ]
    },
    {
      "cell_type": "code",
      "source": [
        "\"\"\" \n",
        "R911 = 0.00020522 * time + -0.00100263 * mean_ARO2-DCS-FI91601 + 0.00033328 * mean_ARO2-LIMS-S905@Water \n",
        "     + 0.00058329 * mean_ARO2-LIMS-S907@Water + 0.5846349992679343\n",
        "\"\"\""
      ],
      "metadata": {
        "id": "UfO4CrZKT942",
        "colab": {
          "base_uri": "https://localhost:8080/",
          "height": 35
        },
        "outputId": "960caed9-0ef6-42a9-cf8b-daabc17aace6"
      },
      "execution_count": null,
      "outputs": [
        {
          "output_type": "execute_result",
          "data": {
            "text/plain": [
              "' \\nR911 = 0.00020522 * time + -0.00100263 * mean_ARO2-DCS-FI91601 + 0.00033328 * mean_ARO2-LIMS-S905@Water \\n     + 0.00058329 * mean_ARO2-LIMS-S907@Water + 0.5846349992679343\\n'"
            ],
            "application/vnd.google.colaboratory.intrinsic+json": {
              "type": "string"
            }
          },
          "metadata": {},
          "execution_count": 31
        }
      ]
    },
    {
      "cell_type": "markdown",
      "source": [
        "Lasso"
      ],
      "metadata": {
        "id": "oIlNlB1Nxrzv"
      }
    },
    {
      "cell_type": "code",
      "source": [
        "# importing train_test_split from sklearn\n",
        "from sklearn import linear_model\n",
        "from sklearn.model_selection import train_test_split\n",
        "from sklearn.metrics import r2_score\n",
        "from sklearn.metrics import mean_squared_error\n",
        "\n",
        "# splitting the data\n",
        "x_train, x_test, y_train, y_test = train_test_split(liner_df[[\"time\", \"mean_ARO2-DCS-FI91601\", \"mean_ARO2-LIMS-S905@Water\", \"mean_ARO2-LIMS-S907@Water\", \"mean_ARO2-DCS-R911_2_A_FA\", \"mean_ARO2-DCS-R911_2_L2_A\"]], liner_df[\"mean_ARO2-DCS-PDI91101\"], test_size = 0.2, random_state = 42)\n",
        "# x_train, x_test, y_train, y_test = train_test_split(liner_df[[\"time\", \"mean_ARO2-DCS-FI91601\"]], liner_df[\"mean_ARO2-DCS-PDI91101\"], test_size = 0.2, random_state = 42)\n",
        "\n",
        "clf_lasso = linear_model.Lasso(alpha=0.1)\n",
        "clf_lasso.fit(x_train,y_train)\n",
        "y_prediction =  clf_lasso.predict(x_test)"
      ],
      "metadata": {
        "id": "AtRVrrYbxuBq"
      },
      "execution_count": 49,
      "outputs": []
    },
    {
      "cell_type": "code",
      "source": [
        "# predicting the accuracy score\n",
        "score=r2_score(y_test, y_prediction)\n",
        "print(\"r2 socre:\",score)\n",
        "print(\"mean_sqrd_error:\",mean_squared_error(y_test,y_prediction))\n",
        "print(\"root_mean_squared error:\",np.sqrt(mean_squared_error(y_test,y_prediction)))"
      ],
      "metadata": {
        "colab": {
          "base_uri": "https://localhost:8080/"
        },
        "id": "6XGsYs8NyBsa",
        "outputId": "86506b7e-0ecc-41aa-b0ee-1dc00dd6a1f9"
      },
      "execution_count": 50,
      "outputs": [
        {
          "output_type": "stream",
          "name": "stdout",
          "text": [
            "r2 socre: 0.4809611195055552\n",
            "mean_sqrd_error: 0.0028962026924540876\n",
            "root_mean_squared error: 0.05381637940677622\n"
          ]
        }
      ]
    },
    {
      "cell_type": "code",
      "source": [
        "print(\"Model slope:    \", clf_lasso.coef_)\n",
        "print(\"Model intercept:\", clf_lasso.intercept_)"
      ],
      "metadata": {
        "colab": {
          "base_uri": "https://localhost:8080/"
        },
        "id": "ImWlcZPAy0CM",
        "outputId": "1080ccd7-3dcc-4793-8458-7db7cfeaf1f7"
      },
      "execution_count": 51,
      "outputs": [
        {
          "output_type": "stream",
          "name": "stdout",
          "text": [
            "Model slope:     [ 0.         -0.00321778  0.00023709  0.         -0.         -0.        ]\n",
            "Model intercept: 1.846540337404044\n"
          ]
        }
      ]
    },
    {
      "cell_type": "code",
      "source": [
        "from sklearn.pipeline import make_pipeline\n",
        "from sklearn.preprocessing import PolynomialFeatures\n",
        "\n",
        "x_train, x_test, y_train, y_test = train_test_split(liner_df[[\"time\", \"mean_ARO2-DCS-FI91601\", \"mean_ARO2-LIMS-S905@Water\", \"mean_ARO2-LIMS-S907@Water\", \"mean_ARO2-DCS-R911_2_A_FA\", \"mean_ARO2-DCS-R911_2_L2_A\"]], liner_df[\"mean_ARO2-DCS-PDI91101\"], test_size = 0.2, random_state = 42)\n",
        "# x_train, x_test, y_train, y_test = train_test_split(liner_df[[\"time\", \"mean_ARO2-DCS-FI91601\"]], liner_df[\"mean_ARO2-DCS-PDI91101\"], test_size = 0.2, random_state = 42)\n",
        "\n",
        "model = make_pipeline(PolynomialFeatures(3),linear_model.LinearRegression())\n",
        "model.fit(x_train,y_train)\n",
        "y_prediction = model.predict(x_test)"
      ],
      "metadata": {
        "id": "y5JDYDNhrXQP"
      },
      "execution_count": 60,
      "outputs": []
    },
    {
      "cell_type": "code",
      "source": [
        "# predicting the accuracy score\n",
        "score = r2_score(y_test, y_prediction)\n",
        "print(\"r2 socre is \",score)\n",
        "print(\"mean_sqrd_error is==\",mean_squared_error(y_test,y_prediction))\n",
        "print(\"root_mean_squared error of is==\",np.sqrt(mean_squared_error(y_test,y_prediction)))"
      ],
      "metadata": {
        "colab": {
          "base_uri": "https://localhost:8080/"
        },
        "id": "8cayxKemrZpU",
        "outputId": "34bda975-547b-455c-b818-878831899c96"
      },
      "execution_count": 61,
      "outputs": [
        {
          "output_type": "stream",
          "name": "stdout",
          "text": [
            "r2 socre is  0.6910304657724962\n",
            "mean_sqrd_error is== 0.0017240296065364983\n",
            "root_mean_squared error of is== 0.041521435506693384\n"
          ]
        }
      ]
    },
    {
      "cell_type": "code",
      "source": [
        "print(\"Model degree:    \", model.steps[0][1])\n",
        "print(\"Model slope:    \", model.steps[1][1].coef_)\n",
        "print(\"Model intercept:\", model.steps[1][1].intercept_)"
      ],
      "metadata": {
        "colab": {
          "base_uri": "https://localhost:8080/"
        },
        "id": "vY1uUMnTu2lT",
        "outputId": "51d789a0-704a-4dae-e126-9f3e99305bff"
      },
      "execution_count": 62,
      "outputs": [
        {
          "output_type": "stream",
          "name": "stdout",
          "text": [
            "Model degree:     PolynomialFeatures(degree=3)\n",
            "Model slope:     [-3.67690464e-03 -4.78911732e+01  9.12193473e+00  1.02917579e+00\n",
            " -2.49914695e-01  1.67579592e+04 -1.38420199e+03 -4.36206398e-02\n",
            "  1.09616671e-01 -2.99522858e-03  2.32951077e-03  6.99273902e+01\n",
            "  3.97146080e+00 -7.47939769e-03  1.34289813e-03 -1.00227016e-04\n",
            " -2.26348643e+01  1.44118125e+00  2.97524368e-04 -2.04026005e-03\n",
            " -6.66215612e+00  1.63825020e+00  1.05833835e-03  1.68486003e+00\n",
            " -8.57281952e-01 -2.35252290e+04  5.09225977e+03 -7.59156538e+02\n",
            " -3.38412936e-04  1.11649256e-04 -5.21266700e-06  1.17052813e-06\n",
            " -7.44279028e-02  6.49791952e-02 -5.70998172e-05  1.55116704e-05\n",
            " -1.87287582e-05 -9.61273173e-02  5.21412180e-04 -4.66804158e-06\n",
            "  3.27865564e-07 -1.70660209e-02  9.80502354e-03  9.14824341e-08\n",
            "  2.95298652e-02 -1.86292133e-02 -1.41104131e+01 -1.07355873e+01\n",
            "  1.87799489e+00  1.39086274e-06  1.62194738e-08  2.81352186e-07\n",
            "  1.15477811e-02 -7.35635840e-04 -7.84975782e-07 -3.37593519e-07\n",
            " -2.93179271e-03  4.77458970e-04  7.94669177e-07 -4.67330288e-04\n",
            " -1.09745764e-04  1.11446526e+01 -7.97889428e-01 -4.40147116e-01\n",
            " -1.98121597e-07  3.29704562e-07  8.54428612e-04 -7.53938187e-04\n",
            "  5.04282525e-07  4.80252580e-03 -6.17167785e-04  9.39493925e+00\n",
            " -3.79789046e+00  1.04533423e-01 -3.06349648e-07 -3.83659854e-03\n",
            "  1.13696283e-03 -1.80824372e+00  1.52693289e+00  1.31045166e-01\n",
            "  1.31351076e+04 -6.11415456e+03  2.07191998e+03 -2.40634747e+01]\n",
            "Model intercept: -4177.551763248785\n"
          ]
        }
      ]
    }
  ]
}
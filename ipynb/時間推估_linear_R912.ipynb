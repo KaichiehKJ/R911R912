{
  "nbformat": 4,
  "nbformat_minor": 0,
  "metadata": {
    "colab": {
      "name": "時間推估_linear_R912.ipynb",
      "provenance": [],
      "collapsed_sections": []
    },
    "kernelspec": {
      "name": "python3",
      "display_name": "Python 3"
    },
    "language_info": {
      "name": "python"
    }
  },
  "cells": [
    {
      "cell_type": "code",
      "execution_count": 1,
      "metadata": {
        "colab": {
          "base_uri": "https://localhost:8080/"
        },
        "id": "_IkO2xAmMSPR",
        "outputId": "51181ac2-8b28-40d2-9256-9282cd4ebd16"
      },
      "outputs": [
        {
          "output_type": "stream",
          "name": "stdout",
          "text": [
            "/content/drive/MyDrive/MCUT/R911R912\n",
            "20220413\t\tcode\t     test.csv\n",
            "ARO1_pearsonr_corr.csv\tdata\t     Untitled0.ipynb\n",
            "ARO1特徵因子分析.ipynb\tdataset.pkl  Untitled1.ipynb\n",
            "ARO2_pearsonr_corr.csv\tmodel\n",
            "ARO2特徵因子分析.ipynb\tPPT\n"
          ]
        }
      ],
      "source": [
        "%cd /content/drive/MyDrive/MCUT/R911R912\n",
        "!ls"
      ]
    },
    {
      "cell_type": "code",
      "source": [
        "import pandas as pd\n",
        "import numpy as np\n",
        "from sklearn.decomposition import PCA\n",
        "import matplotlib.pyplot as plt\n",
        "import seaborn as sns\n",
        "from mpl_toolkits.mplot3d import Axes3D\n",
        "from matplotlib.colors import ListedColormap"
      ],
      "metadata": {
        "id": "BKrRqsuQMk4e"
      },
      "execution_count": 2,
      "outputs": []
    },
    {
      "cell_type": "code",
      "source": [
        "df_x = pd.read_excel(\"data/ADS47/R911R912 _明志蔡教授_R4-ARO2.xlsx\", sheet_name = \"R911R912_TAG相關錶點資料(X)\")\n",
        "df_x[\"Unnamed: 0\"] = range(60679)\n",
        "df_x[\"ARO2-DCS-FI91601\"] = pd.to_numeric(df_x[\"ARO2-DCS-FI91601\"], errors='coerce')\n",
        "df_x = df_x.loc[df_x[\"ARO2-DCS-FI91601\"] > 520, :]\n",
        "df_x.reset_index(inplace = True, drop = True)"
      ],
      "metadata": {
        "id": "PEX_pMyIMoGY"
      },
      "execution_count": 3,
      "outputs": []
    },
    {
      "cell_type": "code",
      "source": [
        "df = df_x[[\"Unnamed: 0\", \"ARO2-DCS-PDI91101\", \"ARO2-DCS-PDI91201\", \"ARO2-DCS-FI91601\", \"ARO2-DCS-FI91701\", \"ARO2-LIMS-S905@Water\", \"ARO2-LIMS-S907@Water\", \"ARO2-DCS-R911_2_A_FA\", \"ARO2-DCS-R911_2_L2_A\"]]\n",
        "# df[\"Unnamed: 0\"] = range(60679)\n",
        "df.loc[df[\"ARO2-LIMS-S905@Water\"] == \"Over Range\", \"ARO2-LIMS-S905@Water\"] = np.nan\n",
        "df.loc[df[\"ARO2-LIMS-S907@Water\"] == \"Over Range\", \"ARO2-LIMS-S907@Water\"] = np.nan\n",
        "# df = df[df[\"ARO2-LIMS-S905@Water\"].notnull() & df[\"ARO2-LIMS-S907@Water\"].notnull()]\n",
        "# df.columns.values[0] = \"time(hr)\"\n",
        "from tqdm import tqdm\n",
        "for i in tqdm(df.columns):\n",
        "    df[i] = pd.to_numeric(df[i], errors='coerce')\n",
        "\n",
        "df"
      ],
      "metadata": {
        "colab": {
          "base_uri": "https://localhost:8080/",
          "height": 731
        },
        "id": "wvhcDf0oOrxR",
        "outputId": "67642447-b7ec-439d-a1f5-4edbfd4f85e6"
      },
      "execution_count": 4,
      "outputs": [
        {
          "output_type": "stream",
          "name": "stderr",
          "text": [
            "/usr/local/lib/python3.7/dist-packages/pandas/core/indexing.py:1817: SettingWithCopyWarning: \n",
            "A value is trying to be set on a copy of a slice from a DataFrame.\n",
            "Try using .loc[row_indexer,col_indexer] = value instead\n",
            "\n",
            "See the caveats in the documentation: https://pandas.pydata.org/pandas-docs/stable/user_guide/indexing.html#returning-a-view-versus-a-copy\n",
            "  self._setitem_single_column(loc, value, pi)\n",
            "  0%|          | 0/9 [00:00<?, ?it/s]/usr/local/lib/python3.7/dist-packages/ipykernel_launcher.py:9: SettingWithCopyWarning: \n",
            "A value is trying to be set on a copy of a slice from a DataFrame.\n",
            "Try using .loc[row_indexer,col_indexer] = value instead\n",
            "\n",
            "See the caveats in the documentation: https://pandas.pydata.org/pandas-docs/stable/user_guide/indexing.html#returning-a-view-versus-a-copy\n",
            "  if __name__ == '__main__':\n",
            "100%|██████████| 9/9 [00:00<00:00, 72.76it/s]\n"
          ]
        },
        {
          "output_type": "execute_result",
          "data": {
            "text/plain": [
              "       Unnamed: 0  ARO2-DCS-PDI91101  ARO2-DCS-PDI91201  ARO2-DCS-FI91601  \\\n",
              "0            6075           2.720909           2.891332        520.227295   \n",
              "1            6080           2.722654           3.056192        520.065247   \n",
              "2            6084           2.756148           3.021479        520.485046   \n",
              "3            6101           2.764775           3.019719        520.381592   \n",
              "4            6119           2.658875           3.087122        522.027710   \n",
              "...           ...                ...                ...               ...   \n",
              "40248       60673           3.324451           3.611359        544.754517   \n",
              "40249       60674           3.376228           3.603930        545.488342   \n",
              "40250       60676           3.397708           3.592693        541.041016   \n",
              "40251       60677           3.344053           3.705959        547.967651   \n",
              "40252       60678           3.304692           3.720822        548.199829   \n",
              "\n",
              "       ARO2-DCS-FI91701  ARO2-LIMS-S905@Water  ARO2-LIMS-S907@Water  \\\n",
              "0            536.717346                   NaN                   NaN   \n",
              "1            529.935669                   NaN                   NaN   \n",
              "2            539.257446                   NaN                   NaN   \n",
              "3            530.617065                   NaN                   NaN   \n",
              "4            535.890747                   NaN                   NaN   \n",
              "...                 ...                   ...                   ...   \n",
              "40248        637.164734                   NaN                   NaN   \n",
              "40249        629.368591                   NaN                   NaN   \n",
              "40250        636.753174                   NaN                   NaN   \n",
              "40251        638.237244                   NaN                   NaN   \n",
              "40252        634.467468                   NaN                   NaN   \n",
              "\n",
              "       ARO2-DCS-R911_2_A_FA  ARO2-DCS-R911_2_L2_A  \n",
              "0                     0.476              0.354005  \n",
              "1                     0.476              0.354005  \n",
              "2                     0.476              0.354005  \n",
              "3                     0.476              0.356976  \n",
              "4                     0.476              0.358866  \n",
              "...                     ...                   ...  \n",
              "40248                 0.502              0.372907  \n",
              "40249                 0.502              0.372907  \n",
              "40250                 0.502              0.372907  \n",
              "40251                 0.502              0.372907  \n",
              "40252                 0.502              0.372907  \n",
              "\n",
              "[40253 rows x 9 columns]"
            ],
            "text/html": [
              "\n",
              "  <div id=\"df-de816587-65a4-47f4-94f9-97f08ff8fe0d\">\n",
              "    <div class=\"colab-df-container\">\n",
              "      <div>\n",
              "<style scoped>\n",
              "    .dataframe tbody tr th:only-of-type {\n",
              "        vertical-align: middle;\n",
              "    }\n",
              "\n",
              "    .dataframe tbody tr th {\n",
              "        vertical-align: top;\n",
              "    }\n",
              "\n",
              "    .dataframe thead th {\n",
              "        text-align: right;\n",
              "    }\n",
              "</style>\n",
              "<table border=\"1\" class=\"dataframe\">\n",
              "  <thead>\n",
              "    <tr style=\"text-align: right;\">\n",
              "      <th></th>\n",
              "      <th>Unnamed: 0</th>\n",
              "      <th>ARO2-DCS-PDI91101</th>\n",
              "      <th>ARO2-DCS-PDI91201</th>\n",
              "      <th>ARO2-DCS-FI91601</th>\n",
              "      <th>ARO2-DCS-FI91701</th>\n",
              "      <th>ARO2-LIMS-S905@Water</th>\n",
              "      <th>ARO2-LIMS-S907@Water</th>\n",
              "      <th>ARO2-DCS-R911_2_A_FA</th>\n",
              "      <th>ARO2-DCS-R911_2_L2_A</th>\n",
              "    </tr>\n",
              "  </thead>\n",
              "  <tbody>\n",
              "    <tr>\n",
              "      <th>0</th>\n",
              "      <td>6075</td>\n",
              "      <td>2.720909</td>\n",
              "      <td>2.891332</td>\n",
              "      <td>520.227295</td>\n",
              "      <td>536.717346</td>\n",
              "      <td>NaN</td>\n",
              "      <td>NaN</td>\n",
              "      <td>0.476</td>\n",
              "      <td>0.354005</td>\n",
              "    </tr>\n",
              "    <tr>\n",
              "      <th>1</th>\n",
              "      <td>6080</td>\n",
              "      <td>2.722654</td>\n",
              "      <td>3.056192</td>\n",
              "      <td>520.065247</td>\n",
              "      <td>529.935669</td>\n",
              "      <td>NaN</td>\n",
              "      <td>NaN</td>\n",
              "      <td>0.476</td>\n",
              "      <td>0.354005</td>\n",
              "    </tr>\n",
              "    <tr>\n",
              "      <th>2</th>\n",
              "      <td>6084</td>\n",
              "      <td>2.756148</td>\n",
              "      <td>3.021479</td>\n",
              "      <td>520.485046</td>\n",
              "      <td>539.257446</td>\n",
              "      <td>NaN</td>\n",
              "      <td>NaN</td>\n",
              "      <td>0.476</td>\n",
              "      <td>0.354005</td>\n",
              "    </tr>\n",
              "    <tr>\n",
              "      <th>3</th>\n",
              "      <td>6101</td>\n",
              "      <td>2.764775</td>\n",
              "      <td>3.019719</td>\n",
              "      <td>520.381592</td>\n",
              "      <td>530.617065</td>\n",
              "      <td>NaN</td>\n",
              "      <td>NaN</td>\n",
              "      <td>0.476</td>\n",
              "      <td>0.356976</td>\n",
              "    </tr>\n",
              "    <tr>\n",
              "      <th>4</th>\n",
              "      <td>6119</td>\n",
              "      <td>2.658875</td>\n",
              "      <td>3.087122</td>\n",
              "      <td>522.027710</td>\n",
              "      <td>535.890747</td>\n",
              "      <td>NaN</td>\n",
              "      <td>NaN</td>\n",
              "      <td>0.476</td>\n",
              "      <td>0.358866</td>\n",
              "    </tr>\n",
              "    <tr>\n",
              "      <th>...</th>\n",
              "      <td>...</td>\n",
              "      <td>...</td>\n",
              "      <td>...</td>\n",
              "      <td>...</td>\n",
              "      <td>...</td>\n",
              "      <td>...</td>\n",
              "      <td>...</td>\n",
              "      <td>...</td>\n",
              "      <td>...</td>\n",
              "    </tr>\n",
              "    <tr>\n",
              "      <th>40248</th>\n",
              "      <td>60673</td>\n",
              "      <td>3.324451</td>\n",
              "      <td>3.611359</td>\n",
              "      <td>544.754517</td>\n",
              "      <td>637.164734</td>\n",
              "      <td>NaN</td>\n",
              "      <td>NaN</td>\n",
              "      <td>0.502</td>\n",
              "      <td>0.372907</td>\n",
              "    </tr>\n",
              "    <tr>\n",
              "      <th>40249</th>\n",
              "      <td>60674</td>\n",
              "      <td>3.376228</td>\n",
              "      <td>3.603930</td>\n",
              "      <td>545.488342</td>\n",
              "      <td>629.368591</td>\n",
              "      <td>NaN</td>\n",
              "      <td>NaN</td>\n",
              "      <td>0.502</td>\n",
              "      <td>0.372907</td>\n",
              "    </tr>\n",
              "    <tr>\n",
              "      <th>40250</th>\n",
              "      <td>60676</td>\n",
              "      <td>3.397708</td>\n",
              "      <td>3.592693</td>\n",
              "      <td>541.041016</td>\n",
              "      <td>636.753174</td>\n",
              "      <td>NaN</td>\n",
              "      <td>NaN</td>\n",
              "      <td>0.502</td>\n",
              "      <td>0.372907</td>\n",
              "    </tr>\n",
              "    <tr>\n",
              "      <th>40251</th>\n",
              "      <td>60677</td>\n",
              "      <td>3.344053</td>\n",
              "      <td>3.705959</td>\n",
              "      <td>547.967651</td>\n",
              "      <td>638.237244</td>\n",
              "      <td>NaN</td>\n",
              "      <td>NaN</td>\n",
              "      <td>0.502</td>\n",
              "      <td>0.372907</td>\n",
              "    </tr>\n",
              "    <tr>\n",
              "      <th>40252</th>\n",
              "      <td>60678</td>\n",
              "      <td>3.304692</td>\n",
              "      <td>3.720822</td>\n",
              "      <td>548.199829</td>\n",
              "      <td>634.467468</td>\n",
              "      <td>NaN</td>\n",
              "      <td>NaN</td>\n",
              "      <td>0.502</td>\n",
              "      <td>0.372907</td>\n",
              "    </tr>\n",
              "  </tbody>\n",
              "</table>\n",
              "<p>40253 rows × 9 columns</p>\n",
              "</div>\n",
              "      <button class=\"colab-df-convert\" onclick=\"convertToInteractive('df-de816587-65a4-47f4-94f9-97f08ff8fe0d')\"\n",
              "              title=\"Convert this dataframe to an interactive table.\"\n",
              "              style=\"display:none;\">\n",
              "        \n",
              "  <svg xmlns=\"http://www.w3.org/2000/svg\" height=\"24px\"viewBox=\"0 0 24 24\"\n",
              "       width=\"24px\">\n",
              "    <path d=\"M0 0h24v24H0V0z\" fill=\"none\"/>\n",
              "    <path d=\"M18.56 5.44l.94 2.06.94-2.06 2.06-.94-2.06-.94-.94-2.06-.94 2.06-2.06.94zm-11 1L8.5 8.5l.94-2.06 2.06-.94-2.06-.94L8.5 2.5l-.94 2.06-2.06.94zm10 10l.94 2.06.94-2.06 2.06-.94-2.06-.94-.94-2.06-.94 2.06-2.06.94z\"/><path d=\"M17.41 7.96l-1.37-1.37c-.4-.4-.92-.59-1.43-.59-.52 0-1.04.2-1.43.59L10.3 9.45l-7.72 7.72c-.78.78-.78 2.05 0 2.83L4 21.41c.39.39.9.59 1.41.59.51 0 1.02-.2 1.41-.59l7.78-7.78 2.81-2.81c.8-.78.8-2.07 0-2.86zM5.41 20L4 18.59l7.72-7.72 1.47 1.35L5.41 20z\"/>\n",
              "  </svg>\n",
              "      </button>\n",
              "      \n",
              "  <style>\n",
              "    .colab-df-container {\n",
              "      display:flex;\n",
              "      flex-wrap:wrap;\n",
              "      gap: 12px;\n",
              "    }\n",
              "\n",
              "    .colab-df-convert {\n",
              "      background-color: #E8F0FE;\n",
              "      border: none;\n",
              "      border-radius: 50%;\n",
              "      cursor: pointer;\n",
              "      display: none;\n",
              "      fill: #1967D2;\n",
              "      height: 32px;\n",
              "      padding: 0 0 0 0;\n",
              "      width: 32px;\n",
              "    }\n",
              "\n",
              "    .colab-df-convert:hover {\n",
              "      background-color: #E2EBFA;\n",
              "      box-shadow: 0px 1px 2px rgba(60, 64, 67, 0.3), 0px 1px 3px 1px rgba(60, 64, 67, 0.15);\n",
              "      fill: #174EA6;\n",
              "    }\n",
              "\n",
              "    [theme=dark] .colab-df-convert {\n",
              "      background-color: #3B4455;\n",
              "      fill: #D2E3FC;\n",
              "    }\n",
              "\n",
              "    [theme=dark] .colab-df-convert:hover {\n",
              "      background-color: #434B5C;\n",
              "      box-shadow: 0px 1px 3px 1px rgba(0, 0, 0, 0.15);\n",
              "      filter: drop-shadow(0px 1px 2px rgba(0, 0, 0, 0.3));\n",
              "      fill: #FFFFFF;\n",
              "    }\n",
              "  </style>\n",
              "\n",
              "      <script>\n",
              "        const buttonEl =\n",
              "          document.querySelector('#df-de816587-65a4-47f4-94f9-97f08ff8fe0d button.colab-df-convert');\n",
              "        buttonEl.style.display =\n",
              "          google.colab.kernel.accessAllowed ? 'block' : 'none';\n",
              "\n",
              "        async function convertToInteractive(key) {\n",
              "          const element = document.querySelector('#df-de816587-65a4-47f4-94f9-97f08ff8fe0d');\n",
              "          const dataTable =\n",
              "            await google.colab.kernel.invokeFunction('convertToInteractive',\n",
              "                                                     [key], {});\n",
              "          if (!dataTable) return;\n",
              "\n",
              "          const docLinkHtml = 'Like what you see? Visit the ' +\n",
              "            '<a target=\"_blank\" href=https://colab.research.google.com/notebooks/data_table.ipynb>data table notebook</a>'\n",
              "            + ' to learn more about interactive tables.';\n",
              "          element.innerHTML = '';\n",
              "          dataTable['output_type'] = 'display_data';\n",
              "          await google.colab.output.renderOutput(dataTable, element);\n",
              "          const docLink = document.createElement('div');\n",
              "          docLink.innerHTML = docLinkHtml;\n",
              "          element.appendChild(docLink);\n",
              "        }\n",
              "      </script>\n",
              "    </div>\n",
              "  </div>\n",
              "  "
            ]
          },
          "metadata": {},
          "execution_count": 4
        }
      ]
    },
    {
      "cell_type": "code",
      "source": [
        "for i in range(len(df)-1):\n",
        "  df.loc[i+1, \"btw_t\"] = df[\"Unnamed: 0\"][i+1] - df[\"Unnamed: 0\"][i]\n",
        "  df.loc[i+1, \"btw_ARO2-DCS-PDI91101\"] = df[\"ARO2-DCS-PDI91101\"][i+1] - df[\"ARO2-DCS-PDI91101\"][i]\n",
        "  df.loc[i+1, \"btw_ARO2-DCS-PDI91201\"] = df[\"ARO2-DCS-PDI91201\"][i+1] - df[\"ARO2-DCS-PDI91201\"][i]\n",
        "\n",
        "df"
      ],
      "metadata": {
        "colab": {
          "base_uri": "https://localhost:8080/",
          "height": 731
        },
        "id": "hMCvCtb1P-k7",
        "outputId": "e2c6439e-2af1-44c5-9707-e061a73d1564"
      },
      "execution_count": 5,
      "outputs": [
        {
          "output_type": "stream",
          "name": "stderr",
          "text": [
            "/usr/local/lib/python3.7/dist-packages/pandas/core/indexing.py:1684: SettingWithCopyWarning: \n",
            "A value is trying to be set on a copy of a slice from a DataFrame.\n",
            "Try using .loc[row_indexer,col_indexer] = value instead\n",
            "\n",
            "See the caveats in the documentation: https://pandas.pydata.org/pandas-docs/stable/user_guide/indexing.html#returning-a-view-versus-a-copy\n",
            "  self.obj[key] = infer_fill_value(value)\n",
            "/usr/local/lib/python3.7/dist-packages/pandas/core/indexing.py:1817: SettingWithCopyWarning: \n",
            "A value is trying to be set on a copy of a slice from a DataFrame.\n",
            "Try using .loc[row_indexer,col_indexer] = value instead\n",
            "\n",
            "See the caveats in the documentation: https://pandas.pydata.org/pandas-docs/stable/user_guide/indexing.html#returning-a-view-versus-a-copy\n",
            "  self._setitem_single_column(loc, value, pi)\n"
          ]
        },
        {
          "output_type": "execute_result",
          "data": {
            "text/plain": [
              "       Unnamed: 0  ARO2-DCS-PDI91101  ARO2-DCS-PDI91201  ARO2-DCS-FI91601  \\\n",
              "0            6075           2.720909           2.891332        520.227295   \n",
              "1            6080           2.722654           3.056192        520.065247   \n",
              "2            6084           2.756148           3.021479        520.485046   \n",
              "3            6101           2.764775           3.019719        520.381592   \n",
              "4            6119           2.658875           3.087122        522.027710   \n",
              "...           ...                ...                ...               ...   \n",
              "40248       60673           3.324451           3.611359        544.754517   \n",
              "40249       60674           3.376228           3.603930        545.488342   \n",
              "40250       60676           3.397708           3.592693        541.041016   \n",
              "40251       60677           3.344053           3.705959        547.967651   \n",
              "40252       60678           3.304692           3.720822        548.199829   \n",
              "\n",
              "       ARO2-DCS-FI91701  ARO2-LIMS-S905@Water  ARO2-LIMS-S907@Water  \\\n",
              "0            536.717346                   NaN                   NaN   \n",
              "1            529.935669                   NaN                   NaN   \n",
              "2            539.257446                   NaN                   NaN   \n",
              "3            530.617065                   NaN                   NaN   \n",
              "4            535.890747                   NaN                   NaN   \n",
              "...                 ...                   ...                   ...   \n",
              "40248        637.164734                   NaN                   NaN   \n",
              "40249        629.368591                   NaN                   NaN   \n",
              "40250        636.753174                   NaN                   NaN   \n",
              "40251        638.237244                   NaN                   NaN   \n",
              "40252        634.467468                   NaN                   NaN   \n",
              "\n",
              "       ARO2-DCS-R911_2_A_FA  ARO2-DCS-R911_2_L2_A  btw_t  \\\n",
              "0                     0.476              0.354005    NaN   \n",
              "1                     0.476              0.354005    5.0   \n",
              "2                     0.476              0.354005    4.0   \n",
              "3                     0.476              0.356976   17.0   \n",
              "4                     0.476              0.358866   18.0   \n",
              "...                     ...                   ...    ...   \n",
              "40248                 0.502              0.372907    1.0   \n",
              "40249                 0.502              0.372907    1.0   \n",
              "40250                 0.502              0.372907    2.0   \n",
              "40251                 0.502              0.372907    1.0   \n",
              "40252                 0.502              0.372907    1.0   \n",
              "\n",
              "       btw_ARO2-DCS-PDI91101  btw_ARO2-DCS-PDI91201  \n",
              "0                        NaN                    NaN  \n",
              "1                   0.001745               0.164860  \n",
              "2                   0.033494              -0.034713  \n",
              "3                   0.008627              -0.001760  \n",
              "4                  -0.105900               0.067403  \n",
              "...                      ...                    ...  \n",
              "40248               0.012734               0.089395  \n",
              "40249               0.051777              -0.007429  \n",
              "40250               0.021481              -0.011237  \n",
              "40251              -0.053655               0.113266  \n",
              "40252              -0.039361               0.014863  \n",
              "\n",
              "[40253 rows x 12 columns]"
            ],
            "text/html": [
              "\n",
              "  <div id=\"df-f095e62d-06d6-4753-826e-892658605d0c\">\n",
              "    <div class=\"colab-df-container\">\n",
              "      <div>\n",
              "<style scoped>\n",
              "    .dataframe tbody tr th:only-of-type {\n",
              "        vertical-align: middle;\n",
              "    }\n",
              "\n",
              "    .dataframe tbody tr th {\n",
              "        vertical-align: top;\n",
              "    }\n",
              "\n",
              "    .dataframe thead th {\n",
              "        text-align: right;\n",
              "    }\n",
              "</style>\n",
              "<table border=\"1\" class=\"dataframe\">\n",
              "  <thead>\n",
              "    <tr style=\"text-align: right;\">\n",
              "      <th></th>\n",
              "      <th>Unnamed: 0</th>\n",
              "      <th>ARO2-DCS-PDI91101</th>\n",
              "      <th>ARO2-DCS-PDI91201</th>\n",
              "      <th>ARO2-DCS-FI91601</th>\n",
              "      <th>ARO2-DCS-FI91701</th>\n",
              "      <th>ARO2-LIMS-S905@Water</th>\n",
              "      <th>ARO2-LIMS-S907@Water</th>\n",
              "      <th>ARO2-DCS-R911_2_A_FA</th>\n",
              "      <th>ARO2-DCS-R911_2_L2_A</th>\n",
              "      <th>btw_t</th>\n",
              "      <th>btw_ARO2-DCS-PDI91101</th>\n",
              "      <th>btw_ARO2-DCS-PDI91201</th>\n",
              "    </tr>\n",
              "  </thead>\n",
              "  <tbody>\n",
              "    <tr>\n",
              "      <th>0</th>\n",
              "      <td>6075</td>\n",
              "      <td>2.720909</td>\n",
              "      <td>2.891332</td>\n",
              "      <td>520.227295</td>\n",
              "      <td>536.717346</td>\n",
              "      <td>NaN</td>\n",
              "      <td>NaN</td>\n",
              "      <td>0.476</td>\n",
              "      <td>0.354005</td>\n",
              "      <td>NaN</td>\n",
              "      <td>NaN</td>\n",
              "      <td>NaN</td>\n",
              "    </tr>\n",
              "    <tr>\n",
              "      <th>1</th>\n",
              "      <td>6080</td>\n",
              "      <td>2.722654</td>\n",
              "      <td>3.056192</td>\n",
              "      <td>520.065247</td>\n",
              "      <td>529.935669</td>\n",
              "      <td>NaN</td>\n",
              "      <td>NaN</td>\n",
              "      <td>0.476</td>\n",
              "      <td>0.354005</td>\n",
              "      <td>5.0</td>\n",
              "      <td>0.001745</td>\n",
              "      <td>0.164860</td>\n",
              "    </tr>\n",
              "    <tr>\n",
              "      <th>2</th>\n",
              "      <td>6084</td>\n",
              "      <td>2.756148</td>\n",
              "      <td>3.021479</td>\n",
              "      <td>520.485046</td>\n",
              "      <td>539.257446</td>\n",
              "      <td>NaN</td>\n",
              "      <td>NaN</td>\n",
              "      <td>0.476</td>\n",
              "      <td>0.354005</td>\n",
              "      <td>4.0</td>\n",
              "      <td>0.033494</td>\n",
              "      <td>-0.034713</td>\n",
              "    </tr>\n",
              "    <tr>\n",
              "      <th>3</th>\n",
              "      <td>6101</td>\n",
              "      <td>2.764775</td>\n",
              "      <td>3.019719</td>\n",
              "      <td>520.381592</td>\n",
              "      <td>530.617065</td>\n",
              "      <td>NaN</td>\n",
              "      <td>NaN</td>\n",
              "      <td>0.476</td>\n",
              "      <td>0.356976</td>\n",
              "      <td>17.0</td>\n",
              "      <td>0.008627</td>\n",
              "      <td>-0.001760</td>\n",
              "    </tr>\n",
              "    <tr>\n",
              "      <th>4</th>\n",
              "      <td>6119</td>\n",
              "      <td>2.658875</td>\n",
              "      <td>3.087122</td>\n",
              "      <td>522.027710</td>\n",
              "      <td>535.890747</td>\n",
              "      <td>NaN</td>\n",
              "      <td>NaN</td>\n",
              "      <td>0.476</td>\n",
              "      <td>0.358866</td>\n",
              "      <td>18.0</td>\n",
              "      <td>-0.105900</td>\n",
              "      <td>0.067403</td>\n",
              "    </tr>\n",
              "    <tr>\n",
              "      <th>...</th>\n",
              "      <td>...</td>\n",
              "      <td>...</td>\n",
              "      <td>...</td>\n",
              "      <td>...</td>\n",
              "      <td>...</td>\n",
              "      <td>...</td>\n",
              "      <td>...</td>\n",
              "      <td>...</td>\n",
              "      <td>...</td>\n",
              "      <td>...</td>\n",
              "      <td>...</td>\n",
              "      <td>...</td>\n",
              "    </tr>\n",
              "    <tr>\n",
              "      <th>40248</th>\n",
              "      <td>60673</td>\n",
              "      <td>3.324451</td>\n",
              "      <td>3.611359</td>\n",
              "      <td>544.754517</td>\n",
              "      <td>637.164734</td>\n",
              "      <td>NaN</td>\n",
              "      <td>NaN</td>\n",
              "      <td>0.502</td>\n",
              "      <td>0.372907</td>\n",
              "      <td>1.0</td>\n",
              "      <td>0.012734</td>\n",
              "      <td>0.089395</td>\n",
              "    </tr>\n",
              "    <tr>\n",
              "      <th>40249</th>\n",
              "      <td>60674</td>\n",
              "      <td>3.376228</td>\n",
              "      <td>3.603930</td>\n",
              "      <td>545.488342</td>\n",
              "      <td>629.368591</td>\n",
              "      <td>NaN</td>\n",
              "      <td>NaN</td>\n",
              "      <td>0.502</td>\n",
              "      <td>0.372907</td>\n",
              "      <td>1.0</td>\n",
              "      <td>0.051777</td>\n",
              "      <td>-0.007429</td>\n",
              "    </tr>\n",
              "    <tr>\n",
              "      <th>40250</th>\n",
              "      <td>60676</td>\n",
              "      <td>3.397708</td>\n",
              "      <td>3.592693</td>\n",
              "      <td>541.041016</td>\n",
              "      <td>636.753174</td>\n",
              "      <td>NaN</td>\n",
              "      <td>NaN</td>\n",
              "      <td>0.502</td>\n",
              "      <td>0.372907</td>\n",
              "      <td>2.0</td>\n",
              "      <td>0.021481</td>\n",
              "      <td>-0.011237</td>\n",
              "    </tr>\n",
              "    <tr>\n",
              "      <th>40251</th>\n",
              "      <td>60677</td>\n",
              "      <td>3.344053</td>\n",
              "      <td>3.705959</td>\n",
              "      <td>547.967651</td>\n",
              "      <td>638.237244</td>\n",
              "      <td>NaN</td>\n",
              "      <td>NaN</td>\n",
              "      <td>0.502</td>\n",
              "      <td>0.372907</td>\n",
              "      <td>1.0</td>\n",
              "      <td>-0.053655</td>\n",
              "      <td>0.113266</td>\n",
              "    </tr>\n",
              "    <tr>\n",
              "      <th>40252</th>\n",
              "      <td>60678</td>\n",
              "      <td>3.304692</td>\n",
              "      <td>3.720822</td>\n",
              "      <td>548.199829</td>\n",
              "      <td>634.467468</td>\n",
              "      <td>NaN</td>\n",
              "      <td>NaN</td>\n",
              "      <td>0.502</td>\n",
              "      <td>0.372907</td>\n",
              "      <td>1.0</td>\n",
              "      <td>-0.039361</td>\n",
              "      <td>0.014863</td>\n",
              "    </tr>\n",
              "  </tbody>\n",
              "</table>\n",
              "<p>40253 rows × 12 columns</p>\n",
              "</div>\n",
              "      <button class=\"colab-df-convert\" onclick=\"convertToInteractive('df-f095e62d-06d6-4753-826e-892658605d0c')\"\n",
              "              title=\"Convert this dataframe to an interactive table.\"\n",
              "              style=\"display:none;\">\n",
              "        \n",
              "  <svg xmlns=\"http://www.w3.org/2000/svg\" height=\"24px\"viewBox=\"0 0 24 24\"\n",
              "       width=\"24px\">\n",
              "    <path d=\"M0 0h24v24H0V0z\" fill=\"none\"/>\n",
              "    <path d=\"M18.56 5.44l.94 2.06.94-2.06 2.06-.94-2.06-.94-.94-2.06-.94 2.06-2.06.94zm-11 1L8.5 8.5l.94-2.06 2.06-.94-2.06-.94L8.5 2.5l-.94 2.06-2.06.94zm10 10l.94 2.06.94-2.06 2.06-.94-2.06-.94-.94-2.06-.94 2.06-2.06.94z\"/><path d=\"M17.41 7.96l-1.37-1.37c-.4-.4-.92-.59-1.43-.59-.52 0-1.04.2-1.43.59L10.3 9.45l-7.72 7.72c-.78.78-.78 2.05 0 2.83L4 21.41c.39.39.9.59 1.41.59.51 0 1.02-.2 1.41-.59l7.78-7.78 2.81-2.81c.8-.78.8-2.07 0-2.86zM5.41 20L4 18.59l7.72-7.72 1.47 1.35L5.41 20z\"/>\n",
              "  </svg>\n",
              "      </button>\n",
              "      \n",
              "  <style>\n",
              "    .colab-df-container {\n",
              "      display:flex;\n",
              "      flex-wrap:wrap;\n",
              "      gap: 12px;\n",
              "    }\n",
              "\n",
              "    .colab-df-convert {\n",
              "      background-color: #E8F0FE;\n",
              "      border: none;\n",
              "      border-radius: 50%;\n",
              "      cursor: pointer;\n",
              "      display: none;\n",
              "      fill: #1967D2;\n",
              "      height: 32px;\n",
              "      padding: 0 0 0 0;\n",
              "      width: 32px;\n",
              "    }\n",
              "\n",
              "    .colab-df-convert:hover {\n",
              "      background-color: #E2EBFA;\n",
              "      box-shadow: 0px 1px 2px rgba(60, 64, 67, 0.3), 0px 1px 3px 1px rgba(60, 64, 67, 0.15);\n",
              "      fill: #174EA6;\n",
              "    }\n",
              "\n",
              "    [theme=dark] .colab-df-convert {\n",
              "      background-color: #3B4455;\n",
              "      fill: #D2E3FC;\n",
              "    }\n",
              "\n",
              "    [theme=dark] .colab-df-convert:hover {\n",
              "      background-color: #434B5C;\n",
              "      box-shadow: 0px 1px 3px 1px rgba(0, 0, 0, 0.15);\n",
              "      filter: drop-shadow(0px 1px 2px rgba(0, 0, 0, 0.3));\n",
              "      fill: #FFFFFF;\n",
              "    }\n",
              "  </style>\n",
              "\n",
              "      <script>\n",
              "        const buttonEl =\n",
              "          document.querySelector('#df-f095e62d-06d6-4753-826e-892658605d0c button.colab-df-convert');\n",
              "        buttonEl.style.display =\n",
              "          google.colab.kernel.accessAllowed ? 'block' : 'none';\n",
              "\n",
              "        async function convertToInteractive(key) {\n",
              "          const element = document.querySelector('#df-f095e62d-06d6-4753-826e-892658605d0c');\n",
              "          const dataTable =\n",
              "            await google.colab.kernel.invokeFunction('convertToInteractive',\n",
              "                                                     [key], {});\n",
              "          if (!dataTable) return;\n",
              "\n",
              "          const docLinkHtml = 'Like what you see? Visit the ' +\n",
              "            '<a target=\"_blank\" href=https://colab.research.google.com/notebooks/data_table.ipynb>data table notebook</a>'\n",
              "            + ' to learn more about interactive tables.';\n",
              "          element.innerHTML = '';\n",
              "          dataTable['output_type'] = 'display_data';\n",
              "          await google.colab.output.renderOutput(dataTable, element);\n",
              "          const docLink = document.createElement('div');\n",
              "          docLink.innerHTML = docLinkHtml;\n",
              "          element.appendChild(docLink);\n",
              "        }\n",
              "      </script>\n",
              "    </div>\n",
              "  </div>\n",
              "  "
            ]
          },
          "metadata": {},
          "execution_count": 5
        }
      ]
    },
    {
      "cell_type": "code",
      "source": [
        "test_df = df.loc[df[\"btw_ARO2-DCS-PDI91201\"] > 0, [\"btw_ARO2-DCS-PDI91201\", \"btw_t\", \"ARO2-DCS-FI91601\", \"ARO2-LIMS-S905@Water\", \"ARO2-LIMS-S907@Water\", \"ARO2-DCS-R911_2_A_FA\", \"ARO2-DCS-R911_2_L2_A\"]].reset_index()\n",
        "test_df['ARO2-LIMS-S905@Water'].fillna(method='ffill', inplace=True)\n",
        "test_df['ARO2-LIMS-S905@Water'].fillna(method='bfill', inplace=True)\n",
        "test_df['ARO2-LIMS-S907@Water'].fillna(method='ffill', inplace=True)\n",
        "test_df['ARO2-LIMS-S907@Water'].fillna(method='bfill', inplace=True)\n",
        "test_df['ARO2-DCS-R911_2_A_FA'].fillna(method='ffill', inplace=True)\n",
        "test_df['ARO2-DCS-R911_2_A_FA'].fillna(method='bfill', inplace=True)\n",
        "test_df['ARO2-DCS-R911_2_L2_A'].fillna(method='ffill', inplace=True)\n",
        "test_df['ARO2-DCS-R911_2_L2_A'].fillna(method='bfill', inplace=True)\n",
        "# test_df = test_df[test_df[\"ARO2-LIMS-S905@Water\"].notnull() & test_df[\"ARO2-LIMS-S907@Water\"].notnull()]"
      ],
      "metadata": {
        "id": "7x2-Exlwo_xU"
      },
      "execution_count": 6,
      "outputs": []
    },
    {
      "cell_type": "code",
      "source": [
        "N = 0\n",
        "for i in range(len(test_df)):\n",
        "  if test_df[\"index\"][i+1] == test_df[\"index\"][i]+1:\n",
        "    N = N + 1\n",
        "  else:\n",
        "    N = N + 1\n",
        "    test_df.loc[i+1-N, \"time\"] = N\n",
        "    test_df.loc[i+1-N, \"mean_ARO2-DCS-PDI91201\"] = test_df.loc[i+1-N:i+1, \"btw_ARO2-DCS-PDI91201\"].mean()\n",
        "    N = 0"
      ],
      "metadata": {
        "id": "cbDm3aN0pkd8",
        "colab": {
          "base_uri": "https://localhost:8080/",
          "height": 437
        },
        "outputId": "750ab5e3-36d4-4a6f-c918-fa3a0f7ee94c"
      },
      "execution_count": 7,
      "outputs": [
        {
          "output_type": "error",
          "ename": "KeyError",
          "evalue": "ignored",
          "traceback": [
            "\u001b[0;31m---------------------------------------------------------------------------\u001b[0m",
            "\u001b[0;31mValueError\u001b[0m                                Traceback (most recent call last)",
            "\u001b[0;32m/usr/local/lib/python3.7/dist-packages/pandas/core/indexes/range.py\u001b[0m in \u001b[0;36mget_loc\u001b[0;34m(self, key, method, tolerance)\u001b[0m\n\u001b[1;32m    384\u001b[0m                 \u001b[0;32mtry\u001b[0m\u001b[0;34m:\u001b[0m\u001b[0;34m\u001b[0m\u001b[0;34m\u001b[0m\u001b[0m\n\u001b[0;32m--> 385\u001b[0;31m                     \u001b[0;32mreturn\u001b[0m \u001b[0mself\u001b[0m\u001b[0;34m.\u001b[0m\u001b[0m_range\u001b[0m\u001b[0;34m.\u001b[0m\u001b[0mindex\u001b[0m\u001b[0;34m(\u001b[0m\u001b[0mnew_key\u001b[0m\u001b[0;34m)\u001b[0m\u001b[0;34m\u001b[0m\u001b[0;34m\u001b[0m\u001b[0m\n\u001b[0m\u001b[1;32m    386\u001b[0m                 \u001b[0;32mexcept\u001b[0m \u001b[0mValueError\u001b[0m \u001b[0;32mas\u001b[0m \u001b[0merr\u001b[0m\u001b[0;34m:\u001b[0m\u001b[0;34m\u001b[0m\u001b[0;34m\u001b[0m\u001b[0m\n",
            "\u001b[0;31mValueError\u001b[0m: 20323 is not in range",
            "\nThe above exception was the direct cause of the following exception:\n",
            "\u001b[0;31mKeyError\u001b[0m                                  Traceback (most recent call last)",
            "\u001b[0;32m<ipython-input-7-f8ad6fb539c5>\u001b[0m in \u001b[0;36m<module>\u001b[0;34m()\u001b[0m\n\u001b[1;32m      1\u001b[0m \u001b[0mN\u001b[0m \u001b[0;34m=\u001b[0m \u001b[0;36m0\u001b[0m\u001b[0;34m\u001b[0m\u001b[0;34m\u001b[0m\u001b[0m\n\u001b[1;32m      2\u001b[0m \u001b[0;32mfor\u001b[0m \u001b[0mi\u001b[0m \u001b[0;32min\u001b[0m \u001b[0mrange\u001b[0m\u001b[0;34m(\u001b[0m\u001b[0mlen\u001b[0m\u001b[0;34m(\u001b[0m\u001b[0mtest_df\u001b[0m\u001b[0;34m)\u001b[0m\u001b[0;34m)\u001b[0m\u001b[0;34m:\u001b[0m\u001b[0;34m\u001b[0m\u001b[0;34m\u001b[0m\u001b[0m\n\u001b[0;32m----> 3\u001b[0;31m   \u001b[0;32mif\u001b[0m \u001b[0mtest_df\u001b[0m\u001b[0;34m[\u001b[0m\u001b[0;34m\"index\"\u001b[0m\u001b[0;34m]\u001b[0m\u001b[0;34m[\u001b[0m\u001b[0mi\u001b[0m\u001b[0;34m+\u001b[0m\u001b[0;36m1\u001b[0m\u001b[0;34m]\u001b[0m \u001b[0;34m==\u001b[0m \u001b[0mtest_df\u001b[0m\u001b[0;34m[\u001b[0m\u001b[0;34m\"index\"\u001b[0m\u001b[0;34m]\u001b[0m\u001b[0;34m[\u001b[0m\u001b[0mi\u001b[0m\u001b[0;34m]\u001b[0m\u001b[0;34m+\u001b[0m\u001b[0;36m1\u001b[0m\u001b[0;34m:\u001b[0m\u001b[0;34m\u001b[0m\u001b[0;34m\u001b[0m\u001b[0m\n\u001b[0m\u001b[1;32m      4\u001b[0m     \u001b[0mN\u001b[0m \u001b[0;34m=\u001b[0m \u001b[0mN\u001b[0m \u001b[0;34m+\u001b[0m \u001b[0;36m1\u001b[0m\u001b[0;34m\u001b[0m\u001b[0;34m\u001b[0m\u001b[0m\n\u001b[1;32m      5\u001b[0m   \u001b[0;32melse\u001b[0m\u001b[0;34m:\u001b[0m\u001b[0;34m\u001b[0m\u001b[0;34m\u001b[0m\u001b[0m\n",
            "\u001b[0;32m/usr/local/lib/python3.7/dist-packages/pandas/core/series.py\u001b[0m in \u001b[0;36m__getitem__\u001b[0;34m(self, key)\u001b[0m\n\u001b[1;32m    940\u001b[0m \u001b[0;34m\u001b[0m\u001b[0m\n\u001b[1;32m    941\u001b[0m         \u001b[0;32melif\u001b[0m \u001b[0mkey_is_scalar\u001b[0m\u001b[0;34m:\u001b[0m\u001b[0;34m\u001b[0m\u001b[0;34m\u001b[0m\u001b[0m\n\u001b[0;32m--> 942\u001b[0;31m             \u001b[0;32mreturn\u001b[0m \u001b[0mself\u001b[0m\u001b[0;34m.\u001b[0m\u001b[0m_get_value\u001b[0m\u001b[0;34m(\u001b[0m\u001b[0mkey\u001b[0m\u001b[0;34m)\u001b[0m\u001b[0;34m\u001b[0m\u001b[0;34m\u001b[0m\u001b[0m\n\u001b[0m\u001b[1;32m    943\u001b[0m \u001b[0;34m\u001b[0m\u001b[0m\n\u001b[1;32m    944\u001b[0m         \u001b[0;32mif\u001b[0m \u001b[0mis_hashable\u001b[0m\u001b[0;34m(\u001b[0m\u001b[0mkey\u001b[0m\u001b[0;34m)\u001b[0m\u001b[0;34m:\u001b[0m\u001b[0;34m\u001b[0m\u001b[0;34m\u001b[0m\u001b[0m\n",
            "\u001b[0;32m/usr/local/lib/python3.7/dist-packages/pandas/core/series.py\u001b[0m in \u001b[0;36m_get_value\u001b[0;34m(self, label, takeable)\u001b[0m\n\u001b[1;32m   1049\u001b[0m \u001b[0;34m\u001b[0m\u001b[0m\n\u001b[1;32m   1050\u001b[0m         \u001b[0;31m# Similar to Index.get_value, but we do not fall back to positional\u001b[0m\u001b[0;34m\u001b[0m\u001b[0;34m\u001b[0m\u001b[0;34m\u001b[0m\u001b[0m\n\u001b[0;32m-> 1051\u001b[0;31m         \u001b[0mloc\u001b[0m \u001b[0;34m=\u001b[0m \u001b[0mself\u001b[0m\u001b[0;34m.\u001b[0m\u001b[0mindex\u001b[0m\u001b[0;34m.\u001b[0m\u001b[0mget_loc\u001b[0m\u001b[0;34m(\u001b[0m\u001b[0mlabel\u001b[0m\u001b[0;34m)\u001b[0m\u001b[0;34m\u001b[0m\u001b[0;34m\u001b[0m\u001b[0m\n\u001b[0m\u001b[1;32m   1052\u001b[0m         \u001b[0;32mreturn\u001b[0m \u001b[0mself\u001b[0m\u001b[0;34m.\u001b[0m\u001b[0mindex\u001b[0m\u001b[0;34m.\u001b[0m\u001b[0m_get_values_for_loc\u001b[0m\u001b[0;34m(\u001b[0m\u001b[0mself\u001b[0m\u001b[0;34m,\u001b[0m \u001b[0mloc\u001b[0m\u001b[0;34m,\u001b[0m \u001b[0mlabel\u001b[0m\u001b[0;34m)\u001b[0m\u001b[0;34m\u001b[0m\u001b[0;34m\u001b[0m\u001b[0m\n\u001b[1;32m   1053\u001b[0m \u001b[0;34m\u001b[0m\u001b[0m\n",
            "\u001b[0;32m/usr/local/lib/python3.7/dist-packages/pandas/core/indexes/range.py\u001b[0m in \u001b[0;36mget_loc\u001b[0;34m(self, key, method, tolerance)\u001b[0m\n\u001b[1;32m    385\u001b[0m                     \u001b[0;32mreturn\u001b[0m \u001b[0mself\u001b[0m\u001b[0;34m.\u001b[0m\u001b[0m_range\u001b[0m\u001b[0;34m.\u001b[0m\u001b[0mindex\u001b[0m\u001b[0;34m(\u001b[0m\u001b[0mnew_key\u001b[0m\u001b[0;34m)\u001b[0m\u001b[0;34m\u001b[0m\u001b[0;34m\u001b[0m\u001b[0m\n\u001b[1;32m    386\u001b[0m                 \u001b[0;32mexcept\u001b[0m \u001b[0mValueError\u001b[0m \u001b[0;32mas\u001b[0m \u001b[0merr\u001b[0m\u001b[0;34m:\u001b[0m\u001b[0;34m\u001b[0m\u001b[0;34m\u001b[0m\u001b[0m\n\u001b[0;32m--> 387\u001b[0;31m                     \u001b[0;32mraise\u001b[0m \u001b[0mKeyError\u001b[0m\u001b[0;34m(\u001b[0m\u001b[0mkey\u001b[0m\u001b[0;34m)\u001b[0m \u001b[0;32mfrom\u001b[0m \u001b[0merr\u001b[0m\u001b[0;34m\u001b[0m\u001b[0;34m\u001b[0m\u001b[0m\n\u001b[0m\u001b[1;32m    388\u001b[0m             \u001b[0;32mraise\u001b[0m \u001b[0mKeyError\u001b[0m\u001b[0;34m(\u001b[0m\u001b[0mkey\u001b[0m\u001b[0;34m)\u001b[0m\u001b[0;34m\u001b[0m\u001b[0;34m\u001b[0m\u001b[0m\n\u001b[1;32m    389\u001b[0m         \u001b[0;32mreturn\u001b[0m \u001b[0msuper\u001b[0m\u001b[0;34m(\u001b[0m\u001b[0;34m)\u001b[0m\u001b[0;34m.\u001b[0m\u001b[0mget_loc\u001b[0m\u001b[0;34m(\u001b[0m\u001b[0mkey\u001b[0m\u001b[0;34m,\u001b[0m \u001b[0mmethod\u001b[0m\u001b[0;34m=\u001b[0m\u001b[0mmethod\u001b[0m\u001b[0;34m,\u001b[0m \u001b[0mtolerance\u001b[0m\u001b[0;34m=\u001b[0m\u001b[0mtolerance\u001b[0m\u001b[0;34m)\u001b[0m\u001b[0;34m\u001b[0m\u001b[0;34m\u001b[0m\u001b[0m\n",
            "\u001b[0;31mKeyError\u001b[0m: 20323"
          ]
        }
      ]
    },
    {
      "cell_type": "code",
      "source": [
        "row = test_df[test_df[\"time\"].notnull()].index.tolist()\n",
        "for i in range(len(row)):\n",
        "  test_df.loc[row[i], \"mean_ARO2-DCS-FI91601\"] = test_df.loc[row[i]:row[i+1], \"ARO2-DCS-FI91601\"].mean()\n",
        "  test_df.loc[row[i], \"mean_ARO2-LIMS-S905@Water\"] = test_df.loc[row[i]:row[i+1], \"ARO2-LIMS-S905@Water\"].mean()\n",
        "  test_df.loc[row[i], \"mean_ARO2-LIMS-S907@Water\"] = test_df.loc[row[i]:row[i+1], \"ARO2-LIMS-S907@Water\"].mean()\n",
        "  test_df.loc[row[i], \"mean_ARO2-DCS-R911_2_A_FA\"] = test_df.loc[row[i]:row[i+1], \"ARO2-DCS-R911_2_A_FA\"].mean()\n",
        "  test_df.loc[row[i], \"mean_ARO2-DCS-R911_2_L2_A\"] = test_df.loc[row[i]:row[i+1], \"ARO2-DCS-R911_2_L2_A\"].mean()"
      ],
      "metadata": {
        "id": "nspJnGIyJoy2",
        "colab": {
          "base_uri": "https://localhost:8080/",
          "height": 240
        },
        "outputId": "290400d6-9067-41a5-ed86-43d034ecbac1"
      },
      "execution_count": 8,
      "outputs": [
        {
          "output_type": "error",
          "ename": "IndexError",
          "evalue": "ignored",
          "traceback": [
            "\u001b[0;31m---------------------------------------------------------------------------\u001b[0m",
            "\u001b[0;31mIndexError\u001b[0m                                Traceback (most recent call last)",
            "\u001b[0;32m<ipython-input-8-26f8afca4132>\u001b[0m in \u001b[0;36m<module>\u001b[0;34m()\u001b[0m\n\u001b[1;32m      1\u001b[0m \u001b[0mrow\u001b[0m \u001b[0;34m=\u001b[0m \u001b[0mtest_df\u001b[0m\u001b[0;34m[\u001b[0m\u001b[0mtest_df\u001b[0m\u001b[0;34m[\u001b[0m\u001b[0;34m\"time\"\u001b[0m\u001b[0;34m]\u001b[0m\u001b[0;34m.\u001b[0m\u001b[0mnotnull\u001b[0m\u001b[0;34m(\u001b[0m\u001b[0;34m)\u001b[0m\u001b[0;34m]\u001b[0m\u001b[0;34m.\u001b[0m\u001b[0mindex\u001b[0m\u001b[0;34m.\u001b[0m\u001b[0mtolist\u001b[0m\u001b[0;34m(\u001b[0m\u001b[0;34m)\u001b[0m\u001b[0;34m\u001b[0m\u001b[0;34m\u001b[0m\u001b[0m\n\u001b[1;32m      2\u001b[0m \u001b[0;32mfor\u001b[0m \u001b[0mi\u001b[0m \u001b[0;32min\u001b[0m \u001b[0mrange\u001b[0m\u001b[0;34m(\u001b[0m\u001b[0mlen\u001b[0m\u001b[0;34m(\u001b[0m\u001b[0mrow\u001b[0m\u001b[0;34m)\u001b[0m\u001b[0;34m)\u001b[0m\u001b[0;34m:\u001b[0m\u001b[0;34m\u001b[0m\u001b[0;34m\u001b[0m\u001b[0m\n\u001b[0;32m----> 3\u001b[0;31m   \u001b[0mtest_df\u001b[0m\u001b[0;34m.\u001b[0m\u001b[0mloc\u001b[0m\u001b[0;34m[\u001b[0m\u001b[0mrow\u001b[0m\u001b[0;34m[\u001b[0m\u001b[0mi\u001b[0m\u001b[0;34m]\u001b[0m\u001b[0;34m,\u001b[0m \u001b[0;34m\"mean_ARO2-DCS-FI91601\"\u001b[0m\u001b[0;34m]\u001b[0m \u001b[0;34m=\u001b[0m \u001b[0mtest_df\u001b[0m\u001b[0;34m.\u001b[0m\u001b[0mloc\u001b[0m\u001b[0;34m[\u001b[0m\u001b[0mrow\u001b[0m\u001b[0;34m[\u001b[0m\u001b[0mi\u001b[0m\u001b[0;34m]\u001b[0m\u001b[0;34m:\u001b[0m\u001b[0mrow\u001b[0m\u001b[0;34m[\u001b[0m\u001b[0mi\u001b[0m\u001b[0;34m+\u001b[0m\u001b[0;36m1\u001b[0m\u001b[0;34m]\u001b[0m\u001b[0;34m,\u001b[0m \u001b[0;34m\"ARO2-DCS-FI91601\"\u001b[0m\u001b[0;34m]\u001b[0m\u001b[0;34m.\u001b[0m\u001b[0mmean\u001b[0m\u001b[0;34m(\u001b[0m\u001b[0;34m)\u001b[0m\u001b[0;34m\u001b[0m\u001b[0;34m\u001b[0m\u001b[0m\n\u001b[0m\u001b[1;32m      4\u001b[0m   \u001b[0mtest_df\u001b[0m\u001b[0;34m.\u001b[0m\u001b[0mloc\u001b[0m\u001b[0;34m[\u001b[0m\u001b[0mrow\u001b[0m\u001b[0;34m[\u001b[0m\u001b[0mi\u001b[0m\u001b[0;34m]\u001b[0m\u001b[0;34m,\u001b[0m \u001b[0;34m\"mean_ARO2-LIMS-S905@Water\"\u001b[0m\u001b[0;34m]\u001b[0m \u001b[0;34m=\u001b[0m \u001b[0mtest_df\u001b[0m\u001b[0;34m.\u001b[0m\u001b[0mloc\u001b[0m\u001b[0;34m[\u001b[0m\u001b[0mrow\u001b[0m\u001b[0;34m[\u001b[0m\u001b[0mi\u001b[0m\u001b[0;34m]\u001b[0m\u001b[0;34m:\u001b[0m\u001b[0mrow\u001b[0m\u001b[0;34m[\u001b[0m\u001b[0mi\u001b[0m\u001b[0;34m+\u001b[0m\u001b[0;36m1\u001b[0m\u001b[0;34m]\u001b[0m\u001b[0;34m,\u001b[0m \u001b[0;34m\"ARO2-LIMS-S905@Water\"\u001b[0m\u001b[0;34m]\u001b[0m\u001b[0;34m.\u001b[0m\u001b[0mmean\u001b[0m\u001b[0;34m(\u001b[0m\u001b[0;34m)\u001b[0m\u001b[0;34m\u001b[0m\u001b[0;34m\u001b[0m\u001b[0m\n\u001b[1;32m      5\u001b[0m   \u001b[0mtest_df\u001b[0m\u001b[0;34m.\u001b[0m\u001b[0mloc\u001b[0m\u001b[0;34m[\u001b[0m\u001b[0mrow\u001b[0m\u001b[0;34m[\u001b[0m\u001b[0mi\u001b[0m\u001b[0;34m]\u001b[0m\u001b[0;34m,\u001b[0m \u001b[0;34m\"mean_ARO2-LIMS-S907@Water\"\u001b[0m\u001b[0;34m]\u001b[0m \u001b[0;34m=\u001b[0m \u001b[0mtest_df\u001b[0m\u001b[0;34m.\u001b[0m\u001b[0mloc\u001b[0m\u001b[0;34m[\u001b[0m\u001b[0mrow\u001b[0m\u001b[0;34m[\u001b[0m\u001b[0mi\u001b[0m\u001b[0;34m]\u001b[0m\u001b[0;34m:\u001b[0m\u001b[0mrow\u001b[0m\u001b[0;34m[\u001b[0m\u001b[0mi\u001b[0m\u001b[0;34m+\u001b[0m\u001b[0;36m1\u001b[0m\u001b[0;34m]\u001b[0m\u001b[0;34m,\u001b[0m \u001b[0;34m\"ARO2-LIMS-S907@Water\"\u001b[0m\u001b[0;34m]\u001b[0m\u001b[0;34m.\u001b[0m\u001b[0mmean\u001b[0m\u001b[0;34m(\u001b[0m\u001b[0;34m)\u001b[0m\u001b[0;34m\u001b[0m\u001b[0;34m\u001b[0m\u001b[0m\n",
            "\u001b[0;31mIndexError\u001b[0m: list index out of range"
          ]
        }
      ]
    },
    {
      "cell_type": "code",
      "source": [
        "liner_df = test_df[test_df[\"time\"].notnull()]\n",
        "liner_df = liner_df.dropna()"
      ],
      "metadata": {
        "id": "lEWuxTrPsY5y"
      },
      "execution_count": 9,
      "outputs": []
    },
    {
      "cell_type": "markdown",
      "source": [
        "Linear"
      ],
      "metadata": {
        "id": "xP3u5KSizfFc"
      }
    },
    {
      "cell_type": "code",
      "source": [
        "# importing train_test_split from sklearn\n",
        "from sklearn.model_selection import train_test_split\n",
        "from sklearn.linear_model import LinearRegression\n",
        "\n",
        "# splitting the data\n",
        "x_train, x_test, y_train, y_test = train_test_split(liner_df[[\"time\", \"mean_ARO2-DCS-FI91601\", \"mean_ARO2-LIMS-S905@Water\", \"mean_ARO2-LIMS-S907@Water\", \"mean_ARO2-DCS-R911_2_A_FA\", \"mean_ARO2-DCS-R911_2_L2_A\"]], liner_df[\"mean_ARO2-DCS-PDI91201\"], test_size = 0.2, random_state = 42)\n",
        "# x_train, x_test, y_train, y_test = train_test_split(liner_df[[\"time\", \"mean_ARO2-DCS-FI91601\"]], liner_df[\"mean_ARO2-DCS-PDI91201\"], test_size = 0.2, random_state = 42)\n",
        "\n",
        "# creating an object of LinearRegression class\n",
        "LR = LinearRegression()\n",
        "# fitting the training data\n",
        "LR.fit(x_train,y_train)\n",
        "y_prediction =  LR.predict(x_test)"
      ],
      "metadata": {
        "id": "8eJjpxMOUcbo"
      },
      "execution_count": 10,
      "outputs": []
    },
    {
      "cell_type": "code",
      "source": [
        "# importing r2_score module\n",
        "from sklearn.metrics import r2_score\n",
        "from sklearn.metrics import mean_squared_error\n",
        "# predicting the accuracy score\n",
        "score=r2_score(y_test.dropna(),y_prediction)\n",
        "print(\"r2 socre is \",score)\n",
        "print(\"mean_sqrd_error is==\",mean_squared_error(y_test,y_prediction))\n",
        "print(\"root_mean_squared error of is==\",np.sqrt(mean_squared_error(y_test,y_prediction)))"
      ],
      "metadata": {
        "colab": {
          "base_uri": "https://localhost:8080/"
        },
        "id": "NlS05qVIV8Tu",
        "outputId": "d4fea5b0-3f5b-47de-a117-de5049bb687c"
      },
      "execution_count": 11,
      "outputs": [
        {
          "output_type": "stream",
          "name": "stdout",
          "text": [
            "r2 socre is  0.6682187139639565\n",
            "mean_sqrd_error is== 0.0032065739086870543\n",
            "root_mean_squared error of is== 0.05662661837587562\n"
          ]
        }
      ]
    },
    {
      "cell_type": "code",
      "source": [
        "print(\"Model slope:    \", LR.coef_)\n",
        "print(\"Model intercept:\", LR.intercept_)"
      ],
      "metadata": {
        "colab": {
          "base_uri": "https://localhost:8080/"
        },
        "id": "4LN2Co0qV_xw",
        "outputId": "a47e922c-2cc9-4863-d58f-1d0892a547b8"
      },
      "execution_count": 12,
      "outputs": [
        {
          "output_type": "stream",
          "name": "stdout",
          "text": [
            "Model slope:     [ 7.13401805e-05 -4.30878640e-03 -2.64060479e-04  6.46114345e-05\n",
            " -5.89926115e+00  3.20979623e-01]\n",
            "Model intercept: 5.25118913850055\n"
          ]
        }
      ]
    },
    {
      "cell_type": "code",
      "source": [
        "\"\"\" \n",
        "R911 = -0.00989419 * time + -0.00024425 * mean_ARO2-DCS-FI91601 + 0.00053083 * mean_ARO2-LIMS-S905@Water \n",
        "     + -0.00012113 * mean_ARO2-LIMS-S907@Water + 0.26579926774195956\n",
        "\"\"\""
      ],
      "metadata": {
        "id": "XxhthSxHWCEu"
      },
      "execution_count": null,
      "outputs": []
    },
    {
      "cell_type": "markdown",
      "source": [
        "Lasso"
      ],
      "metadata": {
        "id": "70stLQrVzpY7"
      }
    },
    {
      "cell_type": "code",
      "source": [
        "# importing train_test_split from sklearn\n",
        "from sklearn import linear_model\n",
        "from sklearn.model_selection import train_test_split\n",
        "from sklearn.metrics import r2_score\n",
        "from sklearn.metrics import mean_squared_error\n",
        "\n",
        "# splitting the data\n",
        "x_train, x_test, y_train, y_test = train_test_split(liner_df[[\"time\", \"mean_ARO2-DCS-FI91601\", \"mean_ARO2-LIMS-S905@Water\", \"mean_ARO2-LIMS-S907@Water\", \"mean_ARO2-DCS-R911_2_A_FA\", \"mean_ARO2-DCS-R911_2_L2_A\"]], liner_df[\"mean_ARO2-DCS-PDI91201\"], test_size = 0.2, random_state = 42)\n",
        "# x_train, x_test, y_train, y_test = train_test_split(liner_df[[\"time\", \"mean_ARO2-DCS-FI91601\"]], liner_df[\"mean_ARO2-DCS-PDI91201\"], test_size = 0.2, random_state = 42)\n",
        "\n",
        "clf_lasso = linear_model.Lasso(alpha=0.1)\n",
        "clf_lasso.fit(x_train,y_train)\n",
        "y_prediction = clf_lasso.predict(x_test)"
      ],
      "metadata": {
        "id": "n6B3kFdpzo8_"
      },
      "execution_count": 16,
      "outputs": []
    },
    {
      "cell_type": "code",
      "source": [
        "# predicting the accuracy score\n",
        "score=r2_score(y_test, y_prediction)\n",
        "print(\"r2 socre is \",score)\n",
        "print(\"mean_sqrd_error is==\",mean_squared_error(y_test,y_prediction))\n",
        "print(\"root_mean_squared error of is==\",np.sqrt(mean_squared_error(y_test,y_prediction)))"
      ],
      "metadata": {
        "colab": {
          "base_uri": "https://localhost:8080/"
        },
        "id": "C5GxG2MsztHV",
        "outputId": "e913e54d-ac56-4cf2-a322-4b0a8362ad4a"
      },
      "execution_count": 17,
      "outputs": [
        {
          "output_type": "stream",
          "name": "stdout",
          "text": [
            "r2 socre is  0.5279206875984676\n",
            "mean_sqrd_error is== 0.004562515336724657\n",
            "root_mean_squared error of is== 0.06754639395796534\n"
          ]
        }
      ]
    },
    {
      "cell_type": "code",
      "source": [
        "print(\"Model slope:    \", clf_lasso.coef_)\n",
        "print(\"Model intercept:\", clf_lasso.intercept_)"
      ],
      "metadata": {
        "colab": {
          "base_uri": "https://localhost:8080/"
        },
        "id": "DOnaJpiezuuT",
        "outputId": "d0d94afa-7c11-44a3-b4b8-db23fe99957a"
      },
      "execution_count": 18,
      "outputs": [
        {
          "output_type": "stream",
          "name": "stdout",
          "text": [
            "Model slope:     [-0.         -0.00424634  0.00034039  0.         -0.         -0.        ]\n",
            "Model intercept: 2.419056185260583\n"
          ]
        }
      ]
    },
    {
      "cell_type": "code",
      "source": [
        "from sklearn.pipeline import make_pipeline\n",
        "from sklearn.preprocessing import PolynomialFeatures\n",
        "\n",
        "x_train, x_test, y_train, y_test = train_test_split(liner_df[[\"time\", \"mean_ARO2-DCS-FI91601\", \"mean_ARO2-LIMS-S905@Water\", \"mean_ARO2-LIMS-S907@Water\", \"mean_ARO2-DCS-R911_2_A_FA\", \"mean_ARO2-DCS-R911_2_L2_A\"]], liner_df[\"mean_ARO2-DCS-PDI91201\"], test_size = 0.2, random_state = 42)\n",
        "# x_train, x_test, y_train, y_test = train_test_split(liner_df[[\"time\", \"mean_ARO2-DCS-FI91601\"]], liner_df[\"mean_ARO2-DCS-PDI91201\"], test_size = 0.2, random_state = 42)\n",
        "\n",
        "model = make_pipeline(PolynomialFeatures(3),linear_model.LinearRegression())\n",
        "model.fit(x_train,y_train)\n",
        "y_prediction = model.predict(x_test)"
      ],
      "metadata": {
        "id": "AFBwck8KqRIL"
      },
      "execution_count": 27,
      "outputs": []
    },
    {
      "cell_type": "code",
      "source": [
        "# predicting the accuracy score\n",
        "score = r2_score(y_test, y_prediction)\n",
        "print(\"r2 socre is \",score)\n",
        "print(\"mean_sqrd_error is==\",mean_squared_error(y_test,y_prediction))\n",
        "print(\"root_mean_squared error of is==\",np.sqrt(mean_squared_error(y_test,y_prediction)))"
      ],
      "metadata": {
        "colab": {
          "base_uri": "https://localhost:8080/"
        },
        "id": "PNuOjLhsq3he",
        "outputId": "b1bc5c0d-4baa-4332-a6ce-6db41ed9fc9b"
      },
      "execution_count": 28,
      "outputs": [
        {
          "output_type": "stream",
          "name": "stdout",
          "text": [
            "r2 socre is  0.7342527967484881\n",
            "mean_sqrd_error is== 0.002568372853194259\n",
            "root_mean_squared error of is== 0.05067911653920438\n"
          ]
        }
      ]
    },
    {
      "cell_type": "code",
      "source": [
        "print(\"Model degree:    \", model.steps[0][1])\n",
        "print(\"Model slope:    \", model.steps[1][1].coef_)\n",
        "print(\"Model intercept:\", model.steps[1][1].intercept_)"
      ],
      "metadata": {
        "colab": {
          "base_uri": "https://localhost:8080/"
        },
        "id": "AfSmUvHNs9A3",
        "outputId": "50e60726-c52b-429b-a16b-726ae38a6a1b"
      },
      "execution_count": 29,
      "outputs": [
        {
          "output_type": "stream",
          "name": "stdout",
          "text": [
            "Model degree:     PolynomialFeatures(degree=3)\n",
            "Model slope:     [ 5.76264758e-02 -7.39359773e+01  9.23136734e+00 -5.29033553e+00\n",
            "  2.96584486e+00  6.07749476e+03 -1.29346828e+03 -3.65571543e-02\n",
            "  1.24307787e-01  3.20332958e-02  1.09484017e-04  1.58825041e+02\n",
            " -2.02478253e+00 -1.02433343e-02  2.70718188e-04  1.30802317e-03\n",
            " -1.76469532e+01  2.36465029e+00 -2.02838105e-05  2.08086778e-04\n",
            "  2.17036284e+01 -7.48129702e-01 -8.81975282e-04 -1.36225567e+01\n",
            "  3.65263878e-01 -5.58949233e+03  4.65055839e+03 -1.27894943e+03\n",
            " -1.97734068e-04  9.62772728e-05 -8.77991160e-06  9.54705839e-06\n",
            " -7.53152324e-02  6.43526808e-02 -5.74069770e-05 -1.79697300e-05\n",
            " -9.17481248e-06 -1.18031462e-01 -5.11060291e-03 -1.41628425e-06\n",
            "  3.14448607e-06 -5.16173145e-02  9.32072409e-03 -1.27221278e-06\n",
            "  1.37149466e-02 -5.28543956e-03 -9.44263830e+01  6.62189620e+00\n",
            "  1.13599068e+00  2.24137904e-06  1.78677851e-06 -1.56645706e-06\n",
            "  1.58345052e-02 -2.82691905e-03  2.33198989e-07 -7.10490895e-07\n",
            " -3.34093859e-03 -1.74024905e-03  3.39930011e-07 -1.09511192e-04\n",
            "  1.46963508e-03  5.58605738e-01  1.19034177e+00  2.58870903e-01\n",
            " -1.05450545e-06  1.70857743e-06 -2.12867655e-04  2.92554772e-04\n",
            " -1.05701702e-07 -5.42584816e-04  6.50264834e-04 -2.13347146e+01\n",
            "  3.59454056e+00 -2.49608396e-01  1.36695235e-07  1.43132761e-03\n",
            " -7.91373513e-05  1.46862858e+01 -2.63510281e+00  1.38591286e-01\n",
            "  6.13908852e+03 -7.61377517e+03  2.74246355e+03 -1.67747085e+02]\n",
            "Model intercept: -2366.312237049115\n"
          ]
        }
      ]
    }
  ]
}
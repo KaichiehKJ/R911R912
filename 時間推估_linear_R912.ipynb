{
  "nbformat": 4,
  "nbformat_minor": 0,
  "metadata": {
    "colab": {
      "name": "時間推估_linear_R912.ipynb",
      "provenance": []
    },
    "kernelspec": {
      "name": "python3",
      "display_name": "Python 3"
    },
    "language_info": {
      "name": "python"
    }
  },
  "cells": [
    {
      "cell_type": "code",
      "execution_count": null,
      "metadata": {
        "colab": {
          "base_uri": "https://localhost:8080/"
        },
        "id": "_IkO2xAmMSPR",
        "outputId": "103a4a05-5bf9-4320-c009-a78cbe943b30"
      },
      "outputs": [
        {
          "output_type": "stream",
          "name": "stdout",
          "text": [
            "/content/drive/MyDrive/MCUT/R911R912\n",
            "20220413\t\tcode\t     test.csv\n",
            "ARO1_pearsonr_corr.csv\tdata\t     Untitled0.ipynb\n",
            "ARO1特徵因子分析.ipynb\tdataset.pkl  Untitled1.ipynb\n",
            "ARO2_pearsonr_corr.csv\tmodel\n",
            "ARO2特徵因子分析.ipynb\tPPT\n"
          ]
        }
      ],
      "source": [
        "%cd /content/drive/MyDrive/MCUT/R911R912\n",
        "!ls"
      ]
    },
    {
      "cell_type": "code",
      "source": [
        "import pandas as pd\n",
        "import numpy as np\n",
        "from sklearn.decomposition import PCA\n",
        "import matplotlib.pyplot as plt\n",
        "import seaborn as sns\n",
        "from mpl_toolkits.mplot3d import Axes3D\n",
        "from matplotlib.colors import ListedColormap"
      ],
      "metadata": {
        "id": "BKrRqsuQMk4e"
      },
      "execution_count": null,
      "outputs": []
    },
    {
      "cell_type": "code",
      "source": [
        "df_x = pd.read_excel(\"data/ADS47/R911R912 _明志蔡教授_R4-ARO2.xlsx\", sheet_name = \"R911R912_TAG相關錶點資料(X)\")"
      ],
      "metadata": {
        "id": "PEX_pMyIMoGY"
      },
      "execution_count": null,
      "outputs": []
    },
    {
      "cell_type": "code",
      "source": [
        "df = df_x[[\"Unnamed: 0\", \"ARO2-DCS-PDI91101\", \"ARO2-DCS-PDI91201\", \"ARO2-DCS-FI91601\", \"ARO2-DCS-FI91701\", \"ARO2-LIMS-S905@Water\", \"ARO2-LIMS-S907@Water\"]]\n",
        "df[\"Unnamed: 0\"] = range(60679)\n",
        "df.loc[df[\"ARO2-LIMS-S905@Water\"] == \"Over Range\", \"ARO2-LIMS-S905@Water\"] = np.nan\n",
        "df.loc[df[\"ARO2-LIMS-S907@Water\"] == \"Over Range\", \"ARO2-LIMS-S907@Water\"] = np.nan\n",
        "# df = df[df[\"ARO2-LIMS-S905@Water\"].notnull() & df[\"ARO2-LIMS-S907@Water\"].notnull()]\n",
        "# df.columns.values[0] = \"time(hr)\"\n",
        "from tqdm import tqdm\n",
        "for i in tqdm(df.columns):\n",
        "    df[i] = pd.to_numeric(df[i], errors='coerce')\n",
        "\n",
        "df"
      ],
      "metadata": {
        "colab": {
          "base_uri": "https://localhost:8080/",
          "height": 754
        },
        "id": "wvhcDf0oOrxR",
        "outputId": "bd5863e4-bfd3-401c-e54c-d23b8cca118b"
      },
      "execution_count": null,
      "outputs": [
        {
          "output_type": "stream",
          "name": "stderr",
          "text": [
            "/usr/local/lib/python3.7/dist-packages/ipykernel_launcher.py:2: SettingWithCopyWarning: \n",
            "A value is trying to be set on a copy of a slice from a DataFrame.\n",
            "Try using .loc[row_indexer,col_indexer] = value instead\n",
            "\n",
            "See the caveats in the documentation: https://pandas.pydata.org/pandas-docs/stable/user_guide/indexing.html#returning-a-view-versus-a-copy\n",
            "  \n",
            "/usr/local/lib/python3.7/dist-packages/pandas/core/indexing.py:1817: SettingWithCopyWarning: \n",
            "A value is trying to be set on a copy of a slice from a DataFrame.\n",
            "Try using .loc[row_indexer,col_indexer] = value instead\n",
            "\n",
            "See the caveats in the documentation: https://pandas.pydata.org/pandas-docs/stable/user_guide/indexing.html#returning-a-view-versus-a-copy\n",
            "  self._setitem_single_column(loc, value, pi)\n",
            "  0%|          | 0/7 [00:00<?, ?it/s]/usr/local/lib/python3.7/dist-packages/ipykernel_launcher.py:9: SettingWithCopyWarning: \n",
            "A value is trying to be set on a copy of a slice from a DataFrame.\n",
            "Try using .loc[row_indexer,col_indexer] = value instead\n",
            "\n",
            "See the caveats in the documentation: https://pandas.pydata.org/pandas-docs/stable/user_guide/indexing.html#returning-a-view-versus-a-copy\n",
            "  if __name__ == '__main__':\n",
            "100%|██████████| 7/7 [00:00<00:00, 82.91it/s]\n"
          ]
        },
        {
          "output_type": "execute_result",
          "data": {
            "text/plain": [
              "       Unnamed: 0  ARO2-DCS-PDI91101  ARO2-DCS-PDI91201  ARO2-DCS-FI91601  \\\n",
              "0               0           2.731854           3.547650        249.573349   \n",
              "1               1           2.731864           3.547517        249.627914   \n",
              "2               2           2.731875           3.547384        249.682480   \n",
              "3               3           2.731885           3.547251        249.737045   \n",
              "4               4           2.731896           3.547118        249.791611   \n",
              "...           ...                ...                ...               ...   \n",
              "60674       60674           3.376228           3.603930        545.488342   \n",
              "60675       60675           3.378542           3.601583        508.997894   \n",
              "60676       60676           3.397708           3.592693        541.041016   \n",
              "60677       60677           3.344053           3.705959        547.967651   \n",
              "60678       60678           3.304692           3.720822        548.199829   \n",
              "\n",
              "       ARO2-DCS-FI91701  ARO2-LIMS-S905@Water  ARO2-LIMS-S907@Water  \n",
              "0            500.489868                   NaN                   NaN  \n",
              "1            500.495331                   NaN                   NaN  \n",
              "2            500.500793                   NaN                   NaN  \n",
              "3            500.506256                   NaN                   NaN  \n",
              "4            500.511719                   NaN                   NaN  \n",
              "...                 ...                   ...                   ...  \n",
              "60674        629.368591                   NaN                   NaN  \n",
              "60675        576.146851                   NaN                   NaN  \n",
              "60676        636.753174                   NaN                   NaN  \n",
              "60677        638.237244                   NaN                   NaN  \n",
              "60678        634.467468                   NaN                   NaN  \n",
              "\n",
              "[60679 rows x 7 columns]"
            ],
            "text/html": [
              "\n",
              "  <div id=\"df-3ae2908d-7dbb-4c75-8c6e-d025e26f341a\">\n",
              "    <div class=\"colab-df-container\">\n",
              "      <div>\n",
              "<style scoped>\n",
              "    .dataframe tbody tr th:only-of-type {\n",
              "        vertical-align: middle;\n",
              "    }\n",
              "\n",
              "    .dataframe tbody tr th {\n",
              "        vertical-align: top;\n",
              "    }\n",
              "\n",
              "    .dataframe thead th {\n",
              "        text-align: right;\n",
              "    }\n",
              "</style>\n",
              "<table border=\"1\" class=\"dataframe\">\n",
              "  <thead>\n",
              "    <tr style=\"text-align: right;\">\n",
              "      <th></th>\n",
              "      <th>Unnamed: 0</th>\n",
              "      <th>ARO2-DCS-PDI91101</th>\n",
              "      <th>ARO2-DCS-PDI91201</th>\n",
              "      <th>ARO2-DCS-FI91601</th>\n",
              "      <th>ARO2-DCS-FI91701</th>\n",
              "      <th>ARO2-LIMS-S905@Water</th>\n",
              "      <th>ARO2-LIMS-S907@Water</th>\n",
              "    </tr>\n",
              "  </thead>\n",
              "  <tbody>\n",
              "    <tr>\n",
              "      <th>0</th>\n",
              "      <td>0</td>\n",
              "      <td>2.731854</td>\n",
              "      <td>3.547650</td>\n",
              "      <td>249.573349</td>\n",
              "      <td>500.489868</td>\n",
              "      <td>NaN</td>\n",
              "      <td>NaN</td>\n",
              "    </tr>\n",
              "    <tr>\n",
              "      <th>1</th>\n",
              "      <td>1</td>\n",
              "      <td>2.731864</td>\n",
              "      <td>3.547517</td>\n",
              "      <td>249.627914</td>\n",
              "      <td>500.495331</td>\n",
              "      <td>NaN</td>\n",
              "      <td>NaN</td>\n",
              "    </tr>\n",
              "    <tr>\n",
              "      <th>2</th>\n",
              "      <td>2</td>\n",
              "      <td>2.731875</td>\n",
              "      <td>3.547384</td>\n",
              "      <td>249.682480</td>\n",
              "      <td>500.500793</td>\n",
              "      <td>NaN</td>\n",
              "      <td>NaN</td>\n",
              "    </tr>\n",
              "    <tr>\n",
              "      <th>3</th>\n",
              "      <td>3</td>\n",
              "      <td>2.731885</td>\n",
              "      <td>3.547251</td>\n",
              "      <td>249.737045</td>\n",
              "      <td>500.506256</td>\n",
              "      <td>NaN</td>\n",
              "      <td>NaN</td>\n",
              "    </tr>\n",
              "    <tr>\n",
              "      <th>4</th>\n",
              "      <td>4</td>\n",
              "      <td>2.731896</td>\n",
              "      <td>3.547118</td>\n",
              "      <td>249.791611</td>\n",
              "      <td>500.511719</td>\n",
              "      <td>NaN</td>\n",
              "      <td>NaN</td>\n",
              "    </tr>\n",
              "    <tr>\n",
              "      <th>...</th>\n",
              "      <td>...</td>\n",
              "      <td>...</td>\n",
              "      <td>...</td>\n",
              "      <td>...</td>\n",
              "      <td>...</td>\n",
              "      <td>...</td>\n",
              "      <td>...</td>\n",
              "    </tr>\n",
              "    <tr>\n",
              "      <th>60674</th>\n",
              "      <td>60674</td>\n",
              "      <td>3.376228</td>\n",
              "      <td>3.603930</td>\n",
              "      <td>545.488342</td>\n",
              "      <td>629.368591</td>\n",
              "      <td>NaN</td>\n",
              "      <td>NaN</td>\n",
              "    </tr>\n",
              "    <tr>\n",
              "      <th>60675</th>\n",
              "      <td>60675</td>\n",
              "      <td>3.378542</td>\n",
              "      <td>3.601583</td>\n",
              "      <td>508.997894</td>\n",
              "      <td>576.146851</td>\n",
              "      <td>NaN</td>\n",
              "      <td>NaN</td>\n",
              "    </tr>\n",
              "    <tr>\n",
              "      <th>60676</th>\n",
              "      <td>60676</td>\n",
              "      <td>3.397708</td>\n",
              "      <td>3.592693</td>\n",
              "      <td>541.041016</td>\n",
              "      <td>636.753174</td>\n",
              "      <td>NaN</td>\n",
              "      <td>NaN</td>\n",
              "    </tr>\n",
              "    <tr>\n",
              "      <th>60677</th>\n",
              "      <td>60677</td>\n",
              "      <td>3.344053</td>\n",
              "      <td>3.705959</td>\n",
              "      <td>547.967651</td>\n",
              "      <td>638.237244</td>\n",
              "      <td>NaN</td>\n",
              "      <td>NaN</td>\n",
              "    </tr>\n",
              "    <tr>\n",
              "      <th>60678</th>\n",
              "      <td>60678</td>\n",
              "      <td>3.304692</td>\n",
              "      <td>3.720822</td>\n",
              "      <td>548.199829</td>\n",
              "      <td>634.467468</td>\n",
              "      <td>NaN</td>\n",
              "      <td>NaN</td>\n",
              "    </tr>\n",
              "  </tbody>\n",
              "</table>\n",
              "<p>60679 rows × 7 columns</p>\n",
              "</div>\n",
              "      <button class=\"colab-df-convert\" onclick=\"convertToInteractive('df-3ae2908d-7dbb-4c75-8c6e-d025e26f341a')\"\n",
              "              title=\"Convert this dataframe to an interactive table.\"\n",
              "              style=\"display:none;\">\n",
              "        \n",
              "  <svg xmlns=\"http://www.w3.org/2000/svg\" height=\"24px\"viewBox=\"0 0 24 24\"\n",
              "       width=\"24px\">\n",
              "    <path d=\"M0 0h24v24H0V0z\" fill=\"none\"/>\n",
              "    <path d=\"M18.56 5.44l.94 2.06.94-2.06 2.06-.94-2.06-.94-.94-2.06-.94 2.06-2.06.94zm-11 1L8.5 8.5l.94-2.06 2.06-.94-2.06-.94L8.5 2.5l-.94 2.06-2.06.94zm10 10l.94 2.06.94-2.06 2.06-.94-2.06-.94-.94-2.06-.94 2.06-2.06.94z\"/><path d=\"M17.41 7.96l-1.37-1.37c-.4-.4-.92-.59-1.43-.59-.52 0-1.04.2-1.43.59L10.3 9.45l-7.72 7.72c-.78.78-.78 2.05 0 2.83L4 21.41c.39.39.9.59 1.41.59.51 0 1.02-.2 1.41-.59l7.78-7.78 2.81-2.81c.8-.78.8-2.07 0-2.86zM5.41 20L4 18.59l7.72-7.72 1.47 1.35L5.41 20z\"/>\n",
              "  </svg>\n",
              "      </button>\n",
              "      \n",
              "  <style>\n",
              "    .colab-df-container {\n",
              "      display:flex;\n",
              "      flex-wrap:wrap;\n",
              "      gap: 12px;\n",
              "    }\n",
              "\n",
              "    .colab-df-convert {\n",
              "      background-color: #E8F0FE;\n",
              "      border: none;\n",
              "      border-radius: 50%;\n",
              "      cursor: pointer;\n",
              "      display: none;\n",
              "      fill: #1967D2;\n",
              "      height: 32px;\n",
              "      padding: 0 0 0 0;\n",
              "      width: 32px;\n",
              "    }\n",
              "\n",
              "    .colab-df-convert:hover {\n",
              "      background-color: #E2EBFA;\n",
              "      box-shadow: 0px 1px 2px rgba(60, 64, 67, 0.3), 0px 1px 3px 1px rgba(60, 64, 67, 0.15);\n",
              "      fill: #174EA6;\n",
              "    }\n",
              "\n",
              "    [theme=dark] .colab-df-convert {\n",
              "      background-color: #3B4455;\n",
              "      fill: #D2E3FC;\n",
              "    }\n",
              "\n",
              "    [theme=dark] .colab-df-convert:hover {\n",
              "      background-color: #434B5C;\n",
              "      box-shadow: 0px 1px 3px 1px rgba(0, 0, 0, 0.15);\n",
              "      filter: drop-shadow(0px 1px 2px rgba(0, 0, 0, 0.3));\n",
              "      fill: #FFFFFF;\n",
              "    }\n",
              "  </style>\n",
              "\n",
              "      <script>\n",
              "        const buttonEl =\n",
              "          document.querySelector('#df-3ae2908d-7dbb-4c75-8c6e-d025e26f341a button.colab-df-convert');\n",
              "        buttonEl.style.display =\n",
              "          google.colab.kernel.accessAllowed ? 'block' : 'none';\n",
              "\n",
              "        async function convertToInteractive(key) {\n",
              "          const element = document.querySelector('#df-3ae2908d-7dbb-4c75-8c6e-d025e26f341a');\n",
              "          const dataTable =\n",
              "            await google.colab.kernel.invokeFunction('convertToInteractive',\n",
              "                                                     [key], {});\n",
              "          if (!dataTable) return;\n",
              "\n",
              "          const docLinkHtml = 'Like what you see? Visit the ' +\n",
              "            '<a target=\"_blank\" href=https://colab.research.google.com/notebooks/data_table.ipynb>data table notebook</a>'\n",
              "            + ' to learn more about interactive tables.';\n",
              "          element.innerHTML = '';\n",
              "          dataTable['output_type'] = 'display_data';\n",
              "          await google.colab.output.renderOutput(dataTable, element);\n",
              "          const docLink = document.createElement('div');\n",
              "          docLink.innerHTML = docLinkHtml;\n",
              "          element.appendChild(docLink);\n",
              "        }\n",
              "      </script>\n",
              "    </div>\n",
              "  </div>\n",
              "  "
            ]
          },
          "metadata": {},
          "execution_count": 4
        }
      ]
    },
    {
      "cell_type": "code",
      "source": [
        "for i in range(len(df)-1):\n",
        "  df.loc[i+1, \"btw_t\"] = df[\"Unnamed: 0\"][i+1] - df[\"Unnamed: 0\"][i]\n",
        "  df.loc[i+1, \"btw_ARO2-DCS-PDI91101\"] = df[\"ARO2-DCS-PDI91101\"][i+1] - df[\"ARO2-DCS-PDI91101\"][i]\n",
        "  df.loc[i+1, \"btw_ARO2-DCS-PDI91201\"] = df[\"ARO2-DCS-PDI91201\"][i+1] - df[\"ARO2-DCS-PDI91201\"][i]\n",
        "\n",
        "df"
      ],
      "metadata": {
        "colab": {
          "base_uri": "https://localhost:8080/",
          "height": 632
        },
        "id": "hMCvCtb1P-k7",
        "outputId": "e5751b70-2259-4e5e-c862-7c79b53a322e"
      },
      "execution_count": null,
      "outputs": [
        {
          "output_type": "stream",
          "name": "stderr",
          "text": [
            "/usr/local/lib/python3.7/dist-packages/pandas/core/indexing.py:1684: SettingWithCopyWarning: \n",
            "A value is trying to be set on a copy of a slice from a DataFrame.\n",
            "Try using .loc[row_indexer,col_indexer] = value instead\n",
            "\n",
            "See the caveats in the documentation: https://pandas.pydata.org/pandas-docs/stable/user_guide/indexing.html#returning-a-view-versus-a-copy\n",
            "  self.obj[key] = infer_fill_value(value)\n",
            "/usr/local/lib/python3.7/dist-packages/pandas/core/indexing.py:1817: SettingWithCopyWarning: \n",
            "A value is trying to be set on a copy of a slice from a DataFrame.\n",
            "Try using .loc[row_indexer,col_indexer] = value instead\n",
            "\n",
            "See the caveats in the documentation: https://pandas.pydata.org/pandas-docs/stable/user_guide/indexing.html#returning-a-view-versus-a-copy\n",
            "  self._setitem_single_column(loc, value, pi)\n"
          ]
        },
        {
          "output_type": "execute_result",
          "data": {
            "text/plain": [
              "       Unnamed: 0  ARO2-DCS-PDI91101  ARO2-DCS-PDI91201  ARO2-DCS-FI91601  \\\n",
              "0               0           2.731854           3.547650        249.573349   \n",
              "1               1           2.731864           3.547517        249.627914   \n",
              "2               2           2.731875           3.547384        249.682480   \n",
              "3               3           2.731885           3.547251        249.737045   \n",
              "4               4           2.731896           3.547118        249.791611   \n",
              "...           ...                ...                ...               ...   \n",
              "60674       60674           3.376228           3.603930        545.488342   \n",
              "60675       60675           3.378542           3.601583        508.997894   \n",
              "60676       60676           3.397708           3.592693        541.041016   \n",
              "60677       60677           3.344053           3.705959        547.967651   \n",
              "60678       60678           3.304692           3.720822        548.199829   \n",
              "\n",
              "       ARO2-DCS-FI91701  ARO2-LIMS-S905@Water  ARO2-LIMS-S907@Water  btw_t  \\\n",
              "0            500.489868                   NaN                   NaN    NaN   \n",
              "1            500.495331                   NaN                   NaN    1.0   \n",
              "2            500.500793                   NaN                   NaN    1.0   \n",
              "3            500.506256                   NaN                   NaN    1.0   \n",
              "4            500.511719                   NaN                   NaN    1.0   \n",
              "...                 ...                   ...                   ...    ...   \n",
              "60674        629.368591                   NaN                   NaN    1.0   \n",
              "60675        576.146851                   NaN                   NaN    1.0   \n",
              "60676        636.753174                   NaN                   NaN    1.0   \n",
              "60677        638.237244                   NaN                   NaN    1.0   \n",
              "60678        634.467468                   NaN                   NaN    1.0   \n",
              "\n",
              "       btw_ARO2-DCS-PDI91101  btw_ARO2-DCS-PDI91201  \n",
              "0                        NaN                    NaN  \n",
              "1                   0.000010              -0.000133  \n",
              "2                   0.000010              -0.000133  \n",
              "3                   0.000010              -0.000133  \n",
              "4                   0.000010              -0.000133  \n",
              "...                      ...                    ...  \n",
              "60674               0.051777              -0.007429  \n",
              "60675               0.002314              -0.002347  \n",
              "60676               0.019166              -0.008891  \n",
              "60677              -0.053655               0.113266  \n",
              "60678              -0.039361               0.014863  \n",
              "\n",
              "[60679 rows x 10 columns]"
            ],
            "text/html": [
              "\n",
              "  <div id=\"df-a6cece72-e2ed-4a61-82f4-4f423cc26f95\">\n",
              "    <div class=\"colab-df-container\">\n",
              "      <div>\n",
              "<style scoped>\n",
              "    .dataframe tbody tr th:only-of-type {\n",
              "        vertical-align: middle;\n",
              "    }\n",
              "\n",
              "    .dataframe tbody tr th {\n",
              "        vertical-align: top;\n",
              "    }\n",
              "\n",
              "    .dataframe thead th {\n",
              "        text-align: right;\n",
              "    }\n",
              "</style>\n",
              "<table border=\"1\" class=\"dataframe\">\n",
              "  <thead>\n",
              "    <tr style=\"text-align: right;\">\n",
              "      <th></th>\n",
              "      <th>Unnamed: 0</th>\n",
              "      <th>ARO2-DCS-PDI91101</th>\n",
              "      <th>ARO2-DCS-PDI91201</th>\n",
              "      <th>ARO2-DCS-FI91601</th>\n",
              "      <th>ARO2-DCS-FI91701</th>\n",
              "      <th>ARO2-LIMS-S905@Water</th>\n",
              "      <th>ARO2-LIMS-S907@Water</th>\n",
              "      <th>btw_t</th>\n",
              "      <th>btw_ARO2-DCS-PDI91101</th>\n",
              "      <th>btw_ARO2-DCS-PDI91201</th>\n",
              "    </tr>\n",
              "  </thead>\n",
              "  <tbody>\n",
              "    <tr>\n",
              "      <th>0</th>\n",
              "      <td>0</td>\n",
              "      <td>2.731854</td>\n",
              "      <td>3.547650</td>\n",
              "      <td>249.573349</td>\n",
              "      <td>500.489868</td>\n",
              "      <td>NaN</td>\n",
              "      <td>NaN</td>\n",
              "      <td>NaN</td>\n",
              "      <td>NaN</td>\n",
              "      <td>NaN</td>\n",
              "    </tr>\n",
              "    <tr>\n",
              "      <th>1</th>\n",
              "      <td>1</td>\n",
              "      <td>2.731864</td>\n",
              "      <td>3.547517</td>\n",
              "      <td>249.627914</td>\n",
              "      <td>500.495331</td>\n",
              "      <td>NaN</td>\n",
              "      <td>NaN</td>\n",
              "      <td>1.0</td>\n",
              "      <td>0.000010</td>\n",
              "      <td>-0.000133</td>\n",
              "    </tr>\n",
              "    <tr>\n",
              "      <th>2</th>\n",
              "      <td>2</td>\n",
              "      <td>2.731875</td>\n",
              "      <td>3.547384</td>\n",
              "      <td>249.682480</td>\n",
              "      <td>500.500793</td>\n",
              "      <td>NaN</td>\n",
              "      <td>NaN</td>\n",
              "      <td>1.0</td>\n",
              "      <td>0.000010</td>\n",
              "      <td>-0.000133</td>\n",
              "    </tr>\n",
              "    <tr>\n",
              "      <th>3</th>\n",
              "      <td>3</td>\n",
              "      <td>2.731885</td>\n",
              "      <td>3.547251</td>\n",
              "      <td>249.737045</td>\n",
              "      <td>500.506256</td>\n",
              "      <td>NaN</td>\n",
              "      <td>NaN</td>\n",
              "      <td>1.0</td>\n",
              "      <td>0.000010</td>\n",
              "      <td>-0.000133</td>\n",
              "    </tr>\n",
              "    <tr>\n",
              "      <th>4</th>\n",
              "      <td>4</td>\n",
              "      <td>2.731896</td>\n",
              "      <td>3.547118</td>\n",
              "      <td>249.791611</td>\n",
              "      <td>500.511719</td>\n",
              "      <td>NaN</td>\n",
              "      <td>NaN</td>\n",
              "      <td>1.0</td>\n",
              "      <td>0.000010</td>\n",
              "      <td>-0.000133</td>\n",
              "    </tr>\n",
              "    <tr>\n",
              "      <th>...</th>\n",
              "      <td>...</td>\n",
              "      <td>...</td>\n",
              "      <td>...</td>\n",
              "      <td>...</td>\n",
              "      <td>...</td>\n",
              "      <td>...</td>\n",
              "      <td>...</td>\n",
              "      <td>...</td>\n",
              "      <td>...</td>\n",
              "      <td>...</td>\n",
              "    </tr>\n",
              "    <tr>\n",
              "      <th>60674</th>\n",
              "      <td>60674</td>\n",
              "      <td>3.376228</td>\n",
              "      <td>3.603930</td>\n",
              "      <td>545.488342</td>\n",
              "      <td>629.368591</td>\n",
              "      <td>NaN</td>\n",
              "      <td>NaN</td>\n",
              "      <td>1.0</td>\n",
              "      <td>0.051777</td>\n",
              "      <td>-0.007429</td>\n",
              "    </tr>\n",
              "    <tr>\n",
              "      <th>60675</th>\n",
              "      <td>60675</td>\n",
              "      <td>3.378542</td>\n",
              "      <td>3.601583</td>\n",
              "      <td>508.997894</td>\n",
              "      <td>576.146851</td>\n",
              "      <td>NaN</td>\n",
              "      <td>NaN</td>\n",
              "      <td>1.0</td>\n",
              "      <td>0.002314</td>\n",
              "      <td>-0.002347</td>\n",
              "    </tr>\n",
              "    <tr>\n",
              "      <th>60676</th>\n",
              "      <td>60676</td>\n",
              "      <td>3.397708</td>\n",
              "      <td>3.592693</td>\n",
              "      <td>541.041016</td>\n",
              "      <td>636.753174</td>\n",
              "      <td>NaN</td>\n",
              "      <td>NaN</td>\n",
              "      <td>1.0</td>\n",
              "      <td>0.019166</td>\n",
              "      <td>-0.008891</td>\n",
              "    </tr>\n",
              "    <tr>\n",
              "      <th>60677</th>\n",
              "      <td>60677</td>\n",
              "      <td>3.344053</td>\n",
              "      <td>3.705959</td>\n",
              "      <td>547.967651</td>\n",
              "      <td>638.237244</td>\n",
              "      <td>NaN</td>\n",
              "      <td>NaN</td>\n",
              "      <td>1.0</td>\n",
              "      <td>-0.053655</td>\n",
              "      <td>0.113266</td>\n",
              "    </tr>\n",
              "    <tr>\n",
              "      <th>60678</th>\n",
              "      <td>60678</td>\n",
              "      <td>3.304692</td>\n",
              "      <td>3.720822</td>\n",
              "      <td>548.199829</td>\n",
              "      <td>634.467468</td>\n",
              "      <td>NaN</td>\n",
              "      <td>NaN</td>\n",
              "      <td>1.0</td>\n",
              "      <td>-0.039361</td>\n",
              "      <td>0.014863</td>\n",
              "    </tr>\n",
              "  </tbody>\n",
              "</table>\n",
              "<p>60679 rows × 10 columns</p>\n",
              "</div>\n",
              "      <button class=\"colab-df-convert\" onclick=\"convertToInteractive('df-a6cece72-e2ed-4a61-82f4-4f423cc26f95')\"\n",
              "              title=\"Convert this dataframe to an interactive table.\"\n",
              "              style=\"display:none;\">\n",
              "        \n",
              "  <svg xmlns=\"http://www.w3.org/2000/svg\" height=\"24px\"viewBox=\"0 0 24 24\"\n",
              "       width=\"24px\">\n",
              "    <path d=\"M0 0h24v24H0V0z\" fill=\"none\"/>\n",
              "    <path d=\"M18.56 5.44l.94 2.06.94-2.06 2.06-.94-2.06-.94-.94-2.06-.94 2.06-2.06.94zm-11 1L8.5 8.5l.94-2.06 2.06-.94-2.06-.94L8.5 2.5l-.94 2.06-2.06.94zm10 10l.94 2.06.94-2.06 2.06-.94-2.06-.94-.94-2.06-.94 2.06-2.06.94z\"/><path d=\"M17.41 7.96l-1.37-1.37c-.4-.4-.92-.59-1.43-.59-.52 0-1.04.2-1.43.59L10.3 9.45l-7.72 7.72c-.78.78-.78 2.05 0 2.83L4 21.41c.39.39.9.59 1.41.59.51 0 1.02-.2 1.41-.59l7.78-7.78 2.81-2.81c.8-.78.8-2.07 0-2.86zM5.41 20L4 18.59l7.72-7.72 1.47 1.35L5.41 20z\"/>\n",
              "  </svg>\n",
              "      </button>\n",
              "      \n",
              "  <style>\n",
              "    .colab-df-container {\n",
              "      display:flex;\n",
              "      flex-wrap:wrap;\n",
              "      gap: 12px;\n",
              "    }\n",
              "\n",
              "    .colab-df-convert {\n",
              "      background-color: #E8F0FE;\n",
              "      border: none;\n",
              "      border-radius: 50%;\n",
              "      cursor: pointer;\n",
              "      display: none;\n",
              "      fill: #1967D2;\n",
              "      height: 32px;\n",
              "      padding: 0 0 0 0;\n",
              "      width: 32px;\n",
              "    }\n",
              "\n",
              "    .colab-df-convert:hover {\n",
              "      background-color: #E2EBFA;\n",
              "      box-shadow: 0px 1px 2px rgba(60, 64, 67, 0.3), 0px 1px 3px 1px rgba(60, 64, 67, 0.15);\n",
              "      fill: #174EA6;\n",
              "    }\n",
              "\n",
              "    [theme=dark] .colab-df-convert {\n",
              "      background-color: #3B4455;\n",
              "      fill: #D2E3FC;\n",
              "    }\n",
              "\n",
              "    [theme=dark] .colab-df-convert:hover {\n",
              "      background-color: #434B5C;\n",
              "      box-shadow: 0px 1px 3px 1px rgba(0, 0, 0, 0.15);\n",
              "      filter: drop-shadow(0px 1px 2px rgba(0, 0, 0, 0.3));\n",
              "      fill: #FFFFFF;\n",
              "    }\n",
              "  </style>\n",
              "\n",
              "      <script>\n",
              "        const buttonEl =\n",
              "          document.querySelector('#df-a6cece72-e2ed-4a61-82f4-4f423cc26f95 button.colab-df-convert');\n",
              "        buttonEl.style.display =\n",
              "          google.colab.kernel.accessAllowed ? 'block' : 'none';\n",
              "\n",
              "        async function convertToInteractive(key) {\n",
              "          const element = document.querySelector('#df-a6cece72-e2ed-4a61-82f4-4f423cc26f95');\n",
              "          const dataTable =\n",
              "            await google.colab.kernel.invokeFunction('convertToInteractive',\n",
              "                                                     [key], {});\n",
              "          if (!dataTable) return;\n",
              "\n",
              "          const docLinkHtml = 'Like what you see? Visit the ' +\n",
              "            '<a target=\"_blank\" href=https://colab.research.google.com/notebooks/data_table.ipynb>data table notebook</a>'\n",
              "            + ' to learn more about interactive tables.';\n",
              "          element.innerHTML = '';\n",
              "          dataTable['output_type'] = 'display_data';\n",
              "          await google.colab.output.renderOutput(dataTable, element);\n",
              "          const docLink = document.createElement('div');\n",
              "          docLink.innerHTML = docLinkHtml;\n",
              "          element.appendChild(docLink);\n",
              "        }\n",
              "      </script>\n",
              "    </div>\n",
              "  </div>\n",
              "  "
            ]
          },
          "metadata": {},
          "execution_count": 5
        }
      ]
    },
    {
      "cell_type": "code",
      "source": [
        "test_df = df.loc[df[\"btw_ARO2-DCS-PDI91201\"] > 0, [\"btw_ARO2-DCS-PDI91201\", \"btw_t\", \"ARO2-DCS-FI91601\", \"ARO2-LIMS-S905@Water\", \"ARO2-LIMS-S907@Water\"]].reset_index()\n",
        "test_df['ARO2-LIMS-S905@Water'].fillna(method='ffill', inplace=True)\n",
        "test_df['ARO2-LIMS-S905@Water'].fillna(method='bfill', inplace=True)\n",
        "test_df['ARO2-LIMS-S907@Water'].fillna(method='ffill', inplace=True)\n",
        "test_df['ARO2-LIMS-S907@Water'].fillna(method='bfill', inplace=True)\n",
        "# test_df = test_df[test_df[\"ARO2-LIMS-S905@Water\"].notnull() & test_df[\"ARO2-LIMS-S907@Water\"].notnull()]"
      ],
      "metadata": {
        "id": "7x2-Exlwo_xU"
      },
      "execution_count": null,
      "outputs": []
    },
    {
      "cell_type": "code",
      "source": [
        "N = 0\n",
        "for i in range(len(test_df)):\n",
        "  if test_df[\"index\"][i+1] == test_df[\"index\"][i]+1:\n",
        "    N = N + 1\n",
        "  else:\n",
        "    N = N + 1\n",
        "    test_df.loc[i+1-N, \"time\"] = N\n",
        "    test_df.loc[i+1-N, \"mean_ARO2-DCS-PDI91201\"] = test_df.loc[i+1-N:i+1, \"btw_ARO2-DCS-PDI91201\"].mean()\n",
        "    N = 0"
      ],
      "metadata": {
        "id": "cbDm3aN0pkd8"
      },
      "execution_count": null,
      "outputs": []
    },
    {
      "cell_type": "code",
      "source": [
        "row = test_df[test_df[\"time\"].notnull()].index.tolist()\n",
        "for i in range(len(row)):\n",
        "  test_df.loc[row[i], \"mean_ARO2-DCS-FI91601\"] = test_df.loc[row[i]:row[i+1], \"ARO2-DCS-FI91601\"].mean()\n",
        "  test_df.loc[row[i], \"mean_ARO2-LIMS-S905@Water\"] = test_df.loc[row[i]:row[i+1], \"ARO2-LIMS-S905@Water\"].mean()\n",
        "  test_df.loc[row[i], \"mean_ARO2-LIMS-S907@Water\"] = test_df.loc[row[i]:row[i+1], \"ARO2-LIMS-S907@Water\"].mean()"
      ],
      "metadata": {
        "id": "nspJnGIyJoy2"
      },
      "execution_count": null,
      "outputs": []
    },
    {
      "cell_type": "code",
      "source": [
        "liner_df = test_df[test_df[\"time\"].notnull()]\n",
        "liner_df = liner_df.dropna()"
      ],
      "metadata": {
        "id": "lEWuxTrPsY5y"
      },
      "execution_count": null,
      "outputs": []
    },
    {
      "cell_type": "markdown",
      "source": [
        "Linear"
      ],
      "metadata": {
        "id": "xP3u5KSizfFc"
      }
    },
    {
      "cell_type": "code",
      "source": [
        "# importing train_test_split from sklearn\n",
        "from sklearn.model_selection import train_test_split\n",
        "from sklearn.linear_model import LinearRegression\n",
        "\n",
        "# splitting the data\n",
        "# x_train, x_test, y_train, y_test = train_test_split(liner_df[[\"time\", \"mean_ARO2-DCS-FI91601\", \"mean_ARO2-LIMS-S905@Water\", \"mean_ARO2-LIMS-S907@Water\"]], liner_df[\"mean_ARO2-DCS-PDI91201\"], test_size = 0.2, random_state = 42)\n",
        "x_train, x_test, y_train, y_test = train_test_split(liner_df[[\"time\", \"mean_ARO2-DCS-FI91601\"]], liner_df[\"mean_ARO2-DCS-PDI91201\"], test_size = 0.2, random_state = 42)\n",
        "\n",
        "# creating an object of LinearRegression class\n",
        "LR = LinearRegression()\n",
        "# fitting the training data\n",
        "LR.fit(x_train,y_train)\n",
        "y_prediction =  LR.predict(x_test)"
      ],
      "metadata": {
        "id": "8eJjpxMOUcbo"
      },
      "execution_count": null,
      "outputs": []
    },
    {
      "cell_type": "code",
      "source": [
        "# importing r2_score module\n",
        "from sklearn.metrics import r2_score\n",
        "from sklearn.metrics import mean_squared_error\n",
        "# predicting the accuracy score\n",
        "score=r2_score(y_test.dropna(),y_prediction)\n",
        "print(\"r2 socre is \",score)\n",
        "print(\"mean_sqrd_error is==\",mean_squared_error(y_test,y_prediction))\n",
        "print(\"root_mean_squared error of is==\",np.sqrt(mean_squared_error(y_test,y_prediction)))"
      ],
      "metadata": {
        "colab": {
          "base_uri": "https://localhost:8080/"
        },
        "id": "NlS05qVIV8Tu",
        "outputId": "c6a65ae2-e948-4a5d-b097-87e60fffcdb8"
      },
      "execution_count": null,
      "outputs": [
        {
          "output_type": "stream",
          "name": "stdout",
          "text": [
            "r2 socre is  0.06407432807512792\n",
            "mean_sqrd_error is== 0.013542990803692385\n",
            "root_mean_squared error of is== 0.11637435629764997\n"
          ]
        }
      ]
    },
    {
      "cell_type": "code",
      "source": [
        "print(\"Model slope:    \", LR.coef_)\n",
        "print(\"Model intercept:\", LR.intercept_)"
      ],
      "metadata": {
        "colab": {
          "base_uri": "https://localhost:8080/"
        },
        "id": "4LN2Co0qV_xw",
        "outputId": "c628b96b-ece7-4be2-e5dc-e5b8d55f65f7"
      },
      "execution_count": null,
      "outputs": [
        {
          "output_type": "stream",
          "name": "stdout",
          "text": [
            "Model slope:     [-0.00974242 -0.00026081]\n",
            "Model intercept: 0.3056114894411416\n"
          ]
        }
      ]
    },
    {
      "cell_type": "code",
      "source": [
        "\"\"\" \n",
        "R911 = -0.00989419 * time + -0.00024425 * mean_ARO2-DCS-FI91601 + 0.00053083 * mean_ARO2-LIMS-S905@Water \n",
        "     + -0.00012113 * mean_ARO2-LIMS-S907@Water + 0.26579926774195956\n",
        "\"\"\""
      ],
      "metadata": {
        "id": "XxhthSxHWCEu"
      },
      "execution_count": null,
      "outputs": []
    },
    {
      "cell_type": "markdown",
      "source": [
        "Lasso"
      ],
      "metadata": {
        "id": "70stLQrVzpY7"
      }
    },
    {
      "cell_type": "code",
      "source": [
        "# importing train_test_split from sklearn\n",
        "from sklearn import linear_model\n",
        "from sklearn.model_selection import train_test_split\n",
        "from sklearn.metrics import r2_score\n",
        "from sklearn.metrics import mean_squared_error\n",
        "\n",
        "# splitting the data\n",
        "# x_train, x_test, y_train, y_test = train_test_split(liner_df[[\"time\", \"mean_ARO2-DCS-FI91601\", \"mean_ARO2-LIMS-S905@Water\", \"mean_ARO2-LIMS-S907@Water\"]], liner_df[\"mean_ARO2-DCS-PDI91201\"], test_size = 0.2, random_state = 42)\n",
        "x_train, x_test, y_train, y_test = train_test_split(liner_df[[\"time\", \"mean_ARO2-DCS-FI91601\"]], liner_df[\"mean_ARO2-DCS-PDI91201\"], test_size = 0.2, random_state = 42)\n",
        "\n",
        "clf_lasso = linear_model.Lasso(alpha=0.1)\n",
        "clf_lasso.fit(x_train,y_train)\n",
        "y_prediction = clf_lasso.predict(x_test)"
      ],
      "metadata": {
        "id": "n6B3kFdpzo8_"
      },
      "execution_count": null,
      "outputs": []
    },
    {
      "cell_type": "code",
      "source": [
        "# predicting the accuracy score\n",
        "score=r2_score(y_test, y_prediction)\n",
        "print(\"r2 socre is \",score)\n",
        "print(\"mean_sqrd_error is==\",mean_squared_error(y_test,y_prediction))\n",
        "print(\"root_mean_squared error of is==\",np.sqrt(mean_squared_error(y_test,y_prediction)))"
      ],
      "metadata": {
        "colab": {
          "base_uri": "https://localhost:8080/"
        },
        "id": "C5GxG2MsztHV",
        "outputId": "5bf4f335-d175-403e-8c2b-998290b4d954"
      },
      "execution_count": null,
      "outputs": [
        {
          "output_type": "stream",
          "name": "stdout",
          "text": [
            "r2 socre is  0.05054658108422361\n",
            "mean_sqrd_error is== 0.013738739417698992\n",
            "root_mean_squared error of is== 0.11721236887674863\n"
          ]
        }
      ]
    },
    {
      "cell_type": "code",
      "source": [
        "print(\"Model slope:    \", clf_lasso.coef_)\n",
        "print(\"Model intercept:\", clf_lasso.intercept_)"
      ],
      "metadata": {
        "colab": {
          "base_uri": "https://localhost:8080/"
        },
        "id": "DOnaJpiezuuT",
        "outputId": "17f63532-5019-48d0-c171-c993b45f1d3e"
      },
      "execution_count": null,
      "outputs": [
        {
          "output_type": "stream",
          "name": "stdout",
          "text": [
            "Model slope:     [-0.         -0.00027368]\n",
            "Model intercept: 0.2901792952266418\n"
          ]
        }
      ]
    },
    {
      "cell_type": "code",
      "source": [
        "from sklearn.pipeline import make_pipeline\n",
        "from sklearn.preprocessing import PolynomialFeatures\n",
        "\n",
        "x_train, x_test, y_train, y_test = train_test_split(liner_df[[\"time\", \"mean_ARO2-DCS-FI91601\", \"mean_ARO2-LIMS-S905@Water\", \"mean_ARO2-LIMS-S907@Water\"]], liner_df[\"mean_ARO2-DCS-PDI91201\"], test_size = 0.2, random_state = 42)\n",
        "# x_train, x_test, y_train, y_test = train_test_split(liner_df[[\"time\", \"mean_ARO2-DCS-FI91601\"]], liner_df[\"mean_ARO2-DCS-PDI91201\"], test_size = 0.2, random_state = 42)\n",
        "\n",
        "model = make_pipeline(PolynomialFeatures(4),linear_model.LinearRegression())\n",
        "model.fit(x_train,y_train)\n",
        "y_prediction = model.predict(x_test)"
      ],
      "metadata": {
        "id": "AFBwck8KqRIL"
      },
      "execution_count": null,
      "outputs": []
    },
    {
      "cell_type": "code",
      "source": [
        "# predicting the accuracy score\n",
        "score = r2_score(y_test, y_prediction)\n",
        "print(\"r2 socre is \",score)\n",
        "print(\"mean_sqrd_error is==\",mean_squared_error(y_test,y_prediction))\n",
        "print(\"root_mean_squared error of is==\",np.sqrt(mean_squared_error(y_test,y_prediction)))"
      ],
      "metadata": {
        "colab": {
          "base_uri": "https://localhost:8080/"
        },
        "id": "PNuOjLhsq3he",
        "outputId": "e3f2aa19-cacb-4e9f-b9f0-3ec21b1bfd6a"
      },
      "execution_count": null,
      "outputs": [
        {
          "output_type": "stream",
          "name": "stdout",
          "text": [
            "r2 socre is  0.6530020638025729\n",
            "mean_sqrd_error is== 0.005021114389518765\n",
            "root_mean_squared error of is== 0.0708598221104087\n"
          ]
        }
      ]
    },
    {
      "cell_type": "code",
      "source": [
        "print(\"Model degree:    \", model.steps[0][1])\n",
        "print(\"Model slope:    \", model.steps[1][1].coef_)\n",
        "print(\"Model intercept:\", model.steps[1][1].intercept_)"
      ],
      "metadata": {
        "colab": {
          "base_uri": "https://localhost:8080/"
        },
        "id": "AfSmUvHNs9A3",
        "outputId": "05ac04d0-2b8b-44fa-f136-bc36b57ffda5"
      },
      "execution_count": null,
      "outputs": [
        {
          "output_type": "stream",
          "name": "stdout",
          "text": [
            "Model degree:     PolynomialFeatures(degree=4)\n",
            "Model slope:     [ 3.23775812e-05  2.48283897e+00 -9.37651450e-02 -7.41167110e-01\n",
            "  9.63287683e-02  6.92174736e-02 -1.23944226e-02 -5.57156826e-02\n",
            "  2.31560948e-02  9.15087937e-05  3.13179843e-03 -6.79834256e-04\n",
            "  2.96221152e-04  8.44386621e-03 -4.01907139e-03  6.42898958e-03\n",
            " -2.94737312e-04 -3.01011969e-03  1.43442699e-03  1.93401644e-05\n",
            "  1.79323752e-04 -6.34839970e-05  3.58323520e-06  3.01948597e-04\n",
            " -2.15499500e-04  6.57632518e-08 -3.15832966e-06  2.89355154e-07\n",
            " -6.94010562e-06 -2.72827772e-05  1.94619404e-05  6.51710954e-06\n",
            "  1.28911500e-05 -3.08980990e-05  4.03082688e-06 -6.34756845e-05\n",
            " -8.61543528e-06 -3.56924539e-06  2.93222973e-06  3.40611405e-07\n",
            "  4.89909800e-06 -3.23982710e-06  9.83225730e-07  2.08774692e-06\n",
            "  1.21884121e-06 -1.02192631e-08 -1.36790582e-07  5.61781644e-08\n",
            " -4.40414648e-08 -5.12798302e-07  2.95275243e-07  3.37012476e-08\n",
            "  2.13353639e-08 -1.73470139e-07  1.80921140e-07 -1.14495524e-10\n",
            " -4.54972726e-11  9.32666611e-10  1.02067081e-08  2.30417246e-08\n",
            " -2.13040478e-08 -6.95998043e-09 -2.05570228e-08  4.29656063e-08\n",
            " -3.98449494e-09 -8.02566053e-09  4.00015004e-09 -1.16541203e-08\n",
            "  3.35643172e-08 -1.45488641e-08]\n",
            "Model intercept: 23.91005227201666\n"
          ]
        }
      ]
    }
  ]
}
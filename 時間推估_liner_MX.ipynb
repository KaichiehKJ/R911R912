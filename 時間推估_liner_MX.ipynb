{
  "nbformat": 4,
  "nbformat_minor": 0,
  "metadata": {
    "colab": {
      "name": "時間推估_liner_MXipynb",
      "provenance": [],
      "collapsed_sections": []
    },
    "kernelspec": {
      "name": "python3",
      "display_name": "Python 3"
    },
    "language_info": {
      "name": "python"
    }
  },
  "cells": [
    {
      "cell_type": "code",
      "execution_count": null,
      "metadata": {
        "colab": {
          "base_uri": "https://localhost:8080/"
        },
        "id": "_IkO2xAmMSPR",
        "outputId": "92a77660-7a30-4168-e0c6-a7b84f0203ca"
      },
      "outputs": [
        {
          "output_type": "stream",
          "name": "stdout",
          "text": [
            "/content/drive/MyDrive/MCUT/R911R912\n",
            "20220413\t\tcode\t     test.csv\n",
            "ARO1_pearsonr_corr.csv\tdata\t     Untitled0.ipynb\n",
            "ARO1特徵因子分析.ipynb\tdataset.pkl  Untitled1.ipynb\n",
            "ARO2_pearsonr_corr.csv\tmodel\n",
            "ARO2特徵因子分析.ipynb\tPPT\n"
          ]
        }
      ],
      "source": [
        "%cd /content/drive/MyDrive/MCUT/R911R912\n",
        "!ls"
      ]
    },
    {
      "cell_type": "code",
      "source": [
        "import pandas as pd\n",
        "import numpy as np\n",
        "from sklearn.decomposition import PCA\n",
        "import matplotlib.pyplot as plt\n",
        "import seaborn as sns\n",
        "from mpl_toolkits.mplot3d import Axes3D\n",
        "from matplotlib.colors import ListedColormap"
      ],
      "metadata": {
        "id": "BKrRqsuQMk4e"
      },
      "execution_count": null,
      "outputs": []
    },
    {
      "cell_type": "code",
      "source": [
        "df_X = pd.read_excel(\"data/ADS47/R911R912 _明志蔡教授_R4-ARO2.xlsx\", sheet_name = \"R911R912_TAG相關錶點資料(X)\")\n",
        "df_y = pd.read_excel(\"data/ADS47/R911R912 _明志蔡教授_R4-ARO2.xlsx\", sheet_name = \"目標值(Y)相關錶點資料\")"
      ],
      "metadata": {
        "id": "PEX_pMyIMoGY"
      },
      "execution_count": null,
      "outputs": []
    },
    {
      "cell_type": "code",
      "source": [
        "df_x = df_X.join(df_y[\"ARO2-LIMS-s922@MX\"])"
      ],
      "metadata": {
        "id": "7p0-Fn7ddpEi"
      },
      "execution_count": null,
      "outputs": []
    },
    {
      "cell_type": "code",
      "source": [
        "df_x[\"Unnamed: 0\"] = range(len(df_x[\"Unnamed: 0\"]))\n",
        "df_x[\"ARO2-DCS-FI91601\"] = pd.to_numeric(df_x[\"ARO2-DCS-FI91601\"], errors='coerce')\n",
        "df_x = df_x.loc[df_x[\"ARO2-DCS-FI91601\"] > 520, :]\n",
        "df_x.reset_index(inplace = True, drop = True)"
      ],
      "metadata": {
        "id": "UUKy-vrWBEfc"
      },
      "execution_count": null,
      "outputs": []
    },
    {
      "cell_type": "code",
      "source": [
        "df = df_x[[\"Unnamed: 0\", \"ARO2-LIMS-s922@MX\", \"ARO2-DCS-FI91601\", \"ARO2-LIMS-S708@Br.Index\", \"ARO2-LIMS-S708@A9\", \"ARO2-LIMS-S708@A10+\",\n",
        "           \"ARO2-LIMS-S708@Water\", \"ARO2-LIMS-S708@Sulfur\", \"ARO2-LIMS-s919@A9\", \"ARO2-LIMS-s919@A10+\",\n",
        "           \"ARO2-LIMS-S905@Water\", \"ARO2-LIMS-S907@Water\", \"ARO2-DCS-R911_2_A_FA\", \"ARO2-DCS-R911_2_L2_A\"]]\n",
        "df[\"Unnamed: 0\"] = range(len(df[\"Unnamed: 0\"]))\n",
        "df.loc[df[\"ARO2-LIMS-S905@Water\"] == \"Over Range\", \"ARO2-LIMS-S905@Water\"] = np.nan\n",
        "df.loc[df[\"ARO2-LIMS-S907@Water\"] == \"Over Range\", \"ARO2-LIMS-S907@Water\"] = np.nan\n",
        "# df = df[df[\"ARO2-LIMS-S905@Water\"].notnull() & df[\"ARO2-LIMS-S907@Water\"].notnull()]\n",
        "# df.columns.values[0] = \"time(hr)\"\n",
        "from tqdm import tqdm\n",
        "for i in tqdm(df.columns):\n",
        "    df[i] = pd.to_numeric(df[i], errors='coerce')\n",
        "\n",
        "df"
      ],
      "metadata": {
        "id": "wvhcDf0oOrxR",
        "colab": {
          "base_uri": "https://localhost:8080/",
          "height": 815
        },
        "outputId": "b40ec266-9d57-4906-c876-8ba38c611376"
      },
      "execution_count": null,
      "outputs": [
        {
          "output_type": "stream",
          "name": "stderr",
          "text": [
            "/usr/local/lib/python3.7/dist-packages/ipykernel_launcher.py:4: SettingWithCopyWarning: \n",
            "A value is trying to be set on a copy of a slice from a DataFrame.\n",
            "Try using .loc[row_indexer,col_indexer] = value instead\n",
            "\n",
            "See the caveats in the documentation: https://pandas.pydata.org/pandas-docs/stable/user_guide/indexing.html#returning-a-view-versus-a-copy\n",
            "  after removing the cwd from sys.path.\n",
            "/usr/local/lib/python3.7/dist-packages/pandas/core/indexing.py:1817: SettingWithCopyWarning: \n",
            "A value is trying to be set on a copy of a slice from a DataFrame.\n",
            "Try using .loc[row_indexer,col_indexer] = value instead\n",
            "\n",
            "See the caveats in the documentation: https://pandas.pydata.org/pandas-docs/stable/user_guide/indexing.html#returning-a-view-versus-a-copy\n",
            "  self._setitem_single_column(loc, value, pi)\n",
            "  0%|          | 0/14 [00:00<?, ?it/s]/usr/local/lib/python3.7/dist-packages/ipykernel_launcher.py:11: SettingWithCopyWarning: \n",
            "A value is trying to be set on a copy of a slice from a DataFrame.\n",
            "Try using .loc[row_indexer,col_indexer] = value instead\n",
            "\n",
            "See the caveats in the documentation: https://pandas.pydata.org/pandas-docs/stable/user_guide/indexing.html#returning-a-view-versus-a-copy\n",
            "  # This is added back by InteractiveShellApp.init_path()\n",
            "100%|██████████| 14/14 [00:00<00:00, 347.26it/s]\n"
          ]
        },
        {
          "output_type": "execute_result",
          "data": {
            "text/plain": [
              "       Unnamed: 0  ARO2-LIMS-s922@MX  ARO2-DCS-FI91601  \\\n",
              "0               0                NaN        520.227295   \n",
              "1               1                NaN        520.065247   \n",
              "2               2                NaN        520.485046   \n",
              "3               3                NaN        520.381592   \n",
              "4               4                NaN        522.027710   \n",
              "...           ...                ...               ...   \n",
              "40248       40248                NaN        544.754517   \n",
              "40249       40249                NaN        545.488342   \n",
              "40250       40250                NaN        541.041016   \n",
              "40251       40251                NaN        547.967651   \n",
              "40252       40252                NaN        548.199829   \n",
              "\n",
              "       ARO2-LIMS-S708@Br.Index  ARO2-LIMS-S708@A9  ARO2-LIMS-S708@A10+  \\\n",
              "0                          NaN                NaN                  NaN   \n",
              "1                          NaN                NaN                  NaN   \n",
              "2                          NaN                NaN                  NaN   \n",
              "3                          NaN                NaN                  NaN   \n",
              "4                          NaN                NaN                  NaN   \n",
              "...                        ...                ...                  ...   \n",
              "40248                      NaN                NaN                  NaN   \n",
              "40249                      NaN                NaN                  NaN   \n",
              "40250                      NaN                NaN                  NaN   \n",
              "40251                      NaN                NaN                  NaN   \n",
              "40252                      NaN                NaN                  NaN   \n",
              "\n",
              "       ARO2-LIMS-S708@Water  ARO2-LIMS-S708@Sulfur  ARO2-LIMS-s919@A9  \\\n",
              "0                       NaN                    NaN                NaN   \n",
              "1                       NaN                    NaN                NaN   \n",
              "2                       NaN                    NaN                NaN   \n",
              "3                       NaN                    NaN                NaN   \n",
              "4                       NaN                    NaN                NaN   \n",
              "...                     ...                    ...                ...   \n",
              "40248                   NaN                    NaN                NaN   \n",
              "40249                   NaN                    NaN                NaN   \n",
              "40250                   NaN                    NaN                NaN   \n",
              "40251                   NaN                    NaN                NaN   \n",
              "40252                   NaN                    NaN                NaN   \n",
              "\n",
              "       ARO2-LIMS-s919@A10+  ARO2-LIMS-S905@Water  ARO2-LIMS-S907@Water  \\\n",
              "0                      NaN                   NaN                   NaN   \n",
              "1                      NaN                   NaN                   NaN   \n",
              "2                      NaN                   NaN                   NaN   \n",
              "3                      NaN                   NaN                   NaN   \n",
              "4                      NaN                   NaN                   NaN   \n",
              "...                    ...                   ...                   ...   \n",
              "40248                  NaN                   NaN                   NaN   \n",
              "40249                  NaN                   NaN                   NaN   \n",
              "40250                  NaN                   NaN                   NaN   \n",
              "40251                  NaN                   NaN                   NaN   \n",
              "40252                  NaN                   NaN                   NaN   \n",
              "\n",
              "       ARO2-DCS-R911_2_A_FA  ARO2-DCS-R911_2_L2_A  \n",
              "0                     0.476              0.354005  \n",
              "1                     0.476              0.354005  \n",
              "2                     0.476              0.354005  \n",
              "3                     0.476              0.356976  \n",
              "4                     0.476              0.358866  \n",
              "...                     ...                   ...  \n",
              "40248                 0.502              0.372907  \n",
              "40249                 0.502              0.372907  \n",
              "40250                 0.502              0.372907  \n",
              "40251                 0.502              0.372907  \n",
              "40252                 0.502              0.372907  \n",
              "\n",
              "[40253 rows x 14 columns]"
            ],
            "text/html": [
              "\n",
              "  <div id=\"df-c451fc49-55c1-4a91-af6c-ae8b7c9a2c9c\">\n",
              "    <div class=\"colab-df-container\">\n",
              "      <div>\n",
              "<style scoped>\n",
              "    .dataframe tbody tr th:only-of-type {\n",
              "        vertical-align: middle;\n",
              "    }\n",
              "\n",
              "    .dataframe tbody tr th {\n",
              "        vertical-align: top;\n",
              "    }\n",
              "\n",
              "    .dataframe thead th {\n",
              "        text-align: right;\n",
              "    }\n",
              "</style>\n",
              "<table border=\"1\" class=\"dataframe\">\n",
              "  <thead>\n",
              "    <tr style=\"text-align: right;\">\n",
              "      <th></th>\n",
              "      <th>Unnamed: 0</th>\n",
              "      <th>ARO2-LIMS-s922@MX</th>\n",
              "      <th>ARO2-DCS-FI91601</th>\n",
              "      <th>ARO2-LIMS-S708@Br.Index</th>\n",
              "      <th>ARO2-LIMS-S708@A9</th>\n",
              "      <th>ARO2-LIMS-S708@A10+</th>\n",
              "      <th>ARO2-LIMS-S708@Water</th>\n",
              "      <th>ARO2-LIMS-S708@Sulfur</th>\n",
              "      <th>ARO2-LIMS-s919@A9</th>\n",
              "      <th>ARO2-LIMS-s919@A10+</th>\n",
              "      <th>ARO2-LIMS-S905@Water</th>\n",
              "      <th>ARO2-LIMS-S907@Water</th>\n",
              "      <th>ARO2-DCS-R911_2_A_FA</th>\n",
              "      <th>ARO2-DCS-R911_2_L2_A</th>\n",
              "    </tr>\n",
              "  </thead>\n",
              "  <tbody>\n",
              "    <tr>\n",
              "      <th>0</th>\n",
              "      <td>0</td>\n",
              "      <td>NaN</td>\n",
              "      <td>520.227295</td>\n",
              "      <td>NaN</td>\n",
              "      <td>NaN</td>\n",
              "      <td>NaN</td>\n",
              "      <td>NaN</td>\n",
              "      <td>NaN</td>\n",
              "      <td>NaN</td>\n",
              "      <td>NaN</td>\n",
              "      <td>NaN</td>\n",
              "      <td>NaN</td>\n",
              "      <td>0.476</td>\n",
              "      <td>0.354005</td>\n",
              "    </tr>\n",
              "    <tr>\n",
              "      <th>1</th>\n",
              "      <td>1</td>\n",
              "      <td>NaN</td>\n",
              "      <td>520.065247</td>\n",
              "      <td>NaN</td>\n",
              "      <td>NaN</td>\n",
              "      <td>NaN</td>\n",
              "      <td>NaN</td>\n",
              "      <td>NaN</td>\n",
              "      <td>NaN</td>\n",
              "      <td>NaN</td>\n",
              "      <td>NaN</td>\n",
              "      <td>NaN</td>\n",
              "      <td>0.476</td>\n",
              "      <td>0.354005</td>\n",
              "    </tr>\n",
              "    <tr>\n",
              "      <th>2</th>\n",
              "      <td>2</td>\n",
              "      <td>NaN</td>\n",
              "      <td>520.485046</td>\n",
              "      <td>NaN</td>\n",
              "      <td>NaN</td>\n",
              "      <td>NaN</td>\n",
              "      <td>NaN</td>\n",
              "      <td>NaN</td>\n",
              "      <td>NaN</td>\n",
              "      <td>NaN</td>\n",
              "      <td>NaN</td>\n",
              "      <td>NaN</td>\n",
              "      <td>0.476</td>\n",
              "      <td>0.354005</td>\n",
              "    </tr>\n",
              "    <tr>\n",
              "      <th>3</th>\n",
              "      <td>3</td>\n",
              "      <td>NaN</td>\n",
              "      <td>520.381592</td>\n",
              "      <td>NaN</td>\n",
              "      <td>NaN</td>\n",
              "      <td>NaN</td>\n",
              "      <td>NaN</td>\n",
              "      <td>NaN</td>\n",
              "      <td>NaN</td>\n",
              "      <td>NaN</td>\n",
              "      <td>NaN</td>\n",
              "      <td>NaN</td>\n",
              "      <td>0.476</td>\n",
              "      <td>0.356976</td>\n",
              "    </tr>\n",
              "    <tr>\n",
              "      <th>4</th>\n",
              "      <td>4</td>\n",
              "      <td>NaN</td>\n",
              "      <td>522.027710</td>\n",
              "      <td>NaN</td>\n",
              "      <td>NaN</td>\n",
              "      <td>NaN</td>\n",
              "      <td>NaN</td>\n",
              "      <td>NaN</td>\n",
              "      <td>NaN</td>\n",
              "      <td>NaN</td>\n",
              "      <td>NaN</td>\n",
              "      <td>NaN</td>\n",
              "      <td>0.476</td>\n",
              "      <td>0.358866</td>\n",
              "    </tr>\n",
              "    <tr>\n",
              "      <th>...</th>\n",
              "      <td>...</td>\n",
              "      <td>...</td>\n",
              "      <td>...</td>\n",
              "      <td>...</td>\n",
              "      <td>...</td>\n",
              "      <td>...</td>\n",
              "      <td>...</td>\n",
              "      <td>...</td>\n",
              "      <td>...</td>\n",
              "      <td>...</td>\n",
              "      <td>...</td>\n",
              "      <td>...</td>\n",
              "      <td>...</td>\n",
              "      <td>...</td>\n",
              "    </tr>\n",
              "    <tr>\n",
              "      <th>40248</th>\n",
              "      <td>40248</td>\n",
              "      <td>NaN</td>\n",
              "      <td>544.754517</td>\n",
              "      <td>NaN</td>\n",
              "      <td>NaN</td>\n",
              "      <td>NaN</td>\n",
              "      <td>NaN</td>\n",
              "      <td>NaN</td>\n",
              "      <td>NaN</td>\n",
              "      <td>NaN</td>\n",
              "      <td>NaN</td>\n",
              "      <td>NaN</td>\n",
              "      <td>0.502</td>\n",
              "      <td>0.372907</td>\n",
              "    </tr>\n",
              "    <tr>\n",
              "      <th>40249</th>\n",
              "      <td>40249</td>\n",
              "      <td>NaN</td>\n",
              "      <td>545.488342</td>\n",
              "      <td>NaN</td>\n",
              "      <td>NaN</td>\n",
              "      <td>NaN</td>\n",
              "      <td>NaN</td>\n",
              "      <td>NaN</td>\n",
              "      <td>NaN</td>\n",
              "      <td>NaN</td>\n",
              "      <td>NaN</td>\n",
              "      <td>NaN</td>\n",
              "      <td>0.502</td>\n",
              "      <td>0.372907</td>\n",
              "    </tr>\n",
              "    <tr>\n",
              "      <th>40250</th>\n",
              "      <td>40250</td>\n",
              "      <td>NaN</td>\n",
              "      <td>541.041016</td>\n",
              "      <td>NaN</td>\n",
              "      <td>NaN</td>\n",
              "      <td>NaN</td>\n",
              "      <td>NaN</td>\n",
              "      <td>NaN</td>\n",
              "      <td>NaN</td>\n",
              "      <td>NaN</td>\n",
              "      <td>NaN</td>\n",
              "      <td>NaN</td>\n",
              "      <td>0.502</td>\n",
              "      <td>0.372907</td>\n",
              "    </tr>\n",
              "    <tr>\n",
              "      <th>40251</th>\n",
              "      <td>40251</td>\n",
              "      <td>NaN</td>\n",
              "      <td>547.967651</td>\n",
              "      <td>NaN</td>\n",
              "      <td>NaN</td>\n",
              "      <td>NaN</td>\n",
              "      <td>NaN</td>\n",
              "      <td>NaN</td>\n",
              "      <td>NaN</td>\n",
              "      <td>NaN</td>\n",
              "      <td>NaN</td>\n",
              "      <td>NaN</td>\n",
              "      <td>0.502</td>\n",
              "      <td>0.372907</td>\n",
              "    </tr>\n",
              "    <tr>\n",
              "      <th>40252</th>\n",
              "      <td>40252</td>\n",
              "      <td>NaN</td>\n",
              "      <td>548.199829</td>\n",
              "      <td>NaN</td>\n",
              "      <td>NaN</td>\n",
              "      <td>NaN</td>\n",
              "      <td>NaN</td>\n",
              "      <td>NaN</td>\n",
              "      <td>NaN</td>\n",
              "      <td>NaN</td>\n",
              "      <td>NaN</td>\n",
              "      <td>NaN</td>\n",
              "      <td>0.502</td>\n",
              "      <td>0.372907</td>\n",
              "    </tr>\n",
              "  </tbody>\n",
              "</table>\n",
              "<p>40253 rows × 14 columns</p>\n",
              "</div>\n",
              "      <button class=\"colab-df-convert\" onclick=\"convertToInteractive('df-c451fc49-55c1-4a91-af6c-ae8b7c9a2c9c')\"\n",
              "              title=\"Convert this dataframe to an interactive table.\"\n",
              "              style=\"display:none;\">\n",
              "        \n",
              "  <svg xmlns=\"http://www.w3.org/2000/svg\" height=\"24px\"viewBox=\"0 0 24 24\"\n",
              "       width=\"24px\">\n",
              "    <path d=\"M0 0h24v24H0V0z\" fill=\"none\"/>\n",
              "    <path d=\"M18.56 5.44l.94 2.06.94-2.06 2.06-.94-2.06-.94-.94-2.06-.94 2.06-2.06.94zm-11 1L8.5 8.5l.94-2.06 2.06-.94-2.06-.94L8.5 2.5l-.94 2.06-2.06.94zm10 10l.94 2.06.94-2.06 2.06-.94-2.06-.94-.94-2.06-.94 2.06-2.06.94z\"/><path d=\"M17.41 7.96l-1.37-1.37c-.4-.4-.92-.59-1.43-.59-.52 0-1.04.2-1.43.59L10.3 9.45l-7.72 7.72c-.78.78-.78 2.05 0 2.83L4 21.41c.39.39.9.59 1.41.59.51 0 1.02-.2 1.41-.59l7.78-7.78 2.81-2.81c.8-.78.8-2.07 0-2.86zM5.41 20L4 18.59l7.72-7.72 1.47 1.35L5.41 20z\"/>\n",
              "  </svg>\n",
              "      </button>\n",
              "      \n",
              "  <style>\n",
              "    .colab-df-container {\n",
              "      display:flex;\n",
              "      flex-wrap:wrap;\n",
              "      gap: 12px;\n",
              "    }\n",
              "\n",
              "    .colab-df-convert {\n",
              "      background-color: #E8F0FE;\n",
              "      border: none;\n",
              "      border-radius: 50%;\n",
              "      cursor: pointer;\n",
              "      display: none;\n",
              "      fill: #1967D2;\n",
              "      height: 32px;\n",
              "      padding: 0 0 0 0;\n",
              "      width: 32px;\n",
              "    }\n",
              "\n",
              "    .colab-df-convert:hover {\n",
              "      background-color: #E2EBFA;\n",
              "      box-shadow: 0px 1px 2px rgba(60, 64, 67, 0.3), 0px 1px 3px 1px rgba(60, 64, 67, 0.15);\n",
              "      fill: #174EA6;\n",
              "    }\n",
              "\n",
              "    [theme=dark] .colab-df-convert {\n",
              "      background-color: #3B4455;\n",
              "      fill: #D2E3FC;\n",
              "    }\n",
              "\n",
              "    [theme=dark] .colab-df-convert:hover {\n",
              "      background-color: #434B5C;\n",
              "      box-shadow: 0px 1px 3px 1px rgba(0, 0, 0, 0.15);\n",
              "      filter: drop-shadow(0px 1px 2px rgba(0, 0, 0, 0.3));\n",
              "      fill: #FFFFFF;\n",
              "    }\n",
              "  </style>\n",
              "\n",
              "      <script>\n",
              "        const buttonEl =\n",
              "          document.querySelector('#df-c451fc49-55c1-4a91-af6c-ae8b7c9a2c9c button.colab-df-convert');\n",
              "        buttonEl.style.display =\n",
              "          google.colab.kernel.accessAllowed ? 'block' : 'none';\n",
              "\n",
              "        async function convertToInteractive(key) {\n",
              "          const element = document.querySelector('#df-c451fc49-55c1-4a91-af6c-ae8b7c9a2c9c');\n",
              "          const dataTable =\n",
              "            await google.colab.kernel.invokeFunction('convertToInteractive',\n",
              "                                                     [key], {});\n",
              "          if (!dataTable) return;\n",
              "\n",
              "          const docLinkHtml = 'Like what you see? Visit the ' +\n",
              "            '<a target=\"_blank\" href=https://colab.research.google.com/notebooks/data_table.ipynb>data table notebook</a>'\n",
              "            + ' to learn more about interactive tables.';\n",
              "          element.innerHTML = '';\n",
              "          dataTable['output_type'] = 'display_data';\n",
              "          await google.colab.output.renderOutput(dataTable, element);\n",
              "          const docLink = document.createElement('div');\n",
              "          docLink.innerHTML = docLinkHtml;\n",
              "          element.appendChild(docLink);\n",
              "        }\n",
              "      </script>\n",
              "    </div>\n",
              "  </div>\n",
              "  "
            ]
          },
          "metadata": {},
          "execution_count": 163
        }
      ]
    },
    {
      "cell_type": "code",
      "source": [
        "# Function to calculate missing values by column# Funct \n",
        "def missing_values_table(df):\n",
        "  # Total missing values\n",
        "  mis_val = df.isnull().sum()\n",
        "  \n",
        "  # Percentage of missing values\n",
        "  mis_val_percent = 100 * df.isnull().sum() / len(df)\n",
        "  \n",
        "  # Make a table with the results\n",
        "  mis_val_table = pd.concat([mis_val, mis_val_percent], axis=1)\n",
        "  \n",
        "  # Rename the columns\n",
        "  mis_val_table_ren_columns = mis_val_table.rename(\n",
        "  columns = {0 : 'Missing Values', 1 : '% of Total Values'})\n",
        "  \n",
        "  # Sort the table by percentage of missing descending\n",
        "  mis_val_table_ren_columns = mis_val_table_ren_columns[\n",
        "      mis_val_table_ren_columns.iloc[:,1] != 0].sort_values(\n",
        "  '% of Total Values', ascending=False).round(1)\n",
        "  \n",
        "  # Print some summary information\n",
        "  print (\"Your selected dataframe has \" + str(df.shape[1]) + \" columns.\\n\"      \n",
        "      \"There are \" + str(mis_val_table_ren_columns.shape[0]) +\n",
        "        \" columns that have missing values.\")\n",
        "\n",
        "  # Return the dataframe with missing information\n",
        "  return mis_val_table_ren_columns\n",
        "\n",
        "# Missing values statistics\n",
        "missing_values = missing_values_table(test_df)\n",
        "missing_values"
      ],
      "metadata": {
        "colab": {
          "base_uri": "https://localhost:8080/",
          "height": 366
        },
        "id": "oKRf6FxdzZMM",
        "outputId": "1fb83e75-3fb8-4f7c-f263-71771cfb6340"
      },
      "execution_count": null,
      "outputs": [
        {
          "output_type": "stream",
          "name": "stdout",
          "text": [
            "Your selected dataframe has 15 columns.\n",
            "There are 9 columns that have missing values.\n"
          ]
        },
        {
          "output_type": "execute_result",
          "data": {
            "text/plain": [
              "                         Missing Values  % of Total Values\n",
              "ARO2-LIMS-S907@Water               1146               69.2\n",
              "ARO2-LIMS-S905@Water               1145               69.1\n",
              "ARO2-LIMS-S708@Sulfur              1138               68.7\n",
              "ARO2-LIMS-s919@A9                  1138               68.7\n",
              "ARO2-LIMS-s919@A10+                1137               68.6\n",
              "ARO2-LIMS-S708@Br.Index            1132               68.3\n",
              "ARO2-LIMS-S708@Water                121                7.3\n",
              "ARO2-LIMS-S708@A10+                 102                6.2\n",
              "ARO2-LIMS-S708@A9                    76                4.6"
            ],
            "text/html": [
              "\n",
              "  <div id=\"df-0f4d5c00-7e0f-41d1-bf39-1191ff8c517b\">\n",
              "    <div class=\"colab-df-container\">\n",
              "      <div>\n",
              "<style scoped>\n",
              "    .dataframe tbody tr th:only-of-type {\n",
              "        vertical-align: middle;\n",
              "    }\n",
              "\n",
              "    .dataframe tbody tr th {\n",
              "        vertical-align: top;\n",
              "    }\n",
              "\n",
              "    .dataframe thead th {\n",
              "        text-align: right;\n",
              "    }\n",
              "</style>\n",
              "<table border=\"1\" class=\"dataframe\">\n",
              "  <thead>\n",
              "    <tr style=\"text-align: right;\">\n",
              "      <th></th>\n",
              "      <th>Missing Values</th>\n",
              "      <th>% of Total Values</th>\n",
              "    </tr>\n",
              "  </thead>\n",
              "  <tbody>\n",
              "    <tr>\n",
              "      <th>ARO2-LIMS-S907@Water</th>\n",
              "      <td>1146</td>\n",
              "      <td>69.2</td>\n",
              "    </tr>\n",
              "    <tr>\n",
              "      <th>ARO2-LIMS-S905@Water</th>\n",
              "      <td>1145</td>\n",
              "      <td>69.1</td>\n",
              "    </tr>\n",
              "    <tr>\n",
              "      <th>ARO2-LIMS-S708@Sulfur</th>\n",
              "      <td>1138</td>\n",
              "      <td>68.7</td>\n",
              "    </tr>\n",
              "    <tr>\n",
              "      <th>ARO2-LIMS-s919@A9</th>\n",
              "      <td>1138</td>\n",
              "      <td>68.7</td>\n",
              "    </tr>\n",
              "    <tr>\n",
              "      <th>ARO2-LIMS-s919@A10+</th>\n",
              "      <td>1137</td>\n",
              "      <td>68.6</td>\n",
              "    </tr>\n",
              "    <tr>\n",
              "      <th>ARO2-LIMS-S708@Br.Index</th>\n",
              "      <td>1132</td>\n",
              "      <td>68.3</td>\n",
              "    </tr>\n",
              "    <tr>\n",
              "      <th>ARO2-LIMS-S708@Water</th>\n",
              "      <td>121</td>\n",
              "      <td>7.3</td>\n",
              "    </tr>\n",
              "    <tr>\n",
              "      <th>ARO2-LIMS-S708@A10+</th>\n",
              "      <td>102</td>\n",
              "      <td>6.2</td>\n",
              "    </tr>\n",
              "    <tr>\n",
              "      <th>ARO2-LIMS-S708@A9</th>\n",
              "      <td>76</td>\n",
              "      <td>4.6</td>\n",
              "    </tr>\n",
              "  </tbody>\n",
              "</table>\n",
              "</div>\n",
              "      <button class=\"colab-df-convert\" onclick=\"convertToInteractive('df-0f4d5c00-7e0f-41d1-bf39-1191ff8c517b')\"\n",
              "              title=\"Convert this dataframe to an interactive table.\"\n",
              "              style=\"display:none;\">\n",
              "        \n",
              "  <svg xmlns=\"http://www.w3.org/2000/svg\" height=\"24px\"viewBox=\"0 0 24 24\"\n",
              "       width=\"24px\">\n",
              "    <path d=\"M0 0h24v24H0V0z\" fill=\"none\"/>\n",
              "    <path d=\"M18.56 5.44l.94 2.06.94-2.06 2.06-.94-2.06-.94-.94-2.06-.94 2.06-2.06.94zm-11 1L8.5 8.5l.94-2.06 2.06-.94-2.06-.94L8.5 2.5l-.94 2.06-2.06.94zm10 10l.94 2.06.94-2.06 2.06-.94-2.06-.94-.94-2.06-.94 2.06-2.06.94z\"/><path d=\"M17.41 7.96l-1.37-1.37c-.4-.4-.92-.59-1.43-.59-.52 0-1.04.2-1.43.59L10.3 9.45l-7.72 7.72c-.78.78-.78 2.05 0 2.83L4 21.41c.39.39.9.59 1.41.59.51 0 1.02-.2 1.41-.59l7.78-7.78 2.81-2.81c.8-.78.8-2.07 0-2.86zM5.41 20L4 18.59l7.72-7.72 1.47 1.35L5.41 20z\"/>\n",
              "  </svg>\n",
              "      </button>\n",
              "      \n",
              "  <style>\n",
              "    .colab-df-container {\n",
              "      display:flex;\n",
              "      flex-wrap:wrap;\n",
              "      gap: 12px;\n",
              "    }\n",
              "\n",
              "    .colab-df-convert {\n",
              "      background-color: #E8F0FE;\n",
              "      border: none;\n",
              "      border-radius: 50%;\n",
              "      cursor: pointer;\n",
              "      display: none;\n",
              "      fill: #1967D2;\n",
              "      height: 32px;\n",
              "      padding: 0 0 0 0;\n",
              "      width: 32px;\n",
              "    }\n",
              "\n",
              "    .colab-df-convert:hover {\n",
              "      background-color: #E2EBFA;\n",
              "      box-shadow: 0px 1px 2px rgba(60, 64, 67, 0.3), 0px 1px 3px 1px rgba(60, 64, 67, 0.15);\n",
              "      fill: #174EA6;\n",
              "    }\n",
              "\n",
              "    [theme=dark] .colab-df-convert {\n",
              "      background-color: #3B4455;\n",
              "      fill: #D2E3FC;\n",
              "    }\n",
              "\n",
              "    [theme=dark] .colab-df-convert:hover {\n",
              "      background-color: #434B5C;\n",
              "      box-shadow: 0px 1px 3px 1px rgba(0, 0, 0, 0.15);\n",
              "      filter: drop-shadow(0px 1px 2px rgba(0, 0, 0, 0.3));\n",
              "      fill: #FFFFFF;\n",
              "    }\n",
              "  </style>\n",
              "\n",
              "      <script>\n",
              "        const buttonEl =\n",
              "          document.querySelector('#df-0f4d5c00-7e0f-41d1-bf39-1191ff8c517b button.colab-df-convert');\n",
              "        buttonEl.style.display =\n",
              "          google.colab.kernel.accessAllowed ? 'block' : 'none';\n",
              "\n",
              "        async function convertToInteractive(key) {\n",
              "          const element = document.querySelector('#df-0f4d5c00-7e0f-41d1-bf39-1191ff8c517b');\n",
              "          const dataTable =\n",
              "            await google.colab.kernel.invokeFunction('convertToInteractive',\n",
              "                                                     [key], {});\n",
              "          if (!dataTable) return;\n",
              "\n",
              "          const docLinkHtml = 'Like what you see? Visit the ' +\n",
              "            '<a target=\"_blank\" href=https://colab.research.google.com/notebooks/data_table.ipynb>data table notebook</a>'\n",
              "            + ' to learn more about interactive tables.';\n",
              "          element.innerHTML = '';\n",
              "          dataTable['output_type'] = 'display_data';\n",
              "          await google.colab.output.renderOutput(dataTable, element);\n",
              "          const docLink = document.createElement('div');\n",
              "          docLink.innerHTML = docLinkHtml;\n",
              "          element.appendChild(docLink);\n",
              "        }\n",
              "      </script>\n",
              "    </div>\n",
              "  </div>\n",
              "  "
            ]
          },
          "metadata": {},
          "execution_count": 165
        }
      ]
    },
    {
      "cell_type": "code",
      "source": [
        "from sklearn.impute import KNNImputer \n",
        " \n",
        "imputer = KNNImputer(n_neighbors=3) \n",
        "imputed = imputer.fit_transform(df[[\"Unnamed: 0\", \"ARO2-DCS-FI91601\", \"ARO2-LIMS-S708@Br.Index\", \"ARO2-LIMS-S708@A9\", \"ARO2-LIMS-S708@A10+\",\n",
        "           \"ARO2-LIMS-S708@Water\", \"ARO2-LIMS-S708@Sulfur\", \"ARO2-LIMS-s919@A9\", \"ARO2-LIMS-s919@A10+\",\n",
        "           \"ARO2-LIMS-S905@Water\", \"ARO2-LIMS-S907@Water\", \"ARO2-DCS-R911_2_A_FA\", \"ARO2-DCS-R911_2_L2_A\"]]) \n",
        "df_imputed = pd.DataFrame(imputed, columns=[\"Unnamed: 0\", \"ARO2-DCS-FI91601\", \"ARO2-LIMS-S708@Br.Index\", \"ARO2-LIMS-S708@A9\", \"ARO2-LIMS-S708@A10+\",\n",
        "           \"ARO2-LIMS-S708@Water\", \"ARO2-LIMS-S708@Sulfur\", \"ARO2-LIMS-s919@A9\", \"ARO2-LIMS-s919@A10+\",\n",
        "           \"ARO2-LIMS-S905@Water\", \"ARO2-LIMS-S907@Water\", \"ARO2-DCS-R911_2_A_FA\", \"ARO2-DCS-R911_2_L2_A\"])\n",
        "df_imputed"
      ],
      "metadata": {
        "id": "36FXYWdBns6f"
      },
      "execution_count": null,
      "outputs": []
    },
    {
      "cell_type": "code",
      "source": [
        "df = df_imputed.join(df[\"ARO2-LIMS-s922@MX\"])"
      ],
      "metadata": {
        "id": "arj9oUJcqGTD"
      },
      "execution_count": null,
      "outputs": []
    },
    {
      "cell_type": "code",
      "source": [
        "for i in range(len(df)-1):\n",
        "  df.loc[i+8, \"btw_t\"] = df[\"Unnamed: 0\"][i+8] - df[\"Unnamed: 0\"][i]\n",
        "  df.loc[i+8, \"btw_ARO2-LIMS-s922@MX\"] = df[\"ARO2-LIMS-s922@MX\"][i+8] - df[\"ARO2-LIMS-s922@MX\"][i]\n",
        "\n",
        "df"
      ],
      "metadata": {
        "id": "hMCvCtb1P-k7"
      },
      "execution_count": null,
      "outputs": []
    },
    {
      "cell_type": "code",
      "source": [
        "# [\"Unnamed: 0\", \"ARO2-LIMS-s922@MX\", \"ARO2-DCS-FI91601\", \"ARO2-LIMS-S708@Br.Index\", \"ARO2-LIMS-S708@A9\", \"ARO2-LIMS-S708@A10+\",\n",
        "#            \"ARO2-LIMS-S708@Water\", \"ARO2-LIMS-S708@Sulfur\", \"ARO2-LIMS-s919@A9\", \"ARO2-LIMS-s919@A10+\",\n",
        "#            \"ARO2-LIMS-S905@Water\", \"ARO2-LIMS-S907@Water\", \"ARO2-DCS-R911_2_A_FA\", \"ARO2-DCS-R911_2_L2_A\"]]\n",
        "test_df = df.loc[df[\"btw_ARO2-LIMS-s922@MX\"] > 0, [\"btw_ARO2-LIMS-s922@MX\", \"btw_t\", \"ARO2-DCS-FI91601\", \"ARO2-LIMS-S708@Br.Index\", \"ARO2-LIMS-S708@A9\", \"ARO2-LIMS-S708@A10+\",\n",
        "           \"ARO2-LIMS-S708@Water\", \"ARO2-LIMS-S708@Sulfur\", \"ARO2-LIMS-s919@A9\", \"ARO2-LIMS-s919@A10+\",\n",
        "           \"ARO2-LIMS-S905@Water\", \"ARO2-LIMS-S907@Water\", \"ARO2-DCS-R911_2_A_FA\", \"ARO2-DCS-R911_2_L2_A\"]].reset_index()\n",
        "# test_df['ARO2-DCS-FI91601'].fillna(method='ffill', inplace=True)\n",
        "# test_df['ARO2-LIMS-S708@Br.Index'].fillna(method='ffill', inplace=True)\n",
        "# test_df['ARO2-LIMS-S708@A9'].fillna(method='ffill', inplace=True)\n",
        "# test_df['ARO2-LIMS-S708@A10+'].fillna(method='ffill', inplace=True)\n",
        "# test_df['ARO2-LIMS-S708@Water'].fillna(method='ffill', inplace=True)\n",
        "# test_df['ARO2-LIMS-S708@Sulfur'].fillna(method='ffill', inplace=True)\n",
        "# test_df['ARO2-LIMS-s919@A9'].fillna(method='ffill', inplace=True)\n",
        "# test_df['ARO2-LIMS-s919@A10+'].fillna(method='ffill', inplace=True)\n",
        "# test_df['ARO2-LIMS-S905@Water'].fillna(method='ffill', inplace=True)\n",
        "# test_df['ARO2-LIMS-S907@Water'].fillna(method='ffill', inplace=True)\n",
        "# test_df['ARO2-DCS-R911_2_A_FA'].fillna(method='ffill', inplace=True)\n",
        "# test_df['ARO2-DCS-R911_2_L2_A'].fillna(method='ffill', inplace=True)\n",
        "# test_df['ARO2-DCS-FI91601'].fillna(method='bfill', inplace=True)\n",
        "# test_df['ARO2-LIMS-S708@Br.Index'].fillna(method='bfill', inplace=True)\n",
        "# test_df['ARO2-LIMS-S708@A9'].fillna(method='bfill', inplace=True)\n",
        "# test_df['ARO2-LIMS-S708@A10+'].fillna(method='bfill', inplace=True)\n",
        "# test_df['ARO2-LIMS-S708@Water'].fillna(method='bfill', inplace=True)\n",
        "# test_df['ARO2-LIMS-S708@Sulfur'].fillna(method='bfill', inplace=True)\n",
        "# test_df['ARO2-LIMS-s919@A9'].fillna(method='bfill', inplace=True)\n",
        "# test_df['ARO2-LIMS-s919@A10+'].fillna(method='bfill', inplace=True)\n",
        "# test_df['ARO2-LIMS-S905@Water'].fillna(method='bfill', inplace=True)\n",
        "# test_df['ARO2-LIMS-S907@Water'].fillna(method='bfill', inplace=True)\n",
        "# test_df['ARO2-DCS-R911_2_A_FA'].fillna(method='bfill', inplace=True)\n",
        "# test_df['ARO2-DCS-R911_2_L2_A'].fillna(method='bfill', inplace=True)"
      ],
      "metadata": {
        "id": "7x2-Exlwo_xU"
      },
      "execution_count": null,
      "outputs": []
    },
    {
      "cell_type": "code",
      "source": [
        "N = 0\n",
        "for i in range(len(test_df)):\n",
        "  if test_df[\"index\"][i+1] == test_df[\"index\"][i]+8:\n",
        "    N = N + 1\n",
        "  else:\n",
        "    N = N + 1\n",
        "    test_df.loc[i+1-N, \"time\"] = N\n",
        "    test_df.loc[i+1-N, \"sum_ARO2-LIMS-s922@MX\"] = test_df.loc[i+1-N:i, \"btw_ARO2-LIMS-s922@MX\"].sum()\n",
        "    N = 0"
      ],
      "metadata": {
        "id": "cbDm3aN0pkd8"
      },
      "execution_count": null,
      "outputs": []
    },
    {
      "cell_type": "code",
      "source": [
        "# [\"Unnamed: 0\", \"ARO2-LIMS-s922@MX\", \"ARO2-DCS-FI91601\", \"ARO2-LIMS-S708@Br.Index\", \"ARO2-LIMS-S708@A9\", \"ARO2-LIMS-S708@A10+\",\n",
        "#            \"ARO2-LIMS-S708@Water\", \"ARO2-LIMS-S708@Sulfur\", \"ARO2-LIMS-s919@A9\", \"ARO2-LIMS-s919@A10+\",\n",
        "#            \"ARO2-LIMS-S905@Water\", \"ARO2-LIMS-S907@Water\", \"ARO2-DCS-R911_2_A_FA\", \"ARO2-DCS-R911_2_L2_A\"]]\n",
        "\n",
        "\n",
        "row = test_df[test_df[\"time\"].notnull()].index.tolist()\n",
        "for i in range(len(row)):\n",
        "  test_df.loc[row[i], \"mean_ARO2-DCS-FI91601\"] = test_df.loc[row[i]:row[i+1], \"ARO2-DCS-FI91601\"].mean()\n",
        "  test_df.loc[row[i], \"mean_ARO2-LIMS-S708@Br.Index\"] = test_df.loc[row[i]:row[i+1], \"ARO2-LIMS-S708@Br.Index\"].mean()\n",
        "  test_df.loc[row[i], \"mean_ARO2-LIMS-S708@A9\"] = test_df.loc[row[i]:row[i+1], \"ARO2-LIMS-S708@A9\"].mean()\n",
        "  test_df.loc[row[i], \"mean_ARO2-LIMS-S708@A10+\"] = test_df.loc[row[i]:row[i+1], \"ARO2-LIMS-S708@A10+\"].mean()\n",
        "  test_df.loc[row[i], \"mean_ARO2-LIMS-S708@Water\"] = test_df.loc[row[i]:row[i+1], \"ARO2-LIMS-S708@Water\"].mean()\n",
        "  test_df.loc[row[i], \"mean_ARO2-LIMS-S708@Sulfur\"] = test_df.loc[row[i]:row[i+1], \"ARO2-LIMS-S708@Sulfur\"].mean()\n",
        "  test_df.loc[row[i], \"mean_ARO2-LIMS-s919@A9\"] = test_df.loc[row[i]:row[i+1], \"ARO2-LIMS-s919@A9\"].mean()\n",
        "  test_df.loc[row[i], \"mean_ARO2-LIMS-s919@A10+\"] = test_df.loc[row[i]:row[i+1], \"ARO2-LIMS-s919@A10+\"].mean()\n",
        "  test_df.loc[row[i], \"mean_ARO2-LIMS-S905@Water\"] = test_df.loc[row[i]:row[i+1], \"ARO2-LIMS-S905@Water\"].mean()\n",
        "  test_df.loc[row[i], \"mean_ARO2-LIMS-S907@Water\"] = test_df.loc[row[i]:row[i+1], \"ARO2-LIMS-S907@Water\"].mean()\n",
        "  test_df.loc[row[i], \"mean_ARO2-DCS-R911_2_A_FA\"] = test_df.loc[row[i]:row[i+1], \"ARO2-DCS-R911_2_A_FA\"].mean()\n",
        "  test_df.loc[row[i], \"mean_ARO2-DCS-R911_2_L2_A\"] = test_df.loc[row[i]:row[i+1], \"ARO2-DCS-R911_2_L2_A\"].mean()"
      ],
      "metadata": {
        "id": "nspJnGIyJoy2"
      },
      "execution_count": null,
      "outputs": []
    },
    {
      "cell_type": "code",
      "source": [
        "test = test_df.loc[test_df[\"sum_ARO2-LIMS-s922@MX\"] < 200]"
      ],
      "metadata": {
        "id": "a0ecTtVAMz5o"
      },
      "execution_count": null,
      "outputs": []
    },
    {
      "cell_type": "code",
      "source": [
        "liner_df = test[test[\"time\"].notnull()]\n",
        "liner_df[\"time\"] = liner_df[\"time\"] * 8\n",
        "liner_df = liner_df.dropna()"
      ],
      "metadata": {
        "id": "hxMg7ik9QVj-"
      },
      "execution_count": null,
      "outputs": []
    },
    {
      "cell_type": "code",
      "source": [
        "# importing train_test_split from sklearn\n",
        "from sklearn.linear_model import LinearRegression\n",
        "from sklearn.model_selection import train_test_split\n",
        "from sklearn.metrics import r2_score\n",
        "from sklearn.metrics import mean_squared_error\n",
        "\n",
        "# splitting the data\n",
        "x_train, x_test, y_train, y_test = train_test_split(liner_df[[\"time\", \"mean_ARO2-DCS-FI91601\", \"mean_ARO2-LIMS-S708@Br.Index\", \"mean_ARO2-LIMS-S708@A9\", \"mean_ARO2-LIMS-S708@A10+\", \n",
        "                                                              \"mean_ARO2-LIMS-S708@Water\", \"mean_ARO2-LIMS-S708@Sulfur\", \"mean_ARO2-LIMS-s919@A9\", \"mean_ARO2-LIMS-s919@A10+\",\n",
        "                                                              \"mean_ARO2-LIMS-S905@Water\", \"mean_ARO2-LIMS-S907@Water\", \"mean_ARO2-DCS-R911_2_A_FA\", \"mean_ARO2-DCS-R911_2_L2_A\"]], liner_df[\"sum_ARO2-LIMS-s922@MX\"], test_size = 0.2, random_state = 42)\n",
        "# x_train, x_test, y_train, y_test = train_test_split(liner_df[[\"time\", \"mean_ARO2-DCS-FI91601\"]], liner_df[\"mean_ARO2-DCS-PDI91101\"], test_size = 0.2, random_state = 42)\n",
        "\n",
        "\n",
        "LR = LinearRegression()\n",
        "LR.fit(x_train,y_train)\n",
        "y_prediction =  LR.predict(x_test)"
      ],
      "metadata": {
        "id": "7QQu0iWNQz-D"
      },
      "execution_count": null,
      "outputs": []
    },
    {
      "cell_type": "code",
      "source": [
        "# predicting the accuracy score\n",
        "score=r2_score(y_test, y_prediction)\n",
        "print(\"r2 socre:\",score)\n",
        "print(\"mean_sqrd_error:\",mean_squared_error(y_test,y_prediction))\n",
        "print(\"root_mean_squared error:\",np.sqrt(mean_squared_error(y_test,y_prediction)))"
      ],
      "metadata": {
        "colab": {
          "base_uri": "https://localhost:8080/"
        },
        "id": "Ms9FDYK6R8cJ",
        "outputId": "ade0319b-7c6a-46e1-cf22-582ea31a0115"
      },
      "execution_count": null,
      "outputs": [
        {
          "output_type": "stream",
          "name": "stdout",
          "text": [
            "r2 socre: 0.1534258330550805\n",
            "mean_sqrd_error: 280.42227502176354\n",
            "root_mean_squared error: 16.745813656605748\n"
          ]
        }
      ]
    },
    {
      "cell_type": "code",
      "source": [
        "print(\"Model slope:    \", LR.coef_)\n",
        "print(\"Model intercept:\", LR.intercept_)"
      ],
      "metadata": {
        "colab": {
          "base_uri": "https://localhost:8080/"
        },
        "id": "zB1CNVfSTl32",
        "outputId": "07e2d8d6-21da-4670-fa92-01c37e9cf2ba"
      },
      "execution_count": null,
      "outputs": [
        {
          "output_type": "stream",
          "name": "stdout",
          "text": [
            "Model slope:     [ 1.11633010e+00 -1.88227978e-01  5.52349541e-02 -1.83166023e+02\n",
            " -8.35964278e+02  9.28512108e-02  8.71219458e+00  5.80380862e-03\n",
            "  5.84738333e-03 -1.15160676e-01  1.05402020e-01 -4.78245806e-01\n",
            "  8.37377101e+01]\n",
            "Model intercept: 50.88941920002381\n"
          ]
        }
      ]
    },
    {
      "cell_type": "code",
      "source": [
        "\"\"\" \n",
        "R911 = 0.00020522 * time + -0.00100263 * mean_ARO2-DCS-FI91601 + 0.00033328 * mean_ARO2-LIMS-S905@Water \n",
        "     + 0.00058329 * mean_ARO2-LIMS-S907@Water + 0.5846349992679343\n",
        "\"\"\""
      ],
      "metadata": {
        "id": "UfO4CrZKT942",
        "colab": {
          "base_uri": "https://localhost:8080/",
          "height": 35
        },
        "outputId": "706af807-6215-4e09-830a-3fe8aec655f0"
      },
      "execution_count": null,
      "outputs": [
        {
          "output_type": "execute_result",
          "data": {
            "text/plain": [
              "' \\nR911 = 0.00020522 * time + -0.00100263 * mean_ARO2-DCS-FI91601 + 0.00033328 * mean_ARO2-LIMS-S905@Water \\n     + 0.00058329 * mean_ARO2-LIMS-S907@Water + 0.5846349992679343\\n'"
            ],
            "application/vnd.google.colaboratory.intrinsic+json": {
              "type": "string"
            }
          },
          "metadata": {},
          "execution_count": 143
        }
      ]
    },
    {
      "cell_type": "markdown",
      "source": [
        "Lasso"
      ],
      "metadata": {
        "id": "oIlNlB1Nxrzv"
      }
    },
    {
      "cell_type": "code",
      "source": [
        "# importing train_test_split from sklearn\n",
        "from sklearn import linear_model\n",
        "from sklearn.model_selection import train_test_split\n",
        "from sklearn.metrics import r2_score\n",
        "from sklearn.metrics import mean_squared_error\n",
        "\n",
        "# splitting the data\n",
        "x_train, x_test, y_train, y_test = train_test_split(liner_df[[\"time\", \"mean_ARO2-DCS-FI91601\", \"mean_ARO2-LIMS-S708@Br.Index\", \"mean_ARO2-LIMS-S708@A9\", \"mean_ARO2-LIMS-S708@A10+\", \n",
        "                                                              \"mean_ARO2-LIMS-S708@Water\", \"mean_ARO2-LIMS-S708@Sulfur\", \"mean_ARO2-LIMS-s919@A9\", \"mean_ARO2-LIMS-s919@A10+\",\n",
        "                                                              \"mean_ARO2-LIMS-S905@Water\", \"mean_ARO2-LIMS-S907@Water\", \"mean_ARO2-DCS-R911_2_A_FA\", \"mean_ARO2-DCS-R911_2_L2_A\"]], liner_df[\"sum_ARO2-LIMS-s922@MX\"], test_size = 0.2, random_state = 42)\n",
        "# x_train, x_test, y_train, y_test = train_test_split(liner_df[[\"time\", \"mean_ARO2-DCS-FI91601\"]], liner_df[\"mean_ARO2-DCS-PDI91101\"], test_size = 0.2, random_state = 42)\n",
        "\n",
        "clf_lasso = linear_model.Lasso(alpha=0.1)\n",
        "clf_lasso.fit(x_train,y_train)\n",
        "y_prediction =  clf_lasso.predict(x_test)"
      ],
      "metadata": {
        "id": "AtRVrrYbxuBq"
      },
      "execution_count": null,
      "outputs": []
    },
    {
      "cell_type": "code",
      "source": [
        "# predicting the accuracy score\n",
        "score=r2_score(y_test, y_prediction)\n",
        "print(\"r2 socre:\",score)\n",
        "print(\"mean_sqrd_error:\",mean_squared_error(y_test,y_prediction))\n",
        "print(\"root_mean_squared error:\",np.sqrt(mean_squared_error(y_test,y_prediction)))"
      ],
      "metadata": {
        "colab": {
          "base_uri": "https://localhost:8080/"
        },
        "id": "6XGsYs8NyBsa",
        "outputId": "034f77cb-0fe6-4631-b308-96d26757167c"
      },
      "execution_count": null,
      "outputs": [
        {
          "output_type": "stream",
          "name": "stdout",
          "text": [
            "r2 socre: 0.14520729628404427\n",
            "mean_sqrd_error: 283.14461273140677\n",
            "root_mean_squared error: 16.826901459609452\n"
          ]
        }
      ]
    },
    {
      "cell_type": "code",
      "source": [
        "print(\"Model slope:    \", clf_lasso.coef_)\n",
        "print(\"Model intercept:\", clf_lasso.intercept_)"
      ],
      "metadata": {
        "colab": {
          "base_uri": "https://localhost:8080/"
        },
        "id": "ImWlcZPAy0CM",
        "outputId": "aa9028a4-f0b4-4efd-a43c-506ddc2e9c47"
      },
      "execution_count": null,
      "outputs": [
        {
          "output_type": "stream",
          "name": "stdout",
          "text": [
            "Model slope:     [ 1.10799054 -0.19620145  0.05644725 -0.         -0.          0.08574915\n",
            "  0.          0.00572726  0.00331145 -0.13105218  0.08853331  0.\n",
            "  0.        ]\n",
            "Model intercept: 97.88612806898132\n"
          ]
        }
      ]
    },
    {
      "cell_type": "code",
      "source": [
        "from sklearn.pipeline import make_pipeline\n",
        "from sklearn.preprocessing import PolynomialFeatures\n",
        "\n",
        "x_train, x_test, y_train, y_test = train_test_split(liner_df[[\"time\", \"mean_ARO2-DCS-FI91601\", \"mean_ARO2-LIMS-S708@Br.Index\", \"mean_ARO2-LIMS-S708@A9\", \"mean_ARO2-LIMS-S708@A10+\", \n",
        "                                  \"mean_ARO2-LIMS-S708@Water\", \"mean_ARO2-LIMS-S708@Sulfur\", \"mean_ARO2-LIMS-s919@A9\", \"mean_ARO2-LIMS-s919@A10+\",\n",
        "                                  \"mean_ARO2-LIMS-S905@Water\", \"mean_ARO2-LIMS-S907@Water\", \"mean_ARO2-DCS-R911_2_A_FA\", \"mean_ARO2-DCS-R911_2_L2_A\"]], liner_df[\"sum_ARO2-LIMS-s922@MX\"], test_size = 0.2, random_state = 42)\n",
        "# x_train, x_test, y_train, y_test = train_test_split(liner_df[[\"time\", \"mean_ARO2-DCS-FI91601\"]], liner_df[\"mean_ARO2-DCS-PDI91101\"], test_size = 0.2, random_state = 42)\n",
        "\n",
        "model = make_pipeline(PolynomialFeatures(1),linear_model.LinearRegression())\n",
        "model.fit(x_train,y_train)\n",
        "y_prediction = model.predict(x_test)"
      ],
      "metadata": {
        "id": "y5JDYDNhrXQP"
      },
      "execution_count": null,
      "outputs": []
    },
    {
      "cell_type": "code",
      "source": [
        "# predicting the accuracy score\n",
        "score = r2_score(y_test, y_prediction)\n",
        "print(\"r2 socre is \",score)\n",
        "print(\"mean_sqrd_error is==\",mean_squared_error(y_test,y_prediction))\n",
        "print(\"root_mean_squared error of is==\",np.sqrt(mean_squared_error(y_test,y_prediction)))"
      ],
      "metadata": {
        "colab": {
          "base_uri": "https://localhost:8080/"
        },
        "id": "8cayxKemrZpU",
        "outputId": "7bfa5265-38ea-4ac4-d47f-acb6fd0f793a"
      },
      "execution_count": null,
      "outputs": [
        {
          "output_type": "stream",
          "name": "stdout",
          "text": [
            "r2 socre is  0.15342583305504154\n",
            "mean_sqrd_error is== 280.42227502177644\n",
            "root_mean_squared error of is== 16.74581365660613\n"
          ]
        }
      ]
    },
    {
      "cell_type": "code",
      "source": [
        "print(\"Model degree:    \", model.steps[0][1])\n",
        "print(\"Model slope:    \", model.steps[1][1].coef_)\n",
        "print(\"Model intercept:\", model.steps[1][1].intercept_)"
      ],
      "metadata": {
        "colab": {
          "base_uri": "https://localhost:8080/"
        },
        "id": "vY1uUMnTu2lT",
        "outputId": "84eace2e-ae53-42fe-a6b4-972816bc6aa7"
      },
      "execution_count": null,
      "outputs": [
        {
          "output_type": "stream",
          "name": "stdout",
          "text": [
            "Model degree:     PolynomialFeatures(degree=1)\n",
            "Model slope:     [ 0.00000000e+00  1.11633010e+00 -1.88227978e-01  5.52349541e-02\n",
            " -1.83166023e+02 -8.35964278e+02  9.28512108e-02  8.71219458e+00\n",
            "  5.80380862e-03  5.84738333e-03 -1.15160676e-01  1.05402020e-01\n",
            " -4.78245806e-01  8.37377101e+01]\n",
            "Model intercept: 50.889419199939354\n"
          ]
        }
      ]
    },
    {
      "cell_type": "code",
      "source": [
        "import matplotlib.pyplot as plt\n",
        "plt.figure(figsize=(20,10))   # 顯示圖框架大小\n",
        "\n",
        "plt.style.use(\"ggplot\")     # 使用ggplot主題樣式\n",
        "plt.xlabel(\"time\", fontweight = \"bold\")                  #設定x座標標題及粗體\n",
        "plt.ylabel(\"sum MX\", fontweight = \"bold\")   #設定y座標標題及粗體=\n",
        "\n",
        "plt.scatter(liner_df[\"time\"],                    # x軸資料\n",
        "      liner_df[\"sum_ARO2-LIMS-s922@MX\"],     # y軸資料\n",
        "      c = \"m\",                                  # 點顏色\n",
        "      s = 50,                                   # 點大小\n",
        "      alpha = .5,                               # 透明度\n",
        "      marker = \"D\")                             # 點樣式"
      ],
      "metadata": {
        "colab": {
          "base_uri": "https://localhost:8080/",
          "height": 626
        },
        "id": "2maS99mrIGoK",
        "outputId": "289bca3b-91b2-4567-d079-1f282d537fd6"
      },
      "execution_count": null,
      "outputs": [
        {
          "output_type": "execute_result",
          "data": {
            "text/plain": [
              "<matplotlib.collections.PathCollection at 0x7f6824a35650>"
            ]
          },
          "metadata": {},
          "execution_count": 167
        },
        {
          "output_type": "display_data",
          "data": {
            "text/plain": [
              "<Figure size 1440x720 with 1 Axes>"
            ],
            "image/png": "[encoded data removed]"
          },
          "metadata": {}
        }
      ]
    }
  ]
}